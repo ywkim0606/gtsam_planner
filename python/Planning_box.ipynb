{
 "cells": [
  {
   "cell_type": "markdown",
   "metadata": {},
   "source": [
    "# Planning Notebook"
   ]
  },
  {
   "cell_type": "code",
   "execution_count": 77,
   "metadata": {},
   "outputs": [],
   "source": [
    "import math\n",
    "import unittest\n",
    "import numpy as np\n",
    "from itertools import product\n",
    "import tqdm\n",
    "from tqdm import tqdm_notebook\n",
    "import copy\n",
    "import pickle\n",
    "import time\n",
    "\n",
    "# import gtsam\n",
    "import gtsam\n",
    "from gtsam import *\n",
    "from gtsam.utils.test_case import GtsamTestCase\n",
    "\n",
    "# import gtbook\n",
    "import gtbook\n",
    "from gtbook.display import *\n",
    "from gtbook.discrete import *\n",
    "\n",
    "# import local package\n",
    "import gtsam_planner\n",
    "from gtsam_planner import *\n",
    "\n",
    "# import parser\n",
    "import SASParser\n",
    "from SASParser import SAS, Operator\n",
    "\n",
    "import SasToGtsam\n",
    "from SasToGtsam import SASToGTSAM\n",
    "\n",
    "variables = Variables()\n",
    "def pretty(obj): \n",
    "    return gtbook.display.pretty(obj, variables)\n",
    "\n",
    "import graphviz\n",
    "class show(graphviz.Source):\n",
    "    \"\"\" Display an object with a dot method as a graph.\"\"\"\n",
    "\n",
    "    def __init__(self, obj):\n",
    "        \"\"\"Construct from object with 'dot' method.\"\"\"\n",
    "        # This small class takes an object, calls its dot function, and uses the\n",
    "        # resulting string to initialize a graphviz.Source instance. This in turn\n",
    "        # has a _repr_mimebundle_ method, which then renders it in the notebook.\n",
    "        super().__init__(obj.dot())"
   ]
  },
  {
   "cell_type": "code",
   "execution_count": 78,
   "metadata": {},
   "outputs": [],
   "source": [
    "sas = SAS()\n",
    "sas_dir = \"sas/block_example.sas\"\n",
    "sas.read_file(sas_dir)\n",
    "converter = SASToGTSAM(sas)"
   ]
  },
  {
   "cell_type": "code",
   "execution_count": 79,
   "metadata": {},
   "outputs": [],
   "source": [
    "# def plan(plan_length):\n",
    "#     for k in range(2, plan_length):\n",
    "#         print(k)\n",
    "#         states = []\n",
    "#         mutex_factors = []\n",
    "#         op_factors = []\n",
    "\n",
    "#         for i in range(k):\n",
    "#             # generate state\n",
    "#             state_t = converter.generate_state(i)\n",
    "#             states.append(state_t)\n",
    "#             # generate mutex factor for the state\n",
    "#             mutex_factor_t = converter.generate_mutex_factor(state_t)\n",
    "#             mutex_factors.append(mutex_factor_t)\n",
    "#         for j in range(len(states)-1):\n",
    "#             op_key = converter.generate_operator_key(j)\n",
    "#             op_factor = converter.generate_op_factor(states[j], states[j+1], op_key)\n",
    "#             op_factors.append(op_factor)\n",
    "#         initial_factor = converter.generate_initial_factor(states[0])\n",
    "#         goal_factor = converter.generate_goal_factor(states[-1])\n",
    "\n",
    "#         graph = gtsam.DiscreteFactorGraph()\n",
    "#         for m_factor in mutex_factors:\n",
    "#             for f in m_factor:\n",
    "#                 graph.push_back(f)\n",
    "\n",
    "#         graph.push_back(goal_factor)\n",
    "#         graph.push_back(initial_factor)\n",
    "\n",
    "#         for op_factor in op_factors:\n",
    "#             graph.push_back(op_factor)\n",
    "\n",
    "#         val = graph.optimize()\n",
    "#         if graph(val) == 0.0:\n",
    "#             del graph\n",
    "#             continue\n",
    "#         else:\n",
    "#             return graph, val, k\n",
    "#     return \"longer plan length?\""
   ]
  },
  {
   "cell_type": "code",
   "execution_count": 80,
   "metadata": {},
   "outputs": [
    {
     "name": "stdout",
     "output_type": "stream",
     "text": [
      "time taken: 59.52446484565735\n"
     ]
    }
   ],
   "source": [
    "start = time.time()\n",
    "k = 7\n",
    "states = []\n",
    "mutex_factors = []\n",
    "op_factors = []\n",
    "frame_factors = []\n",
    "for i in range(k):\n",
    "    # generate state\n",
    "    state_t = converter.generate_state(i)\n",
    "    states.append(state_t)\n",
    "    # generate mutex factor for the state\n",
    "    mutex_factor_t = converter.generate_mutex_factor(state_t)\n",
    "    mutex_factors.append(mutex_factor_t)\n",
    "for j in range(len(states)-1):\n",
    "    op_key = converter.generate_operator_key(j)\n",
    "    op_factor, frame_factor = converter.generate_frame_op_factor(states[j], states[j+1], op_key)\n",
    "    op_factors.append(op_factor)\n",
    "    frame_factors.append(frame_factor)\n",
    "initial_factor = converter.generate_initial_factor(states[0])\n",
    "goal_factor = converter.generate_goal_factor(states[-1])\n",
    "\n",
    "graph = gtsam.DiscreteFactorGraph()\n",
    "for m_factor in mutex_factors:\n",
    "    for f in m_factor:\n",
    "        graph.push_back(f)\n",
    "\n",
    "graph.push_back(goal_factor)\n",
    "graph.push_back(initial_factor)\n",
    "\n",
    "for op_factor in op_factors:\n",
    "    graph.push_back(op_factor)\n",
    "\n",
    "for frame_factor in frame_factors:\n",
    "    graph.push_back(frame_factor)\n",
    "\n",
    "val = graph.optimize()\n",
    "end = time.time()\n",
    "assert graph(val) == 1\n",
    "print(\"time taken:\", end - start)"
   ]
  },
  {
   "cell_type": "code",
   "execution_count": 81,
   "metadata": {},
   "outputs": [],
   "source": [
    "# graph, val, k = plan(12)"
   ]
  },
  {
   "cell_type": "code",
   "execution_count": 82,
   "metadata": {},
   "outputs": [
    {
     "name": "stdout",
     "output_type": "stream",
     "text": [
      "\n",
      "size: 49\n",
      "factor 0: MutexConstraint on 139 138 144 145 146 \n",
      "factor 1: MutexConstraint on 140 138 144 145 146 \n",
      "factor 2: MutexConstraint on 141 138 144 145 146 \n",
      "factor 3: MutexConstraint on 142 138 144 145 146 \n",
      "factor 4: MutexConstraint on 143 138 144 145 146 \n",
      "factor 5: MutexConstraint on 148 147 153 154 155 \n",
      "factor 6: MutexConstraint on 149 147 153 154 155 \n",
      "factor 7: MutexConstraint on 150 147 153 154 155 \n",
      "factor 8: MutexConstraint on 151 147 153 154 155 \n",
      "factor 9: MutexConstraint on 152 147 153 154 155 \n",
      "factor 10: MutexConstraint on 157 156 162 163 164 \n",
      "factor 11: MutexConstraint on 158 156 162 163 164 \n",
      "factor 12: MutexConstraint on 159 156 162 163 164 \n",
      "factor 13: MutexConstraint on 160 156 162 163 164 \n",
      "factor 14: MutexConstraint on 161 156 162 163 164 \n",
      "factor 15: MutexConstraint on 166 165 171 172 173 \n",
      "factor 16: MutexConstraint on 167 165 171 172 173 \n",
      "factor 17: MutexConstraint on 168 165 171 172 173 \n",
      "factor 18: MutexConstraint on 169 165 171 172 173 \n",
      "factor 19: MutexConstraint on 170 165 171 172 173 \n",
      "factor 20: MutexConstraint on 175 174 180 181 182 \n",
      "factor 21: MutexConstraint on 176 174 180 181 182 \n",
      "factor 22: MutexConstraint on 177 174 180 181 182 \n",
      "factor 23: MutexConstraint on 178 174 180 181 182 \n",
      "factor 24: MutexConstraint on 179 174 180 181 182 \n",
      "factor 25: MutexConstraint on 184 183 189 190 191 \n",
      "factor 26: MutexConstraint on 185 183 189 190 191 \n",
      "factor 27: MutexConstraint on 186 183 189 190 191 \n",
      "factor 28: MutexConstraint on 187 183 189 190 191 \n",
      "factor 29: MutexConstraint on 188 183 189 190 191 \n",
      "factor 30: MutexConstraint on 193 192 198 199 200 \n",
      "factor 31: MutexConstraint on 194 192 198 199 200 \n",
      "factor 32: MutexConstraint on 195 192 198 199 200 \n",
      "factor 33: MutexConstraint on 196 192 198 199 200 \n",
      "factor 34: MutexConstraint on 197 192 198 199 200 \n",
      "factor 35: MultiValueConstraint on 198 199 200 \n",
      "factor 36: MultiValueConstraint on 138 139 140 141 142 143 144 145 146 \n",
      "factor 37: OperatorOrConstraint on j=201\n",
      "factor 38: OperatorOrConstraint on j=202\n",
      "factor 39: OperatorOrConstraint on j=203\n",
      "factor 40: OperatorOrConstraint on j=204\n",
      "factor 41: OperatorOrConstraint on j=205\n",
      "factor 42: OperatorOrConstraint on j=206\n",
      "factor 43: FrameConstraint on j=201\n",
      "factor 44: FrameConstraint on j=202\n",
      "factor 45: FrameConstraint on j=203\n",
      "factor 46: FrameConstraint on j=204\n",
      "factor 47: FrameConstraint on j=205\n",
      "factor 48: FrameConstraint on j=206\n",
      "\n"
     ]
    }
   ],
   "source": [
    "print(graph)"
   ]
  },
  {
   "cell_type": "code",
   "execution_count": 83,
   "metadata": {},
   "outputs": [
    {
     "data": {
      "text/plain": [
       "1.0"
      ]
     },
     "execution_count": 83,
     "metadata": {},
     "output_type": "execute_result"
    }
   ],
   "source": [
    "graph(val)"
   ]
  },
  {
   "cell_type": "code",
   "execution_count": 84,
   "metadata": {},
   "outputs": [
    {
     "name": "stdout",
     "output_type": "stream",
     "text": [
      "pick-up b\n",
      "stack b a\n",
      "pick-up c\n",
      "stack c b\n",
      "pick-up d\n",
      "stack d c\n"
     ]
    }
   ],
   "source": [
    "op_consts = []\n",
    "for i in range(graph.size()-1, graph.size()-k, -1):\n",
    "    op_consts.append(graph.at(i))\n",
    "val_list = []\n",
    "for op_const in reversed(op_consts):\n",
    "    print(converter.ops_names[val[op_const.operatorKey()]])"
   ]
  },
  {
   "cell_type": "code",
   "execution_count": null,
   "metadata": {},
   "outputs": [],
   "source": []
  }
 ],
 "metadata": {
  "kernelspec": {
   "display_name": "Python 3 (ipykernel)",
   "language": "python",
   "name": "python3"
  },
  "language_info": {
   "codemirror_mode": {
    "name": "ipython",
    "version": 3
   },
   "file_extension": ".py",
   "mimetype": "text/x-python",
   "name": "python",
   "nbconvert_exporter": "python",
   "pygments_lexer": "ipython3",
   "version": "3.9.7"
  }
 },
 "nbformat": 4,
 "nbformat_minor": 2
}
