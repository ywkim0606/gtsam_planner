{
 "cells": [
  {
   "cell_type": "markdown",
   "metadata": {},
   "source": [
    "# Planning Notebook"
   ]
  },
  {
   "cell_type": "code",
   "execution_count": 6,
   "metadata": {},
   "outputs": [],
   "source": [
    "import math\n",
    "import unittest\n",
    "import numpy as np\n",
    "from itertools import product\n",
    "import tqdm\n",
    "from tqdm import tqdm_notebook\n",
    "import copy\n",
    "import pickle\n",
    "import time\n",
    "\n",
    "# import gtsam\n",
    "import gtsam\n",
    "from gtsam import *\n",
    "from gtsam.utils.test_case import GtsamTestCase\n",
    "\n",
    "# import gtbook\n",
    "import gtbook\n",
    "from gtbook.display import *\n",
    "from gtbook.discrete import *\n",
    "\n",
    "# import local package\n",
    "import gtsam_planner\n",
    "from gtsam_planner import *\n",
    "\n",
    "# import parser\n",
    "import SASParser\n",
    "from SASParser import SAS, Operator\n",
    "from typing import List, Tuple, Callable, Dict, Iterable\n",
    "\n",
    "import SasToGtsam\n",
    "from SasToGtsam import SASToGTSAM\n",
    "\n",
    "DiscreteKey = Tuple[int, int]\n",
    "\n",
    "variables = Variables()\n",
    "def pretty(obj): \n",
    "    return gtbook.display.pretty(obj, variables)\n",
    "\n",
    "import graphviz\n",
    "class show(graphviz.Source):\n",
    "    \"\"\" Display an object with a dot method as a graph.\"\"\"\n",
    "\n",
    "    def __init__(self, obj):\n",
    "        \"\"\"Construct from object with 'dot' method.\"\"\"\n",
    "        # This small class takes an object, calls its dot function, and uses the\n",
    "        # resulting string to initialize a graphviz.Source instance. This in turn\n",
    "        # has a _repr_mimebundle_ method, which then renders it in the notebook.\n",
    "        super().__init__(obj.dot())"
   ]
  },
  {
   "cell_type": "code",
   "execution_count": 7,
   "metadata": {},
   "outputs": [],
   "source": [
    "sas = SAS()\n",
    "sas_dir = \"sas/gripper_example.sas\"\n",
    "sas.read_file(sas_dir)\n",
    "converter = SASToGTSAM(sas)"
   ]
  },
  {
   "cell_type": "code",
   "execution_count": 8,
   "metadata": {},
   "outputs": [],
   "source": [
    "# def plan(plan_length):\n",
    "#     for k in range(2, plan_length):\n",
    "#         print(k)\n",
    "#         states = []\n",
    "#         mutex_factors = []\n",
    "#         op_factors = []\n",
    "\n",
    "#         for i in range(k):\n",
    "#             # generate state\n",
    "#             state_t = converter.generate_state(i)\n",
    "#             states.append(state_t)\n",
    "#             # generate mutex factor for the state\n",
    "#             mutex_factor_t = converter.generate_mutex_factor(state_t)\n",
    "#             mutex_factors.append(mutex_factor_t)\n",
    "#         for j in range(len(states)-1):\n",
    "#             op_key = converter.generate_operator_key(j)\n",
    "#             op_factor = converter.generate_op_factor(states[j], states[j+1], op_key)\n",
    "#             op_factors.append(op_factor)\n",
    "#         initial_factor = converter.generate_initial_factor(states[0])\n",
    "#         goal_factor = converter.generate_goal_factor(states[-1])\n",
    "\n",
    "#         graph = gtsam.DiscreteFactorGraph()\n",
    "#         for m_factor in mutex_factors:\n",
    "#             for f in m_factor:\n",
    "#                 graph.push_back(f)\n",
    "\n",
    "#         graph.push_back(goal_factor)\n",
    "#         graph.push_back(initial_factor)\n",
    "\n",
    "#         for op_factor in op_factors:\n",
    "#             graph.push_back(op_factor)\n",
    "\n",
    "#         val = graph.optimize()\n",
    "#         if graph(val) == 0.0:\n",
    "#             del graph\n",
    "#             continue\n",
    "#         else:\n",
    "#             return graph, val, k\n",
    "#     return \"longer plan length?\""
   ]
  },
  {
   "cell_type": "code",
   "execution_count": null,
   "metadata": {},
   "outputs": [],
   "source": [
    "start = time.time()\n",
    "k = 2\n",
    "states = []\n",
    "mutex_factors = []\n",
    "op_factors = []\n",
    "frame_factors = []\n",
    "for i in range(k):\n",
    "    # generate state\n",
    "    state_t = converter.generate_state(i)\n",
    "    states.append(state_t)\n",
    "    # generate mutex factor for the state\n",
    "    mutex_factor_t = converter.generate_mutex_factor(state_t)\n",
    "    mutex_factors.append(mutex_factor_t)\n",
    "\n",
    "operators = []\n",
    "for j in range(k-1):\n",
    "    op_key = converter.generate_operator_key(j)\n",
    "    operators.append(op_key)\n",
    "    op_factor, frame_factor = converter.generate_frame_op_factor(states[j], states[j+1], op_key)\n",
    "    op_factors.append(op_factor)\n",
    "    frame_factors.append(frame_factor)\n",
    "initial_factor = converter.generate_initial_factor(states[0])\n",
    "goal_factor = converter.generate_goal_factor(states[-1])\n",
    "\n",
    "graph = gtsam.DiscreteFactorGraph()\n",
    "for m_factor in mutex_factors:\n",
    "    for f in m_factor:\n",
    "        graph.push_back(f)\n",
    "\n",
    "graph.push_back(goal_factor)\n",
    "graph.push_back(initial_factor)\n",
    "\n",
    "for op_factor in op_factors:\n",
    "    graph.push_back(op_factor)\n",
    "\n",
    "for frame_factor in frame_factors:\n",
    "    graph.push_back(frame_factor)\n",
    "\n",
    "# this is where the planning happens\n",
    "# enum OrderingType { COLAMD, METIS, NATURAL, CUSTOM };\n",
    "# orderingType  = gtsam.Ordering.OrderingType.METIS\n",
    "# dag = graph.maxProduct(orderingType)\n",
    "\n",
    "\n",
    "ordering = gtsam.Ordering()\n",
    "# initial to goal\n",
    "for j in range(k):\n",
    "    for state in states[j]:\n",
    "        ordering.push_back(state[0])\n",
    "    if j < k-1:\n",
    "        ordering.push_back(operators[j][0])\n",
    "\n",
    "# goal to initial\n",
    "# for j in reversed(range(k)):\n",
    "#     if j < k-1:\n",
    "#         ordering.push_back(operators[j][0])\n",
    "#     for state in states[j]:\n",
    "#         ordering.push_back(state[0])\n",
    "\n",
    "for j in reversed(range(k)):\n",
    "    if j < k-1:\n",
    "        ordering.push_back(operators[j][0])\n",
    "    \n",
    "for j in reversed(range(k)):\n",
    "    for state in states[j]:\n",
    "        ordering.push_back(state[0])\n",
    "\n",
    "minigraph = gtsam.DiscreteFactorGraph()\n",
    "\n",
    "dag = graph.maxProduct(ordering)\n",
    "result = dag.argmax()\n",
    "\n",
    "# result = graph.optimize()\n",
    "\n",
    "end = time.time()\n",
    "assert graph(result) == 1\n",
    "print(\"time taken:\", end - start)"
   ]
  },
  {
   "cell_type": "code",
   "execution_count": 4,
   "metadata": {},
   "outputs": [
    {
     "ename": "AssertionError",
     "evalue": "",
     "output_type": "error",
     "traceback": [
      "\u001b[0;31m---------------------------------------------------------------------------\u001b[0m",
      "\u001b[0;31mAssertionError\u001b[0m                            Traceback (most recent call last)",
      "\u001b[0;32m/tmp/ipykernel_1453970/235484360.py\u001b[0m in \u001b[0;36m<module>\u001b[0;34m\u001b[0m\n\u001b[1;32m     72\u001b[0m \u001b[0;34m\u001b[0m\u001b[0m\n\u001b[1;32m     73\u001b[0m \u001b[0mend\u001b[0m \u001b[0;34m=\u001b[0m \u001b[0mtime\u001b[0m\u001b[0;34m.\u001b[0m\u001b[0mtime\u001b[0m\u001b[0;34m(\u001b[0m\u001b[0;34m)\u001b[0m\u001b[0;34m\u001b[0m\u001b[0;34m\u001b[0m\u001b[0m\n\u001b[0;32m---> 74\u001b[0;31m \u001b[0;32massert\u001b[0m \u001b[0mgraph\u001b[0m\u001b[0;34m(\u001b[0m\u001b[0mresult\u001b[0m\u001b[0;34m)\u001b[0m \u001b[0;34m==\u001b[0m \u001b[0;36m1\u001b[0m\u001b[0;34m\u001b[0m\u001b[0;34m\u001b[0m\u001b[0m\n\u001b[0m\u001b[1;32m     75\u001b[0m \u001b[0mprint\u001b[0m\u001b[0;34m(\u001b[0m\u001b[0;34m\"time taken:\"\u001b[0m\u001b[0;34m,\u001b[0m \u001b[0mend\u001b[0m \u001b[0;34m-\u001b[0m \u001b[0mstart\u001b[0m\u001b[0;34m)\u001b[0m\u001b[0;34m\u001b[0m\u001b[0;34m\u001b[0m\u001b[0m\n",
      "\u001b[0;31mAssertionError\u001b[0m: "
     ]
    }
   ],
   "source": [
    "start = time.time()\n",
    "k = 2\n",
    "states = []\n",
    "mutex_factors = []\n",
    "op_factors = []\n",
    "frame_factors = []\n",
    "for i in range(k):\n",
    "    # generate state\n",
    "    state_t = converter.generate_state(i)\n",
    "    states.append(state_t)\n",
    "    # generate mutex factor for the state\n",
    "    mutex_factor_t = converter.generate_mutex_factor(state_t)\n",
    "    mutex_factors.append(mutex_factor_t)\n",
    "\n",
    "operators = []\n",
    "for j in range(k-1):\n",
    "    op_key = converter.generate_operator_key(j)\n",
    "    operators.append(op_key)\n",
    "    op_factor, frame_factor = converter.generate_frame_op_factor(states[j], states[j+1], op_key)\n",
    "    op_factors.append(op_factor)\n",
    "    frame_factors.append(frame_factor)\n",
    "initial_factor = converter.generate_initial_factor(states[0])\n",
    "goal_factor = converter.generate_goal_factor(states[-1])\n",
    "\n",
    "graph = gtsam.DiscreteFactorGraph()\n",
    "for m_factor in mutex_factors:\n",
    "    for f in m_factor:\n",
    "        graph.push_back(f)\n",
    "\n",
    "graph.push_back(goal_factor)\n",
    "graph.push_back(initial_factor)\n",
    "\n",
    "for op_factor in op_factors:\n",
    "    graph.push_back(op_factor)\n",
    "\n",
    "for frame_factor in frame_factors:\n",
    "    graph.push_back(frame_factor)\n",
    "\n",
    "# this is where the planning happens\n",
    "# enum OrderingType { COLAMD, METIS, NATURAL, CUSTOM };\n",
    "# orderingType  = gtsam.Ordering.OrderingType.METIS\n",
    "# dag = graph.maxProduct(orderingType)\n",
    "\n",
    "\n",
    "ordering = gtsam.Ordering()\n",
    "# for j in range(k):\n",
    "#     for state in states[j]:\n",
    "#         ordering.push_back(state[0])\n",
    "#     if j < k-1:\n",
    "#         ordering.push_back(operators[j][0])\n",
    "\n",
    "# for j in reversed(range(k)):\n",
    "#     if j < k-1:\n",
    "#         ordering.push_back(operators[j][0])\n",
    "#     for state in states[j]:\n",
    "#         ordering.push_back(state[0])\n",
    "\n",
    "for j in reversed(range(k)):\n",
    "    if j < k-1:\n",
    "        ordering.push_back(operators[j][0])\n",
    "    \n",
    "for j in reversed(range(k)):\n",
    "    for state in states[j]:\n",
    "        ordering.push_back(state[0])\n",
    "\n",
    "minigraph = gtsam.DiscreteFactorGraph()\n",
    "\n",
    "dag = graph.maxProduct(ordering)\n",
    "result = dag.argmax()\n",
    "\n",
    "# result = graph.optimize()\n",
    "\n",
    "end = time.time()\n",
    "assert graph(result) == 1\n",
    "print(\"time taken:\", end - start)"
   ]
  },
  {
   "cell_type": "markdown",
   "metadata": {},
   "source": [
    "1. Divide the operator factor into two such that the first would evaluate only the precondition, second wouldonly evaluate the effect.\n",
    "\n",
    "2. Change the ordering so that it would start from both initial state and the goal state and meet in the middle.\n",
    "\n",
    "3. Change ordering so that we would evaluate the operators first and the states (we did this already)\n",
    "\n",
    "4. Create factor that can just return true if there exists an action that gets from state_t to state_t+1\n",
    "\n",
    "5. learned a bunch about elimination (hopefulyl)\n"
   ]
  },
  {
   "cell_type": "code",
   "execution_count": null,
   "metadata": {},
   "outputs": [],
   "source": []
  },
  {
   "cell_type": "code",
   "execution_count": 6,
   "metadata": {},
   "outputs": [
    {
     "data": {
      "text/html": [
       "<div>\n",
       "<table class='Variables'>\n",
       "  <thead>\n",
       "    <tr><th>Variable</th><th>Domain</th></tr>\n",
       "  </thead>\n",
       "  <tbody>\n",
       "    <tr><th>0_0</th><td>Atom at-robby(rooma), Atom at-robby(roomb)</td></tr>\n",
       "    <tr><th>1_0</th><td>Atom carry(ball1, left), Atom carry(ball2, left), Atom carry(ball3, left), Atom carry(ball4, left), Atom free(left)</td></tr>\n",
       "    <tr><th>2_0</th><td>Atom carry(ball1, right), Atom carry(ball2, right), Atom carry(ball3, right), Atom carry(ball4, right), Atom free(right)</td></tr>\n",
       "    <tr><th>3_0</th><td>Atom at(ball1, rooma), Atom at(ball1, roomb), <none of those></td></tr>\n",
       "    <tr><th>4_0</th><td>Atom at(ball2, rooma), Atom at(ball2, roomb), <none of those></td></tr>\n",
       "    <tr><th>5_0</th><td>Atom at(ball3, rooma), Atom at(ball3, roomb), <none of those></td></tr>\n",
       "    <tr><th>6_0</th><td>Atom at(ball4, rooma), Atom at(ball4, roomb), <none of those></td></tr>\n",
       "    <tr><th>0_1</th><td>Atom at-robby(rooma), Atom at-robby(roomb)</td></tr>\n",
       "    <tr><th>1_1</th><td>Atom carry(ball1, left), Atom carry(ball2, left), Atom carry(ball3, left), Atom carry(ball4, left), Atom free(left)</td></tr>\n",
       "    <tr><th>2_1</th><td>Atom carry(ball1, right), Atom carry(ball2, right), Atom carry(ball3, right), Atom carry(ball4, right), Atom free(right)</td></tr>\n",
       "    <tr><th>3_1</th><td>Atom at(ball1, rooma), Atom at(ball1, roomb), <none of those></td></tr>\n",
       "    <tr><th>4_1</th><td>Atom at(ball2, rooma), Atom at(ball2, roomb), <none of those></td></tr>\n",
       "    <tr><th>5_1</th><td>Atom at(ball3, rooma), Atom at(ball3, roomb), <none of those></td></tr>\n",
       "    <tr><th>6_1</th><td>Atom at(ball4, rooma), Atom at(ball4, roomb), <none of those></td></tr>\n",
       "    <tr><th>op_0</th><td>drop ball1 rooma left, drop ball1 rooma right, drop ball1 roomb left, drop ball1 roomb right, drop ball2 rooma left, drop ball2 rooma right, drop ball2 roomb left, drop ball2 roomb right, drop ball3 rooma left, drop ball3 rooma right, drop ball3 roomb left, drop ball3 roomb right, drop ball4 rooma left, drop ball4 rooma right, drop ball4 roomb left, drop ball4 roomb right, move rooma roomb, move roomb rooma, pick ball1 rooma left, pick ball1 rooma right, pick ball1 roomb left, pick ball1 roomb right, pick ball2 rooma left, pick ball2 rooma right, pick ball2 roomb left, pick ball2 roomb right, pick ball3 rooma left, pick ball3 rooma right, pick ball3 roomb left, pick ball3 roomb right, pick ball4 rooma left, pick ball4 rooma right, pick ball4 roomb left, pick ball4 roomb right</td></tr>\n",
       "  </tbody>\n",
       "</table>\n",
       "</div>"
      ],
      "text/plain": [
       "<gtbook.discrete.Variables at 0x7f1e2ffc2340>"
      ]
     },
     "execution_count": 6,
     "metadata": {},
     "output_type": "execute_result"
    }
   ],
   "source": [
    "converter.variables"
   ]
  },
  {
   "cell_type": "code",
   "execution_count": null,
   "metadata": {},
   "outputs": [
    {
     "name": "stdout",
     "output_type": "stream",
     "text": [
      "[[(0, 2), (1, 5), (2, 5), (3, 3), (4, 3), (5, 3), (6, 3)], [(7, 2), (8, 5), (9, 5), (10, 3), (11, 3), (12, 3), (13, 3)], [(14, 2), (15, 5), (16, 5), (17, 3), (18, 3), (19, 3), (20, 3)], [(21, 2), (22, 5), (23, 5), (24, 3), (25, 3), (26, 3), (27, 3)], [(28, 2), (29, 5), (30, 5), (31, 3), (32, 3), (33, 3), (34, 3)], [(35, 2), (36, 5), (37, 5), (38, 3), (39, 3), (40, 3), (41, 3)], [(42, 2), (43, 5), (44, 5), (45, 3), (46, 3), (47, 3), (48, 3)], [(49, 2), (50, 5), (51, 5), (52, 3), (53, 3), (54, 3), (55, 3)], [(56, 2), (57, 5), (58, 5), (59, 3), (60, 3), (61, 3), (62, 3)], [(63, 2), (64, 5), (65, 5), (66, 3), (67, 3), (68, 3), (69, 3)], [(70, 2), (71, 5), (72, 5), (73, 3), (74, 3), (75, 3), (76, 3)], [(77, 2), (78, 5), (79, 5), (80, 3), (81, 3), (82, 3), (83, 3)]]\n"
     ]
    }
   ],
   "source": [
    "print(states)"
   ]
  },
  {
   "cell_type": "code",
   "execution_count": null,
   "metadata": {},
   "outputs": [
    {
     "ename": "TypeError",
     "evalue": "'Variables' object is not subscriptable",
     "output_type": "error",
     "traceback": [
      "\u001b[0;31m---------------------------------------------------------------------------\u001b[0m",
      "\u001b[0;31mTypeError\u001b[0m                                 Traceback (most recent call last)",
      "\u001b[0;32m/tmp/ipykernel_1452888/899552847.py\u001b[0m in \u001b[0;36m<module>\u001b[0;34m\u001b[0m\n\u001b[1;32m      1\u001b[0m \u001b[0;32mfor\u001b[0m \u001b[0mk\u001b[0m \u001b[0;32min\u001b[0m \u001b[0mrange\u001b[0m\u001b[0;34m(\u001b[0m\u001b[0;36m12\u001b[0m\u001b[0;34m)\u001b[0m\u001b[0;34m:\u001b[0m\u001b[0;34m\u001b[0m\u001b[0;34m\u001b[0m\u001b[0m\n\u001b[0;32m----> 2\u001b[0;31m     \u001b[0mprint\u001b[0m\u001b[0;34m(\u001b[0m\u001b[0mconverter\u001b[0m\u001b[0;34m.\u001b[0m\u001b[0mvariables\u001b[0m\u001b[0;34m[\u001b[0m\u001b[0;34mf\"{0}_{k}\"\u001b[0m\u001b[0;34m]\u001b[0m\u001b[0;34m)\u001b[0m\u001b[0;34m\u001b[0m\u001b[0;34m\u001b[0m\u001b[0m\n\u001b[0m",
      "\u001b[0;31mTypeError\u001b[0m: 'Variables' object is not subscriptable"
     ]
    }
   ],
   "source": [
    "for k in range(12):\n",
    "    print(converter.variables[f\"{0}_{k}\"])"
   ]
  },
  {
   "cell_type": "code",
   "execution_count": 9,
   "metadata": {},
   "outputs": [],
   "source": [
    "# converter.variables._variables"
   ]
  },
  {
   "cell_type": "code",
   "execution_count": null,
   "metadata": {},
   "outputs": [
    {
     "ename": "NameError",
     "evalue": "name 'graph' is not defined",
     "output_type": "error",
     "traceback": [
      "\u001b[0;31m---------------------------------------------------------------------------\u001b[0m",
      "\u001b[0;31mNameError\u001b[0m                                 Traceback (most recent call last)",
      "\u001b[0;32m/tmp/ipykernel_1450326/2910112735.py\u001b[0m in \u001b[0;36m<module>\u001b[0;34m\u001b[0m\n\u001b[0;32m----> 1\u001b[0;31m \u001b[0mprint\u001b[0m\u001b[0;34m(\u001b[0m\u001b[0mgraph\u001b[0m\u001b[0;34m.\u001b[0m\u001b[0mkeys\u001b[0m\u001b[0;34m(\u001b[0m\u001b[0;34m)\u001b[0m\u001b[0;34m)\u001b[0m\u001b[0;34m\u001b[0m\u001b[0;34m\u001b[0m\u001b[0m\n\u001b[0m",
      "\u001b[0;31mNameError\u001b[0m: name 'graph' is not defined"
     ]
    }
   ],
   "source": [
    "print(graph.keys())"
   ]
  },
  {
   "cell_type": "code",
   "execution_count": null,
   "metadata": {},
   "outputs": [],
   "source": []
  },
  {
   "cell_type": "code",
   "execution_count": null,
   "metadata": {},
   "outputs": [
    {
     "name": "stdout",
     "output_type": "stream",
     "text": [
      "Help on method optimize in module gtsam.gtsam:\n",
      "\n",
      "optimize(...) method of gtsam.gtsam.DiscreteFactorGraph instance\n",
      "    optimize(self: gtsam.gtsam.DiscreteFactorGraph) -> gtsam::DiscreteValues\n",
      "\n"
     ]
    }
   ],
   "source": [
    "help(graph.optimize)"
   ]
  },
  {
   "cell_type": "code",
   "execution_count": null,
   "metadata": {},
   "outputs": [
    {
     "name": "stdout",
     "output_type": "stream",
     "text": [
      "\n",
      "size: 72\n",
      "factor 0: MutexConstraint on 3 3 1 2 \n",
      "factor 1: MutexConstraint on 4 4 1 2 \n",
      "factor 2: MutexConstraint on 5 5 1 2 \n",
      "factor 3: MutexConstraint on 6 6 1 2 \n",
      "factor 4: MutexConstraint on 10 10 8 9 \n",
      "factor 5: MutexConstraint on 11 11 8 9 \n",
      "factor 6: MutexConstraint on 12 12 8 9 \n",
      "factor 7: MutexConstraint on 13 13 8 9 \n",
      "factor 8: MutexConstraint on 17 17 15 16 \n",
      "factor 9: MutexConstraint on 18 18 15 16 \n",
      "factor 10: MutexConstraint on 19 19 15 16 \n",
      "factor 11: MutexConstraint on 20 20 15 16 \n",
      "factor 12: MutexConstraint on 24 24 22 23 \n",
      "factor 13: MutexConstraint on 25 25 22 23 \n",
      "factor 14: MutexConstraint on 26 26 22 23 \n",
      "factor 15: MutexConstraint on 27 27 22 23 \n",
      "factor 16: MutexConstraint on 31 31 29 30 \n",
      "factor 17: MutexConstraint on 32 32 29 30 \n",
      "factor 18: MutexConstraint on 33 33 29 30 \n",
      "factor 19: MutexConstraint on 34 34 29 30 \n",
      "factor 20: MutexConstraint on 38 38 36 37 \n",
      "factor 21: MutexConstraint on 39 39 36 37 \n",
      "factor 22: MutexConstraint on 40 40 36 37 \n",
      "factor 23: MutexConstraint on 41 41 36 37 \n",
      "factor 24: MutexConstraint on 45 45 43 44 \n",
      "factor 25: MutexConstraint on 46 46 43 44 \n",
      "factor 26: MutexConstraint on 47 47 43 44 \n",
      "factor 27: MutexConstraint on 48 48 43 44 \n",
      "factor 28: MutexConstraint on 52 52 50 51 \n",
      "factor 29: MutexConstraint on 53 53 50 51 \n",
      "factor 30: MutexConstraint on 54 54 50 51 \n",
      "factor 31: MutexConstraint on 55 55 50 51 \n",
      "factor 32: MutexConstraint on 59 59 57 58 \n",
      "factor 33: MutexConstraint on 60 60 57 58 \n",
      "factor 34: MutexConstraint on 61 61 57 58 \n",
      "factor 35: MutexConstraint on 62 62 57 58 \n",
      "factor 36: MutexConstraint on 66 66 64 65 \n",
      "factor 37: MutexConstraint on 67 67 64 65 \n",
      "factor 38: MutexConstraint on 68 68 64 65 \n",
      "factor 39: MutexConstraint on 69 69 64 65 \n",
      "factor 40: MutexConstraint on 73 73 71 72 \n",
      "factor 41: MutexConstraint on 74 74 71 72 \n",
      "factor 42: MutexConstraint on 75 75 71 72 \n",
      "factor 43: MutexConstraint on 76 76 71 72 \n",
      "factor 44: MutexConstraint on 80 80 78 79 \n",
      "factor 45: MutexConstraint on 81 81 78 79 \n",
      "factor 46: MutexConstraint on 82 82 78 79 \n",
      "factor 47: MutexConstraint on 83 83 78 79 \n",
      "factor 48: MultiValueConstraint on 80 81 82 83 \n",
      "factor 49: MultiValueConstraint on 0 1 2 3 4 5 6 \n",
      "factor 50: OperatorOrConstraint on j=84\n",
      "factor 51: OperatorOrConstraint on j=85\n",
      "factor 52: OperatorOrConstraint on j=86\n",
      "factor 53: OperatorOrConstraint on j=87\n",
      "factor 54: OperatorOrConstraint on j=88\n",
      "factor 55: OperatorOrConstraint on j=89\n",
      "factor 56: OperatorOrConstraint on j=90\n",
      "factor 57: OperatorOrConstraint on j=91\n",
      "factor 58: OperatorOrConstraint on j=92\n",
      "factor 59: OperatorOrConstraint on j=93\n",
      "factor 60: OperatorOrConstraint on j=94\n",
      "factor 61: FrameConstraint on j=84\n",
      "factor 62: FrameConstraint on j=85\n",
      "factor 63: FrameConstraint on j=86\n",
      "factor 64: FrameConstraint on j=87\n",
      "factor 65: FrameConstraint on j=88\n",
      "factor 66: FrameConstraint on j=89\n",
      "factor 67: FrameConstraint on j=90\n",
      "factor 68: FrameConstraint on j=91\n",
      "factor 69: FrameConstraint on j=92\n",
      "factor 70: FrameConstraint on j=93\n",
      "factor 71: FrameConstraint on j=94\n",
      "\n"
     ]
    }
   ],
   "source": [
    "print(graph)"
   ]
  },
  {
   "cell_type": "code",
   "execution_count": null,
   "metadata": {},
   "outputs": [
    {
     "data": {
      "text/plain": [
       "1.0"
      ]
     },
     "execution_count": 6,
     "metadata": {},
     "output_type": "execute_result"
    }
   ],
   "source": [
    "graph(val)"
   ]
  },
  {
   "cell_type": "code",
   "execution_count": null,
   "metadata": {},
   "outputs": [
    {
     "name": "stdout",
     "output_type": "stream",
     "text": [
      "pick ball1 rooma left\n",
      "pick ball2 rooma right\n",
      "move rooma roomb\n",
      "drop ball2 roomb right\n",
      "drop ball1 roomb left\n",
      "move roomb rooma\n",
      "pick ball3 rooma left\n",
      "pick ball4 rooma right\n",
      "move rooma roomb\n",
      "drop ball4 roomb right\n",
      "drop ball3 roomb left\n"
     ]
    }
   ],
   "source": [
    "op_consts = []\n",
    "for i in range(graph.size()-1, graph.size()-k, -1):\n",
    "    op_consts.append(graph.at(i))\n",
    "val_list = []\n",
    "for op_const in reversed(op_consts):\n",
    "    print(converter.ops_names[val[op_const.operatorKey()]])"
   ]
  },
  {
   "cell_type": "code",
   "execution_count": null,
   "metadata": {},
   "outputs": [],
   "source": [
    "# graph, val, k = plan(12)"
   ]
  }
 ],
 "metadata": {
  "kernelspec": {
   "display_name": "Python 3 (ipykernel)",
   "language": "python",
   "name": "python3"
  },
  "language_info": {
   "codemirror_mode": {
    "name": "ipython",
    "version": 3
   },
   "file_extension": ".py",
   "mimetype": "text/x-python",
   "name": "python",
   "nbconvert_exporter": "python",
   "pygments_lexer": "ipython3",
   "version": "3.9.7"
  }
 },
 "nbformat": 4,
 "nbformat_minor": 2
}
