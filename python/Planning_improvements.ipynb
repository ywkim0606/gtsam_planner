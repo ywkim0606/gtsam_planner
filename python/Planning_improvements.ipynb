{
 "cells": [
  {
   "cell_type": "markdown",
   "metadata": {},
   "source": [
    "# Planning Notebook"
   ]
  },
  {
   "cell_type": "code",
   "execution_count": 5,
   "metadata": {},
   "outputs": [],
   "source": [
    "import math\n",
    "import unittest\n",
    "import numpy as np\n",
    "from itertools import product\n",
    "import tqdm\n",
    "from tqdm import tqdm_notebook\n",
    "import copy\n",
    "import pickle\n",
    "import time\n",
    "\n",
    "# import gtsam\n",
    "import gtsam\n",
    "from gtsam import *\n",
    "from gtsam.utils.test_case import GtsamTestCase\n",
    "\n",
    "# import gtbook\n",
    "import gtbook\n",
    "from gtbook.display import *\n",
    "from gtbook.discrete import *\n",
    "\n",
    "# import local package\n",
    "import gtsam_planner\n",
    "from gtsam_planner import *\n",
    "\n",
    "# import parser\n",
    "import SASParser\n",
    "from SASParser import SAS, Operator\n",
    "from typing import List, Tuple, Callable, Dict, Iterable\n",
    "\n",
    "DiscreteKey = Tuple[int, int]\n",
    "\n",
    "variables = Variables()\n",
    "def pretty(obj): \n",
    "    return gtbook.display.pretty(obj, variables)\n",
    "\n",
    "import graphviz\n",
    "class show(graphviz.Source):\n",
    "    \"\"\" Display an object with a dot method as a graph.\"\"\"\n",
    "\n",
    "    def __init__(self, obj):\n",
    "        \"\"\"Construct from object with 'dot' method.\"\"\"\n",
    "        # This small class takes an object, calls its dot function, and uses the\n",
    "        # resulting string to initialize a graphviz.Source instance. This in turn\n",
    "        # has a _repr_mimebundle_ method, which then renders it in the notebook.\n",
    "        super().__init__(obj.dot())"
   ]
  },
  {
   "cell_type": "code",
   "execution_count": 6,
   "metadata": {},
   "outputs": [],
   "source": [
    "class SASToGTSAM():\n",
    "    def __init__(self, sas):\n",
    "        self.sas = sas\n",
    "        self.init = sas.initial_state\n",
    "        self.goal = sas.goal\n",
    "        self.vars = self.sas.variables\n",
    "        self.ops = self.sas.operators\n",
    "        self.mutex_groups = self.sas.mutex_group\n",
    "        self.ops_names = []\n",
    "        for op in self.ops:\n",
    "            self.ops_names.append(op.name)\n",
    "        self.state_keys = list(self.vars.keys())\n",
    "    \n",
    "    def generate_state(self, timestep):\n",
    "        state = []\n",
    "        for var, val in self.vars.items():\n",
    "            state_var = variables.discrete(str(var)+\"_\"+str(timestep), val)\n",
    "            state.append(state_var)\n",
    "        return state\n",
    "    \n",
    "    def generate_operator_key(self, timestep):\n",
    "        op_var = variables.discrete(\"op_\"+str(timestep), self.ops_names)\n",
    "        return op_var\n",
    "    \n",
    "    def generate_opkey_improved(self, timestep, cardinality):\n",
    "        op_var = variables.discrete(\"op_\"+str(timestep), range(cardinality))\n",
    "        return op_var\n",
    "    \n",
    "    def generate_initial_factor(self, initial_state):\n",
    "        keys = gtsam.DiscreteKeys()\n",
    "        for key in initial_state:\n",
    "            keys.push_back(key)\n",
    "        init_values = list(self.init.values())\n",
    "        init_f = gtsam_planner.MultiValueConstraint(keys, init_values)\n",
    "        return init_f\n",
    "\n",
    "    def generate_goal_factor(self, goal_state):\n",
    "        keys = gtsam.DiscreteKeys()\n",
    "        vals = []\n",
    "        for goal_var, goal_val in self.goal.items():\n",
    "            keys.push_back(goal_state[self.state_keys.index(goal_var)])\n",
    "            vals.append(goal_val)\n",
    "        goal_f = gtsam_planner.MultiValueConstraint(keys, vals)\n",
    "        return goal_f\n",
    "    \n",
    "    def generate_op_null(self, state_t, state_tp, operator):\n",
    "        pre_vals = []\n",
    "        eff_vals = []\n",
    "        op_keys = set()\n",
    "        pre_set = set()\n",
    "        eff_set = set()\n",
    "        pre_keys = gtsam.DiscreteKeys()\n",
    "        eff_keys = gtsam.DiscreteKeys()\n",
    "        for pre_var, pre_val in operator.precondition.items():\n",
    "            key = state_t[self.state_keys.index(pre_var)]\n",
    "            op_keys.add(key)\n",
    "            pre_set.add(key)\n",
    "            if pre_val == -1:\n",
    "                continue\n",
    "            pre_keys.push_back(key)\n",
    "            pre_vals.append(pre_val)\n",
    "        \n",
    "        for eff_var, eff_val in operator.effect.items():\n",
    "            key = state_tp[self.state_keys.index(eff_var)]\n",
    "            op_keys.add(key)\n",
    "            eff_set.add(key)\n",
    "            if eff_val == -1:\n",
    "                continue\n",
    "            eff_keys.push_back(key)\n",
    "            eff_vals.append(eff_val)\n",
    "        \n",
    "        if operator.num_prevail > 0:\n",
    "            for var, val in operator.prevail.items():\n",
    "                key_t = state_t[self.state_keys.index(var)]\n",
    "                key_tp = state_tp[self.state_keys.index(var)]\n",
    "                op_keys.add(key_t)\n",
    "                op_keys.add(key_tp)\n",
    "                pre_set.add(key_t)\n",
    "                eff_set.add(key_tp)\n",
    "                pre_keys.push_back(key_t)\n",
    "                eff_keys.push_back(key_tp)\n",
    "                pre_vals.append(val)\n",
    "                eff_vals.append(val)\n",
    "        \n",
    "        pre_f = gtsam_planner.MultiValueConstraint(pre_keys, pre_vals)\n",
    "        eff_f = gtsam_planner.MultiValueConstraint(eff_keys, eff_vals)\n",
    "\n",
    "        assert len(op_keys) % 2 == 0\n",
    "        frame_keys = set()\n",
    "        null_keys = gtsam.DiscreteKeys()\n",
    "        for var in state_t+state_tp:\n",
    "            if var not in op_keys:\n",
    "                null_keys.push_back(var)\n",
    "                frame_keys.add(var)\n",
    "\n",
    "        null_f = gtsam_planner.NullConstraint(null_keys)\n",
    "        return pre_f, eff_f, null_f, op_keys, pre_set, eff_set, frame_keys\n",
    "\n",
    "    def generate_mutex_factor(self, state_t):\n",
    "        state = list(self.vars.keys())\n",
    "        mutex_variables = []\n",
    "        mutex_values = []\n",
    "        \n",
    "        for mutex_group in self.mutex_groups:\n",
    "            var_group = []\n",
    "            val_group = []\n",
    "            for var, val in mutex_group:\n",
    "                state_var = state_t[state.index(var)]\n",
    "                var_group.append(state_var)\n",
    "                val_group.append(val)\n",
    "            mutex_variables.append(var_group)\n",
    "            mutex_values.append(val_group)\n",
    "        \n",
    "        factors = []\n",
    "        for mutex_var, mutex_val in zip(mutex_variables, mutex_values):\n",
    "            keys = gtsam.DiscreteKeys()\n",
    "            for var in mutex_var:\n",
    "                keys.push_back(var)\n",
    "            mutex = gtsam_planner.MutexConstraint(keys, mutex_val)\n",
    "            factors.append(mutex)\n",
    "        return factors\n",
    "    \n",
    "    def generate_frame_op_factor(self, state_t, state_tp, op_key):\n",
    "        pre_consts = []\n",
    "        eff_consts = []\n",
    "        null_consts = []\n",
    "\n",
    "        pre_keys_set = set()\n",
    "        pre_keys_set.add(op_key)\n",
    "\n",
    "        eff_keys_set = set()\n",
    "        eff_keys_set.add(op_key)\n",
    "\n",
    "        frame_keys_set = set()\n",
    "        frame_keys_set.add(op_key)\n",
    "        \n",
    "        for op in self.ops:\n",
    "            pre_f, eff_f, null_f, op_keys, pre_set, eff_set, frame_keys = self.generate_op_null(state_t, state_tp, op)\n",
    "            pre_consts.append(pre_f)\n",
    "            eff_consts.append(eff_f)\n",
    "            null_consts.append(null_f)\n",
    "\n",
    "            pre_keys_set = pre_keys_set.union(pre_set)\n",
    "            eff_keys_set = eff_keys_set.union(eff_set)\n",
    "\n",
    "            frame_keys_set = frame_keys_set.union(frame_keys)\n",
    "\n",
    "        pre_dkeys = gtsam.DiscreteKeys()\n",
    "        for key in pre_keys_set:\n",
    "            pre_dkeys.push_back(key)\n",
    "\n",
    "        eff_dkeys = gtsam.DiscreteKeys()\n",
    "        for key in eff_keys_set:\n",
    "            eff_dkeys.push_back(key)\n",
    "        \n",
    "        frame_dkeys = gtsam.DiscreteKeys()\n",
    "        for key in frame_keys_set:\n",
    "            frame_dkeys.push_back(key)\n",
    "\n",
    "        pre_factor = gtsam_planner.OperatorOrConstraint(op_key, pre_dkeys, pre_consts)\n",
    "        eff_factor = gtsam_planner.OperatorOrConstraint(op_key, eff_dkeys, eff_consts)\n",
    "        frame_factor = gtsam_planner.FrameConstraint(op_key, frame_dkeys, null_consts)\n",
    "        return pre_factor, eff_factor, frame_factor\n"
   ]
  },
  {
   "cell_type": "code",
   "execution_count": 7,
   "metadata": {},
   "outputs": [],
   "source": [
    "sas = SAS()\n",
    "sas_dir = \"sas/gripper_01.sas\"\n",
    "sas.read_file(sas_dir)\n",
    "converter = SASToGTSAM(sas)"
   ]
  },
  {
   "cell_type": "code",
   "execution_count": 8,
   "metadata": {},
   "outputs": [],
   "source": [
    "state_0 = converter.generate_state(0)"
   ]
  },
  {
   "cell_type": "code",
   "execution_count": 9,
   "metadata": {},
   "outputs": [
    {
     "data": {
      "text/plain": [
       "[(0, 2), (1, 5), (2, 5), (3, 3), (4, 3), (5, 3), (6, 3)]"
      ]
     },
     "execution_count": 9,
     "metadata": {},
     "output_type": "execute_result"
    }
   ],
   "source": [
    "state_0"
   ]
  },
  {
   "cell_type": "code",
   "execution_count": 11,
   "metadata": {},
   "outputs": [],
   "source": [
    "initial_factor = converter.generate_initial_factor(state_0)"
   ]
  },
  {
   "cell_type": "code",
   "execution_count": 12,
   "metadata": {},
   "outputs": [
    {
     "data": {
      "text/plain": [
       "MultiValueConstraint on 0 1 2 3 4 5 6 "
      ]
     },
     "execution_count": 12,
     "metadata": {},
     "output_type": "execute_result"
    }
   ],
   "source": [
    "initial_factor"
   ]
  },
  {
   "cell_type": "code",
   "execution_count": 4,
   "metadata": {},
   "outputs": [],
   "source": [
    "k = 2\n",
    "states = []\n",
    "mutex_factors = []\n",
    "pre_factors = []\n",
    "eff_factors = []\n",
    "frame_factors = []\n",
    "for i in range(k):\n",
    "    # generate state\n",
    "    state_t = converter.generate_state(i)\n",
    "    states.append(state_t)\n",
    "    # generate mutex factor for the state\n",
    "    mutex_factor_t = converter.generate_mutex_factor(state_t)\n",
    "    mutex_factors.append(mutex_factor_t)\n",
    "\n",
    "operators = []\n",
    "for j in range(k-1):\n",
    "    op_key = converter.generate_operator_key(j)\n",
    "    operators.append(op_key)\n",
    "    pre_factor, eff_factor, frame_factor = converter.generate_frame_op_factor(states[j], states[j+1], op_key)\n",
    "    pre_factors.append(pre_factor)\n",
    "    eff_factors.append(eff_factor)\n",
    "    frame_factors.append(frame_factor)\n",
    "initial_factor = converter.generate_initial_factor(states[0])\n",
    "goal_factor = converter.generate_goal_factor(states[-1])"
   ]
  },
  {
   "cell_type": "code",
   "execution_count": 5,
   "metadata": {},
   "outputs": [],
   "source": [
    "state_t = states[0]\n",
    "state_tp = states[1]"
   ]
  },
  {
   "cell_type": "code",
   "execution_count": 6,
   "metadata": {},
   "outputs": [
    {
     "data": {
      "text/plain": [
       "{0: 0, 1: 4, 2: 4, 3: 0, 4: 0, 5: 0, 6: 0}"
      ]
     },
     "execution_count": 6,
     "metadata": {},
     "output_type": "execute_result"
    }
   ],
   "source": [
    "sas.initial_state"
   ]
  },
  {
   "cell_type": "code",
   "execution_count": 7,
   "metadata": {},
   "outputs": [
    {
     "data": {
      "text/plain": [
       "[[[3, 0], [3, 1], [1, 0], [2, 0]],\n",
       " [[4, 0], [4, 1], [1, 1], [2, 1]],\n",
       " [[5, 0], [5, 1], [1, 2], [2, 2]],\n",
       " [[6, 0], [6, 1], [1, 3], [2, 3]]]"
      ]
     },
     "execution_count": 7,
     "metadata": {},
     "output_type": "execute_result"
    }
   ],
   "source": [
    "sas.mutex_group"
   ]
  },
  {
   "cell_type": "code",
   "execution_count": 8,
   "metadata": {},
   "outputs": [
    {
     "data": {
      "text/plain": [
       "{3: 1, 4: 1, 5: 1, 6: 1}"
      ]
     },
     "execution_count": 8,
     "metadata": {},
     "output_type": "execute_result"
    }
   ],
   "source": [
    "sas.goal"
   ]
  },
  {
   "cell_type": "code",
   "execution_count": 9,
   "metadata": {},
   "outputs": [
    {
     "name": "stdout",
     "output_type": "stream",
     "text": [
      "drop ball1 rooma left\n",
      "drop ball1 rooma right\n",
      "drop ball1 roomb left\n",
      "drop ball1 roomb right\n",
      "drop ball2 rooma left\n",
      "drop ball2 rooma right\n",
      "drop ball2 roomb left\n",
      "drop ball2 roomb right\n",
      "drop ball3 rooma left\n",
      "drop ball3 rooma right\n",
      "drop ball3 roomb left\n",
      "drop ball3 roomb right\n",
      "drop ball4 rooma left\n",
      "drop ball4 rooma right\n",
      "drop ball4 roomb left\n",
      "drop ball4 roomb right\n",
      "move rooma roomb\n",
      "move roomb rooma\n",
      "pick ball1 rooma left\n",
      "pick ball1 rooma right\n",
      "pick ball1 roomb left\n",
      "pick ball1 roomb right\n",
      "pick ball2 rooma left\n",
      "pick ball2 rooma right\n",
      "pick ball2 roomb left\n",
      "pick ball2 roomb right\n",
      "pick ball3 rooma left\n",
      "pick ball3 rooma right\n",
      "pick ball3 roomb left\n",
      "pick ball3 roomb right\n",
      "pick ball4 rooma left\n",
      "pick ball4 rooma right\n",
      "pick ball4 roomb left\n",
      "pick ball4 roomb right\n"
     ]
    }
   ],
   "source": [
    "for op in sas.operators:\n",
    "    print(op.name)"
   ]
  },
  {
   "cell_type": "code",
   "execution_count": 10,
   "metadata": {},
   "outputs": [],
   "source": [
    "vars = converter.vars"
   ]
  },
  {
   "cell_type": "code",
   "execution_count": 11,
   "metadata": {},
   "outputs": [],
   "source": [
    "op = sas.operators[0]"
   ]
  },
  {
   "cell_type": "code",
   "execution_count": 12,
   "metadata": {},
   "outputs": [
    {
     "data": {
      "text/plain": [
       "{0: 0}"
      ]
     },
     "execution_count": 12,
     "metadata": {},
     "output_type": "execute_result"
    }
   ],
   "source": [
    "op.prevail"
   ]
  },
  {
   "cell_type": "code",
   "execution_count": 13,
   "metadata": {},
   "outputs": [
    {
     "data": {
      "text/plain": [
       "{3: -1, 1: 0}"
      ]
     },
     "execution_count": 13,
     "metadata": {},
     "output_type": "execute_result"
    }
   ],
   "source": [
    "op.precondition"
   ]
  },
  {
   "cell_type": "code",
   "execution_count": 14,
   "metadata": {},
   "outputs": [
    {
     "data": {
      "text/plain": [
       "{3: 0, 1: 4}"
      ]
     },
     "execution_count": 14,
     "metadata": {},
     "output_type": "execute_result"
    }
   ],
   "source": [
    "op.effect"
   ]
  },
  {
   "cell_type": "markdown",
   "metadata": {},
   "source": [
    "drop ball1 rooma left [0]\n",
    "drop ball1 rooma right [0]\n",
    "drop ball1 roomb left [1]\n",
    "drop ball1 roomb right [1]\n",
    "pick ball1 rooma left [0, 2]\n",
    "pick ball1 rooma right [0, 2]\n",
    "pick ball1 roomb left [1, 2]\n",
    "pick ball1 roomb right [1, 2]"
   ]
  },
  {
   "cell_type": "code",
   "execution_count": 15,
   "metadata": {},
   "outputs": [
    {
     "data": {
      "text/plain": [
       "{0: ['Atom at-robby(rooma)', 'Atom at-robby(roomb)'],\n",
       " 1: ['Atom carry(ball1, left)',\n",
       "  'Atom carry(ball2, left)',\n",
       "  'Atom carry(ball3, left)',\n",
       "  'Atom carry(ball4, left)',\n",
       "  'Atom free(left)'],\n",
       " 2: ['Atom carry(ball1, right)',\n",
       "  'Atom carry(ball2, right)',\n",
       "  'Atom carry(ball3, right)',\n",
       "  'Atom carry(ball4, right)',\n",
       "  'Atom free(right)'],\n",
       " 3: ['Atom at(ball1, rooma)', 'Atom at(ball1, roomb)', '<none of those>'],\n",
       " 4: ['Atom at(ball2, rooma)', 'Atom at(ball2, roomb)', '<none of those>'],\n",
       " 5: ['Atom at(ball3, rooma)', 'Atom at(ball3, roomb)', '<none of those>'],\n",
       " 6: ['Atom at(ball4, rooma)', 'Atom at(ball4, roomb)', '<none of those>']}"
      ]
     },
     "execution_count": 15,
     "metadata": {},
     "output_type": "execute_result"
    }
   ],
   "source": [
    "vars"
   ]
  },
  {
   "cell_type": "code",
   "execution_count": 62,
   "metadata": {},
   "outputs": [
    {
     "data": {
      "text/plain": [
       "4050"
      ]
     },
     "execution_count": 62,
     "metadata": {},
     "output_type": "execute_result"
    }
   ],
   "source": [
    "2*5*5*3*3*3*3"
   ]
  },
  {
   "cell_type": "code",
   "execution_count": 64,
   "metadata": {},
   "outputs": [
    {
     "data": {
      "text/plain": [
       "16402500"
      ]
     },
     "execution_count": 64,
     "metadata": {},
     "output_type": "execute_result"
    }
   ],
   "source": [
    "4050**2"
   ]
  },
  {
   "cell_type": "code",
   "execution_count": 27,
   "metadata": {},
   "outputs": [
    {
     "data": {
      "text/plain": [
       "{3: -1, 1: 0}"
      ]
     },
     "execution_count": 27,
     "metadata": {},
     "output_type": "execute_result"
    }
   ],
   "source": [
    "op.precondition"
   ]
  },
  {
   "cell_type": "code",
   "execution_count": 20,
   "metadata": {},
   "outputs": [],
   "source": [
    "state_keys = list(vars.keys())"
   ]
  },
  {
   "cell_type": "code",
   "execution_count": 38,
   "metadata": {},
   "outputs": [
    {
     "data": {
      "text/plain": [
       "(8, 5)"
      ]
     },
     "execution_count": 38,
     "metadata": {},
     "output_type": "execute_result"
    }
   ],
   "source": [
    "state_tp[state_keys.index(1)]"
   ]
  },
  {
   "cell_type": "code",
   "execution_count": 32,
   "metadata": {},
   "outputs": [
    {
     "data": {
      "text/plain": [
       "[0, 1, 2, 3, 4, 5, 6]"
      ]
     },
     "execution_count": 32,
     "metadata": {},
     "output_type": "execute_result"
    }
   ],
   "source": [
    "state_keys"
   ]
  },
  {
   "cell_type": "code",
   "execution_count": 30,
   "metadata": {},
   "outputs": [
    {
     "data": {
      "text/plain": [
       "True"
      ]
     },
     "execution_count": 30,
     "metadata": {},
     "output_type": "execute_result"
    }
   ],
   "source": [
    "3 in op.precondition"
   ]
  },
  {
   "cell_type": "code",
   "execution_count": 24,
   "metadata": {},
   "outputs": [
    {
     "data": {
      "text/plain": [
       "True"
      ]
     },
     "execution_count": 24,
     "metadata": {},
     "output_type": "execute_result"
    }
   ],
   "source": [
    "0 in op.prevail"
   ]
  },
  {
   "cell_type": "code",
   "execution_count": 25,
   "metadata": {},
   "outputs": [
    {
     "data": {
      "text/plain": [
       "0"
      ]
     },
     "execution_count": 25,
     "metadata": {},
     "output_type": "execute_result"
    }
   ],
   "source": [
    "op.prevail[0]"
   ]
  },
  {
   "cell_type": "code",
   "execution_count": 44,
   "metadata": {},
   "outputs": [
    {
     "data": {
      "text/plain": [
       "[1, 0]"
      ]
     },
     "execution_count": 44,
     "metadata": {},
     "output_type": "execute_result"
    }
   ],
   "source": [
    "vals"
   ]
  },
  {
   "cell_type": "code",
   "execution_count": 57,
   "metadata": {},
   "outputs": [
    {
     "name": "stdout",
     "output_type": "stream",
     "text": [
      "(0, 2) (7, 2)\n",
      "move rooma roomb [0, 1]\n",
      "move roomb rooma [1, 0]\n",
      "1\n",
      "(1, 5) (8, 5)\n",
      "drop ball1 rooma left [0, 4]\n",
      "drop ball1 roomb left [0, 4]\n",
      "drop ball2 rooma left [1, 4]\n",
      "drop ball2 roomb left [1, 4]\n",
      "drop ball3 rooma left [2, 4]\n",
      "drop ball3 roomb left [2, 4]\n",
      "drop ball4 rooma left [3, 4]\n",
      "drop ball4 roomb left [3, 4]\n",
      "pick ball1 rooma left [4, 0]\n",
      "pick ball1 roomb left [4, 0]\n",
      "pick ball2 rooma left [4, 1]\n",
      "pick ball2 roomb left [4, 1]\n",
      "pick ball3 rooma left [4, 2]\n",
      "pick ball3 roomb left [4, 2]\n",
      "pick ball4 rooma left [4, 3]\n",
      "pick ball4 roomb left [4, 3]\n",
      "2\n",
      "(2, 5) (9, 5)\n",
      "drop ball1 rooma right [0, 4]\n",
      "drop ball1 roomb right [0, 4]\n",
      "drop ball2 rooma right [1, 4]\n",
      "drop ball2 roomb right [1, 4]\n",
      "drop ball3 rooma right [2, 4]\n",
      "drop ball3 roomb right [2, 4]\n",
      "drop ball4 rooma right [3, 4]\n",
      "drop ball4 roomb right [3, 4]\n",
      "pick ball1 rooma right [4, 0]\n",
      "pick ball1 roomb right [4, 0]\n",
      "pick ball2 rooma right [4, 1]\n",
      "pick ball2 roomb right [4, 1]\n",
      "pick ball3 rooma right [4, 2]\n",
      "pick ball3 roomb right [4, 2]\n",
      "pick ball4 rooma right [4, 3]\n",
      "pick ball4 roomb right [4, 3]\n",
      "3\n",
      "(3, 3) (10, 3)\n",
      "drop ball1 rooma left [0]\n",
      "drop ball1 rooma right [0]\n",
      "drop ball1 roomb left [1]\n",
      "drop ball1 roomb right [1]\n",
      "pick ball1 rooma left [0, 2]\n",
      "pick ball1 rooma right [0, 2]\n",
      "pick ball1 roomb left [1, 2]\n",
      "pick ball1 roomb right [1, 2]\n",
      "4\n"
     ]
    }
   ],
   "source": [
    "factors = []\n",
    "i = 0\n",
    "for key_t, key_tp in zip(state_t, state_tp):\n",
    "    print(key_t, key_tp)\n",
    "    m_consts = []\n",
    "    for op in sas.operators:\n",
    "        if state_keys[state_t.index(key_t)] in op.prevail:\n",
    "            prev_keys = gtsam.DiscreteKeys()\n",
    "            prev_keys.push_back(key_t)\n",
    "            prev_keys.push_back(key_tp)\n",
    "            val_t = op.prevail[state_keys[state_t.index(key_t)]] \n",
    "            val_tp = op.prevail[state_keys[state_tp.index(key_tp)]]\n",
    "            m_consts.append(gtsam_planner.MultiValueConstraint(prev_keys, [val_t, val_tp]))\n",
    "        if state_keys[state_t.index(key_t)] in op.precondition:\n",
    "            prec_keys = gtsam.DiscreteKeys()\n",
    "            vals = []\n",
    "            val_t = op.precondition[state_keys[state_t.index(key_t)]] \n",
    "            val_tp = op.effect[state_keys[state_tp.index(key_tp)]]\n",
    "            if val_t != -1:\n",
    "                prec_keys.push_back(key_t)\n",
    "                vals.append(val_t)\n",
    "            if val_tp != -1:\n",
    "                prec_keys.push_back(key_tp)\n",
    "                vals.append(val_tp)\n",
    "            print(op.name, vals)\n",
    "            m_consts.append(gtsam_planner.MultiValueConstraint(prev_keys, vals))\n",
    "    i += 1\n",
    "    print(i)\n",
    "    dkeys = gtsam.DiscreteKeys()\n",
    "    dkeys.push_back(key_t)\n",
    "    dkeys.push_back(key_tp)\n",
    "    b_const = gtsam_planner.BinarySameConstraint(key_t, key_tp)\n",
    "    valid_transition_const = gtsam_planner.ValidVariablesConstraint(b_const, m_consts, dkeys)\n",
    "    if i == 4:\n",
    "        break"
   ]
  },
  {
   "cell_type": "code",
   "execution_count": 58,
   "metadata": {},
   "outputs": [
    {
     "data": {
      "text/plain": [
       "(3, 3)"
      ]
     },
     "execution_count": 58,
     "metadata": {},
     "output_type": "execute_result"
    }
   ],
   "source": [
    "key_t"
   ]
  },
  {
   "cell_type": "code",
   "execution_count": 59,
   "metadata": {},
   "outputs": [
    {
     "data": {
      "text/plain": [
       "ValidVariablesConstraint on 3 10 "
      ]
     },
     "execution_count": 59,
     "metadata": {},
     "output_type": "execute_result"
    }
   ],
   "source": [
    "valid_transition_const"
   ]
  },
  {
   "cell_type": "code",
   "execution_count": 60,
   "metadata": {},
   "outputs": [],
   "source": [
    "v_tree = valid_transition_const.toDecisionTreeFactor()"
   ]
  },
  {
   "cell_type": "code",
   "execution_count": 61,
   "metadata": {},
   "outputs": [
    {
     "data": {
      "image/svg+xml": "<?xml version=\"1.0\" encoding=\"UTF-8\" standalone=\"no\"?>\n<!DOCTYPE svg PUBLIC \"-//W3C//DTD SVG 1.1//EN\"\n \"http://www.w3.org/Graphics/SVG/1.1/DTD/svg11.dtd\">\n<!-- Generated by graphviz version 2.43.0 (0)\n -->\n<!-- Title: G Pages: 1 -->\n<svg width=\"62pt\" height=\"33pt\"\n viewBox=\"0.00 0.00 62.00 33.00\" xmlns=\"http://www.w3.org/2000/svg\" xmlns:xlink=\"http://www.w3.org/1999/xlink\">\n<g id=\"graph0\" class=\"graph\" transform=\"scale(1 1) rotate(0) translate(4 29)\">\n<title>G</title>\n<polygon fill=\"white\" stroke=\"transparent\" points=\"-4,4 -4,-29 58,-29 58,4 -4,4\"/>\n<!-- 0x56413442be30 -->\n<g id=\"node1\" class=\"node\">\n<title>0x56413442be30</title>\n<polygon fill=\"none\" stroke=\"black\" points=\"54,-25 0,-25 0,0 54,0 54,-25\"/>\n<text text-anchor=\"middle\" x=\"27\" y=\"-8.8\" font-family=\"Times,serif\" font-size=\"14.00\"> &#160;&#160;1</text>\n</g>\n</g>\n</svg>\n",
      "text/plain": [
       "<__main__.show at 0x7fb590480610>"
      ]
     },
     "execution_count": 61,
     "metadata": {},
     "output_type": "execute_result"
    }
   ],
   "source": [
    "show(v_tree)"
   ]
  },
  {
   "cell_type": "code",
   "execution_count": 5,
   "metadata": {},
   "outputs": [],
   "source": [
    "# start = time.time()\n",
    "# k = 7\n",
    "# states = []\n",
    "# mutex_factors = []\n",
    "# pre_factors = []\n",
    "# eff_factors = []\n",
    "# frame_factors = []\n",
    "# for i in range(k):\n",
    "#     # generate state\n",
    "#     state_t = converter.generate_state(i)\n",
    "#     states.append(state_t)\n",
    "#     # generate mutex factor for the state\n",
    "#     mutex_factor_t = converter.generate_mutex_factor(state_t)\n",
    "#     mutex_factors.append(mutex_factor_t)\n",
    "# for j in range(len(states)-1):\n",
    "#     op_key = converter.generate_operator_key(j)\n",
    "#     pre_factor, eff_factor, frame_factor = converter.generate_frame_op_factor(states[j], states[j+1], op_key)\n",
    "#     pre_factors.append(pre_factor)\n",
    "#     eff_factors.append(eff_factor)\n",
    "#     frame_factors.append(frame_factor)\n",
    "# initial_factor = converter.generate_initial_factor(states[0])\n",
    "# goal_factor = converter.generate_goal_factor(states[-1])\n",
    "\n",
    "# graph = gtsam.DiscreteFactorGraph()\n",
    "# for m_factor in mutex_factors:\n",
    "#     for f in m_factor:\n",
    "#         graph.push_back(f)\n",
    "\n",
    "# graph.push_back(goal_factor)\n",
    "# graph.push_back(initial_factor)\n",
    "\n",
    "# for op_factor in pre_factors:\n",
    "#     graph.push_back(op_factor)\n",
    "\n",
    "# for op_factor in eff_factors:\n",
    "#     graph.push_back(op_factor)\n",
    "\n",
    "# for frame_factor in frame_factors:\n",
    "#     graph.push_back(frame_factor)\n",
    "\n",
    "# val = graph.optimize()\n",
    "# end = time.time()\n",
    "# assert graph(val) == 1\n",
    "# print(\"time taken:\", end - start)"
   ]
  },
  {
   "cell_type": "code",
   "execution_count": 6,
   "metadata": {},
   "outputs": [],
   "source": [
    "start = time.time()\n",
    "k = 2\n",
    "states = []\n",
    "mutex_factors = []\n",
    "pre_factors = []\n",
    "eff_factors = []\n",
    "frame_factors = []\n",
    "for i in range(k):\n",
    "    # generate state\n",
    "    state_t = converter.generate_state(i)\n",
    "    states.append(state_t)\n",
    "    # generate mutex factor for the state\n",
    "    mutex_factor_t = converter.generate_mutex_factor(state_t)\n",
    "    mutex_factors.append(mutex_factor_t)\n",
    "\n",
    "operators = []\n",
    "for j in range(k-1):\n",
    "    op_key = converter.generate_operator_key(j)\n",
    "    operators.append(op_key)\n",
    "    pre_factor, eff_factor, frame_factor = converter.generate_frame_op_factor(states[j], states[j+1], op_key)\n",
    "    pre_factors.append(pre_factor)\n",
    "    eff_factors.append(eff_factor)\n",
    "    frame_factors.append(frame_factor)\n",
    "initial_factor = converter.generate_initial_factor(states[0])\n",
    "goal_factor = converter.generate_goal_factor(states[-1])\n",
    "\n",
    "graph = gtsam.DiscreteFactorGraph()\n",
    "for m_factor in mutex_factors:\n",
    "    for f in m_factor:\n",
    "        graph.push_back(f)\n",
    "\n",
    "graph.push_back(goal_factor)\n",
    "graph.push_back(initial_factor)\n",
    "\n",
    "for op_factor in pre_factors:\n",
    "    graph.push_back(op_factor)\n",
    "\n",
    "for op_factor in eff_factors:\n",
    "    graph.push_back(op_factor)\n",
    "\n",
    "for frame_factor in frame_factors:\n",
    "    graph.push_back(frame_factor)\n",
    "# this is where the planning happens\n",
    "# enum OrderingType { COLAMD, METIS, NATURAL, CUSTOM };\n",
    "# orderingType  = gtsam.Ordering.OrderingType.METIS\n",
    "# dag = graph.maxProduct(orderingType)\n",
    "\n",
    "\n",
    "ordering = gtsam.Ordering()\n",
    "# From Initial State\n",
    "# for j in range(k):\n",
    "#     for state in states[j]:\n",
    "#         ordering.push_back(state[0])\n",
    "#     if j < k-1:\n",
    "#         ordering.push_back(operators[j][0])\n",
    "\n",
    "# From Goal State\n",
    "for j in reversed(range(k)):\n",
    "    if j < k-1:\n",
    "        ordering.push_back(operators[j][0])\n",
    "    for state in states[j]:\n",
    "        ordering.push_back(state[0])\n",
    "\n",
    "# Mixed 1/3\n",
    "# for i in range(k//3):\n",
    "#     for state in states[i]:\n",
    "#         ordering.push_back(state[0])\n",
    "#     if i < k-1:\n",
    "#         ordering.push_back(operators[i][0])\n",
    "# for j in range(k-1, k//3-1, -1):\n",
    "#     if j < k-1:\n",
    "#         ordering.push_back(operators[j][0])\n",
    "#     for state in states[j]:\n",
    "#         ordering.push_back(state[0])\n",
    "\n",
    "# Mixed 1/2\n",
    "# for i in range(k//2):\n",
    "#     for state in states[i]:\n",
    "#         ordering.push_back(state[0])\n",
    "#     if i < k-1:\n",
    "#         ordering.push_back(operators[i][0])\n",
    "# for j in range(k-1, k//2-1, -1):\n",
    "#     if j < k-1:\n",
    "#         ordering.push_back(operators[j][0])\n",
    "#     for state in states[j]:\n",
    "#         ordering.push_back(state[0])\n",
    "\n",
    "# Mixed 2/3\n",
    "# for i in range(2*k//3):\n",
    "#     for state in states[i]:\n",
    "#         ordering.push_back(state[0])\n",
    "#     if i < k-1:\n",
    "#         ordering.push_back(operators[i][0])\n",
    "# for j in range(k-1, 2*k//3-1, -1):\n",
    "#     if j < k-1:\n",
    "#         ordering.push_back(operators[j][0])\n",
    "#     for state in states[j]:\n",
    "#         ordering.push_back(state[0])\n",
    "\n",
    "# for j in reversed(range(k)):\n",
    "#     if j < k-1:\n",
    "#         ordering.push_back(operators[j][0])\n",
    "    \n",
    "# for j in reversed(range(k)):\n",
    "#     for state in states[j]:\n",
    "#         ordering.push_back(state[0])\n",
    "\n",
    "minigraph = gtsam.DiscreteFactorGraph()\n",
    "\n",
    "dag = graph.maxProduct(ordering)\n",
    "result = dag.argmax()\n",
    "\n",
    "# result = graph.optimize()\n",
    "\n",
    "end = time.time()\n",
    "assert graph(result) == 1\n",
    "print(\"time taken:\", end - start)"
   ]
  },
  {
   "cell_type": "code",
   "execution_count": 6,
   "metadata": {},
   "outputs": [],
   "source": [
    "# graph, val, k = plan(12)"
   ]
  },
  {
   "cell_type": "code",
   "execution_count": 1,
   "metadata": {},
   "outputs": [
    {
     "ename": "NameError",
     "evalue": "name 'graph' is not defined",
     "output_type": "error",
     "traceback": [
      "\u001b[0;31m---------------------------------------------------------------------------\u001b[0m",
      "\u001b[0;31mNameError\u001b[0m                                 Traceback (most recent call last)",
      "\u001b[0;32m/tmp/ipykernel_2193665/241761858.py\u001b[0m in \u001b[0;36m<module>\u001b[0;34m\u001b[0m\n\u001b[0;32m----> 1\u001b[0;31m \u001b[0mprint\u001b[0m\u001b[0;34m(\u001b[0m\u001b[0mgraph\u001b[0m\u001b[0;34m)\u001b[0m\u001b[0;34m\u001b[0m\u001b[0;34m\u001b[0m\u001b[0m\n\u001b[0m",
      "\u001b[0;31mNameError\u001b[0m: name 'graph' is not defined"
     ]
    }
   ],
   "source": [
    "print(graph)"
   ]
  },
  {
   "cell_type": "code",
   "execution_count": 8,
   "metadata": {},
   "outputs": [
    {
     "data": {
      "text/plain": [
       "DiscreteValues{0: 4, 1: 0, 2: 0, 3: 0, 4: 0, 5: 0, 6: 4, 7: 4, 8: 4, 9: 4, 10: 0, 11: 1, 12: 0, 13: 0, 14: 1, 15: 0, 16: 4, 17: 4, 18: 4, 19: 1, 20: 0, 21: 0, 22: 0, 23: 0, 24: 1, 25: 4, 26: 4, 27: 4, 28: 1, 29: 0, 30: 1, 31: 0, 32: 1, 33: 1, 34: 0, 35: 4, 36: 4, 37: 1, 38: 1, 39: 0, 40: 0, 41: 0, 42: 1, 43: 2, 44: 4, 45: 4, 46: 1, 47: 1, 48: 0, 49: 1, 50: 1, 51: 1, 52: 2, 53: 0, 54: 4, 55: 1, 56: 1, 57: 1, 58: 0, 59: 0, 60: 1, 61: 2, 62: 3, 63: 1, 64: 11, 65: 2, 66: 15, 67: 3, 68: 19}"
      ]
     },
     "execution_count": 8,
     "metadata": {},
     "output_type": "execute_result"
    }
   ],
   "source": [
    "result"
   ]
  },
  {
   "cell_type": "code",
   "execution_count": 9,
   "metadata": {},
   "outputs": [
    {
     "data": {
      "text/plain": [
       "1.0"
      ]
     },
     "execution_count": 9,
     "metadata": {},
     "output_type": "execute_result"
    }
   ],
   "source": [
    "graph(result)"
   ]
  },
  {
   "cell_type": "code",
   "execution_count": 10,
   "metadata": {},
   "outputs": [
    {
     "name": "stdout",
     "output_type": "stream",
     "text": [
      "pick-up b\n",
      "stack b a\n",
      "pick-up c\n",
      "stack c b\n",
      "pick-up d\n",
      "stack d c\n"
     ]
    }
   ],
   "source": [
    "op_consts = []\n",
    "for i in range(graph.size()-1, graph.size()-k, -1):\n",
    "    op_consts.append(graph.at(i))\n",
    "val_list = []\n",
    "for op_const in reversed(op_consts):\n",
    "    print(converter.ops_names[result[op_const.operatorKey()]])"
   ]
  },
  {
   "cell_type": "code",
   "execution_count": null,
   "metadata": {},
   "outputs": [],
   "source": []
  }
 ],
 "metadata": {
  "kernelspec": {
   "display_name": "Python 3 (ipykernel)",
   "language": "python",
   "name": "python3"
  },
  "language_info": {
   "codemirror_mode": {
    "name": "ipython",
    "version": 3
   },
   "file_extension": ".py",
   "mimetype": "text/x-python",
   "name": "python",
   "nbconvert_exporter": "python",
   "pygments_lexer": "ipython3",
   "version": "3.9.7"
  }
 },
 "nbformat": 4,
 "nbformat_minor": 2
}
