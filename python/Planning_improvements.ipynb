{
 "cells": [
  {
   "cell_type": "markdown",
   "metadata": {},
   "source": [
    "# Planning Notebook"
   ]
  },
  {
   "cell_type": "code",
   "execution_count": 13,
   "metadata": {},
   "outputs": [],
   "source": [
    "import math\n",
    "import unittest\n",
    "import numpy as np\n",
    "from itertools import product\n",
    "import tqdm\n",
    "from tqdm import tqdm_notebook\n",
    "import copy\n",
    "import pickle\n",
    "import time\n",
    "\n",
    "# import gtsam\n",
    "import gtsam\n",
    "from gtsam import *\n",
    "from gtsam.utils.test_case import GtsamTestCase\n",
    "\n",
    "# import gtbook\n",
    "import gtbook\n",
    "from gtbook.display import *\n",
    "from gtbook.discrete import *\n",
    "\n",
    "# import local package\n",
    "import gtsam_planner\n",
    "from gtsam_planner import *\n",
    "\n",
    "# import parser\n",
    "import SASParser\n",
    "from SASParser import SAS, Operator\n",
    "\n",
    "variables = Variables()\n",
    "def pretty(obj): \n",
    "    return gtbook.display.pretty(obj, variables)\n",
    "\n",
    "import graphviz\n",
    "class show(graphviz.Source):\n",
    "    \"\"\" Display an object with a dot method as a graph.\"\"\"\n",
    "\n",
    "    def __init__(self, obj):\n",
    "        \"\"\"Construct from object with 'dot' method.\"\"\"\n",
    "        # This small class takes an object, calls its dot function, and uses the\n",
    "        # resulting string to initialize a graphviz.Source instance. This in turn\n",
    "        # has a _repr_mimebundle_ method, which then renders it in the notebook.\n",
    "        super().__init__(obj.dot())"
   ]
  },
  {
   "cell_type": "code",
   "execution_count": 14,
   "metadata": {},
   "outputs": [],
   "source": [
    "class SASToGTSAM():\n",
    "    def __init__(self, sas):\n",
    "        self.sas = sas\n",
    "        self.init = sas.initial_state\n",
    "        self.goal = sas.goal\n",
    "        self.vars = self.sas.variables\n",
    "        self.ops = self.sas.operators\n",
    "        self.mutex_groups = self.sas.mutex_group\n",
    "        self.ops_names = []\n",
    "        for op in self.ops:\n",
    "            self.ops_names.append(op.name)\n",
    "        self.state_keys = list(self.vars.keys())\n",
    "    \n",
    "    def generate_state(self, timestep):\n",
    "        state = []\n",
    "        for var, val in self.vars.items():\n",
    "            state_var = variables.discrete(str(var)+\"_\"+str(timestep), val)\n",
    "            state.append(state_var)\n",
    "        return state\n",
    "    \n",
    "    def generate_operator_key(self, timestep):\n",
    "        op_var = variables.discrete(\"op_\"+str(timestep), self.ops_names)\n",
    "        return op_var\n",
    "    \n",
    "    def generate_opkey_improved(self, timestep, cardinality):\n",
    "        op_var = variables.discrete(\"op_\"+str(timestep), range(cardinality))\n",
    "        return op_var\n",
    "    \n",
    "    def generate_initial_factor(self, initial_state):\n",
    "        keys = gtsam.DiscreteKeys()\n",
    "        for key in initial_state:\n",
    "            keys.push_back(key)\n",
    "        init_values = list(self.init.values())\n",
    "        init_f = gtsam_planner.MultiValueConstraint(keys, init_values)\n",
    "        return init_f\n",
    "\n",
    "    def generate_goal_factor(self, goal_state):\n",
    "        keys = gtsam.DiscreteKeys()\n",
    "        vals = []\n",
    "        for goal_var, goal_val in self.goal.items():\n",
    "            keys.push_back(goal_state[self.state_keys.index(goal_var)])\n",
    "            vals.append(goal_val)\n",
    "        goal_f = gtsam_planner.MultiValueConstraint(keys, vals)\n",
    "        return goal_f\n",
    "    \n",
    "    def generate_op_null(self, state_t, state_tp, operator):\n",
    "        vals = []\n",
    "        op_keys = set()\n",
    "        multi_keys = gtsam.DiscreteKeys()\n",
    "        for pre_var, pre_val in operator.precondition.items():\n",
    "            key = state_t[self.state_keys.index(pre_var)]\n",
    "            op_keys.add(key)\n",
    "            if pre_val == -1:\n",
    "                continue\n",
    "            multi_keys.push_back(key)\n",
    "            vals.append(pre_val)\n",
    "        \n",
    "        for eff_var, eff_val in operator.effect.items():\n",
    "            key = state_tp[self.state_keys.index(eff_var)]\n",
    "            op_keys.add(key)\n",
    "            if eff_val == -1:\n",
    "                continue\n",
    "            multi_keys.push_back(key)\n",
    "            vals.append(eff_val)\n",
    "        \n",
    "        if operator.num_prevail > 0:\n",
    "            for var, val in operator.prevail.items():\n",
    "                key_t = state_t[self.state_keys.index(var)]\n",
    "                key_tp = state_tp[self.state_keys.index(var)]\n",
    "                op_keys.add(key_t)\n",
    "                op_keys.add(key_tp)\n",
    "                multi_keys.push_back(key_t)\n",
    "                multi_keys.push_back(key_tp)\n",
    "                vals.extend([val,val])\n",
    "\n",
    "        assert len(op_keys) % 2 == 0\n",
    "        frame_keys = set()\n",
    "        null_keys = gtsam.DiscreteKeys()\n",
    "        for var in state_t+state_tp:\n",
    "            if var not in op_keys:\n",
    "                null_keys.push_back(var)\n",
    "                frame_keys.add(var)\n",
    "\n",
    "        op_f = gtsam_planner.MultiValueConstraint(multi_keys, vals)\n",
    "        null_f = gtsam_planner.NullConstraint(null_keys)\n",
    "        return op_f, null_f, op_keys, frame_keys\n",
    "\n",
    "    def generate_mutex_factor(self, state_t):\n",
    "        state = list(self.vars.keys())\n",
    "        mutex_variables = []\n",
    "        mutex_values = []\n",
    "        \n",
    "        for mutex_group in self.mutex_groups:\n",
    "            var_group = []\n",
    "            val_group = []\n",
    "            for var, val in mutex_group:\n",
    "                state_var = state_t[state.index(var)]\n",
    "                var_group.append(state_var)\n",
    "                val_group.append(val)\n",
    "            mutex_variables.append(var_group)\n",
    "            mutex_values.append(val_group)\n",
    "        \n",
    "        factors = []\n",
    "        for mutex_var, mutex_val in zip(mutex_variables, mutex_values):\n",
    "            keys = gtsam.DiscreteKeys()\n",
    "            for var in mutex_var:\n",
    "                keys.push_back(var)\n",
    "            mutex = gtsam_planner.MutexConstraint(keys, mutex_val)\n",
    "            factors.append(mutex)\n",
    "        return factors\n",
    "    \n",
    "    def generate_frame_op_factor(self, state_t, state_tp, op_key):\n",
    "        op_consts = []\n",
    "        null_consts = []\n",
    "        \n",
    "        op_keys_set = set()\n",
    "        op_keys_set.add(op_key)\n",
    "        \n",
    "        frame_keys_set = set()\n",
    "        frame_keys_set.add(op_key)\n",
    "        \n",
    "        for op in self.ops:\n",
    "            op_const, null_const, op_keys, frame_keys = self.generate_op_null(state_t, state_tp, op)\n",
    "            op_consts.append(op_const)\n",
    "            null_consts.append(null_const)\n",
    "            op_keys_set = op_keys_set.union(op_keys)\n",
    "            frame_keys_set = frame_keys_set.union(frame_keys)\n",
    "\n",
    "        op_dkeys = gtsam.DiscreteKeys()\n",
    "        for key in op_keys_set:\n",
    "            op_dkeys.push_back(key)\n",
    "        \n",
    "        frame_dkeys = gtsam.DiscreteKeys()\n",
    "        for key in frame_keys_set:\n",
    "            frame_dkeys.push_back(key)\n",
    "\n",
    "        op_factor = gtsam_planner.OperatorOrConstraint(op_key, op_dkeys, op_consts)\n",
    "        frame_factor = gtsam_planner.FrameConstraint(op_key, frame_dkeys, null_consts)\n",
    "        return op_factor, frame_factor\n"
   ]
  },
  {
   "cell_type": "code",
   "execution_count": 15,
   "metadata": {},
   "outputs": [],
   "source": [
    "sas = SAS()\n",
    "sas_dir = \"sas/block_example.sas\"\n",
    "sas.read_file(sas_dir)\n",
    "converter = SASToGTSAM(sas)"
   ]
  },
  {
   "cell_type": "code",
   "execution_count": 16,
   "metadata": {},
   "outputs": [],
   "source": [
    "states = []\n",
    "mutex_factors = []\n",
    "op_factors = []\n",
    "frame_factors = []\n",
    "k = 7\n",
    "for i in range(k):\n",
    "    # generate state\n",
    "    state_t = converter.generate_state(i)\n",
    "    states.append(state_t)\n",
    "    # generate mutex factor for the state\n",
    "    mutex_factor_t = converter.generate_mutex_factor(state_t)\n",
    "    mutex_factors.append(mutex_factor_t)"
   ]
  },
  {
   "cell_type": "code",
   "execution_count": 17,
   "metadata": {},
   "outputs": [],
   "source": [
    "initial_factor = converter.generate_initial_factor(states[0])\n",
    "goal_factor = converter.generate_goal_factor(states[-1])"
   ]
  },
  {
   "cell_type": "code",
   "execution_count": 18,
   "metadata": {},
   "outputs": [],
   "source": [
    "graph0 = gtsam.DiscreteFactorGraph()"
   ]
  },
  {
   "cell_type": "code",
   "execution_count": 19,
   "metadata": {},
   "outputs": [],
   "source": [
    "graph0.push_back(initial_factor)\n",
    "for m in mutex_factors[0]:\n",
    "    graph0.push_back(m)"
   ]
  },
  {
   "cell_type": "code",
   "execution_count": 20,
   "metadata": {},
   "outputs": [
    {
     "name": "stdout",
     "output_type": "stream",
     "text": [
      "\n",
      "size: 6\n",
      "factor 0: MultiValueConstraint on 0 1 2 3 4 5 6 7 8 \n",
      "factor 1: MutexConstraint on 1 0 6 7 8 \n",
      "factor 2: MutexConstraint on 2 0 6 7 8 \n",
      "factor 3: MutexConstraint on 3 0 6 7 8 \n",
      "factor 4: MutexConstraint on 4 0 6 7 8 \n",
      "factor 5: MutexConstraint on 5 0 6 7 8 \n",
      "\n"
     ]
    }
   ],
   "source": [
    "print(graph0)"
   ]
  },
  {
   "cell_type": "code",
   "execution_count": 21,
   "metadata": {},
   "outputs": [],
   "source": [
    "val0 = graph0.optimize()"
   ]
  },
  {
   "cell_type": "code",
   "execution_count": 22,
   "metadata": {},
   "outputs": [
    {
     "data": {
      "text/plain": [
       "DiscreteValues{0: 4, 1: 0, 2: 0, 3: 0, 4: 0, 5: 0, 6: 4, 7: 4, 8: 4}"
      ]
     },
     "execution_count": 22,
     "metadata": {},
     "output_type": "execute_result"
    }
   ],
   "source": [
    "val0"
   ]
  },
  {
   "cell_type": "code",
   "execution_count": null,
   "metadata": {},
   "outputs": [],
   "source": [
    "def generate_frame_op_factor(self, state_t, state_tp, op_key):\n",
    "    op_consts = []\n",
    "    null_consts = []\n",
    "    \n",
    "    op_keys_set = set()\n",
    "    op_keys_set.add(op_key)\n",
    "    \n",
    "    frame_keys_set = set()\n",
    "    frame_keys_set.add(op_key)\n",
    "    \n",
    "    for op in self.ops:\n",
    "        op_const, null_const, op_keys, frame_keys = self.generate_op_null(state_t, state_tp, op)\n",
    "        op_consts.append(op_const)\n",
    "        null_consts.append(null_const)\n",
    "        op_keys_set = op_keys_set.union(op_keys)\n",
    "        frame_keys_set = frame_keys_set.union(frame_keys)\n",
    "\n",
    "    op_dkeys = gtsam.DiscreteKeys()\n",
    "    for key in op_keys_set:\n",
    "        op_dkeys.push_back(key)\n",
    "    \n",
    "    frame_dkeys = gtsam.DiscreteKeys()\n",
    "    for key in frame_keys_set:\n",
    "        frame_dkeys.push_back(key)\n",
    "\n",
    "    op_factor = gtsam_planner.OperatorOrConstraint(op_key, op_dkeys, op_consts)\n",
    "    frame_factor = gtsam_planner.FrameConstraint(op_key, frame_dkeys, null_consts)\n",
    "    return op_factor, frame_factor"
   ]
  },
  {
   "cell_type": "code",
   "execution_count": 23,
   "metadata": {},
   "outputs": [],
   "source": [
    "valid_ops = []\n",
    "valid_nulls = []\n",
    "valid_op_keys = set()\n",
    "valid_null_keys = set()\n",
    "for op in converter.ops:\n",
    "    op_c, null_c, op_keys, null_keys = converter.generate_op_null(states[0], states[1], op)\n",
    "    if op_c(val0) == 1.0:\n",
    "        valid_ops.append(op_c)\n",
    "        valid_nulls.append(null_c)\n",
    "        valid_op_keys = valid_op_keys.union(op_keys)\n",
    "        valid_null_keys = valid_null_keys.union(null_keys)\n",
    "op_key = converter.generate_opkey_improved(0, len(valid_ops))\n",
    "valid_op_keys.insert(0, op_key)\n",
    "valid_null_keys.insert(0, op_key)\n"
   ]
  },
  {
   "cell_type": "code",
   "execution_count": 64,
   "metadata": {},
   "outputs": [
    {
     "data": {
      "text/plain": [
       "[MultiValueConstraint on 1 5 0 10 14 9 ,\n",
       " MultiValueConstraint on 2 5 6 11 14 15 ,\n",
       " MultiValueConstraint on 3 5 7 12 14 16 ,\n",
       " MultiValueConstraint on 4 5 8 13 14 17 ]"
      ]
     },
     "execution_count": 64,
     "metadata": {},
     "output_type": "execute_result"
    }
   ],
   "source": [
    "valid_ops"
   ]
  },
  {
   "cell_type": "code",
   "execution_count": 65,
   "metadata": {},
   "outputs": [
    {
     "data": {
      "text/plain": [
       "[NullConstraint on 2 3 4 6 7 8 11 12 13 15 16 17 ,\n",
       " NullConstraint on 0 1 3 4 7 8 9 10 12 13 16 17 ,\n",
       " NullConstraint on 0 1 2 4 6 8 9 10 11 13 15 17 ,\n",
       " NullConstraint on 0 1 2 3 6 7 9 10 11 12 15 16 ]"
      ]
     },
     "execution_count": 65,
     "metadata": {},
     "output_type": "execute_result"
    }
   ],
   "source": [
    "valid_nulls"
   ]
  },
  {
   "cell_type": "code",
   "execution_count": 5,
   "metadata": {},
   "outputs": [
    {
     "name": "stdout",
     "output_type": "stream",
     "text": [
      "time taken: 58.0973596572876\n"
     ]
    }
   ],
   "source": [
    "start = time.time()\n",
    "k = 7\n",
    "states = []\n",
    "mutex_factors = []\n",
    "op_factors = []\n",
    "frame_factors = []\n",
    "for i in range(k):\n",
    "    # generate state\n",
    "    state_t = converter.generate_state(i)\n",
    "    states.append(state_t)\n",
    "    # generate mutex factor for the state\n",
    "    mutex_factor_t = converter.generate_mutex_factor(state_t)\n",
    "    mutex_factors.append(mutex_factor_t)\n",
    "for j in range(len(states)-1):\n",
    "    op_key = converter.generate_operator_key(j)\n",
    "    op_factor, frame_factor = converter.generate_frame_op_factor(states[j], states[j+1], op_key)\n",
    "    op_factors.append(op_factor)\n",
    "    frame_factors.append(frame_factor)\n",
    "initial_factor = converter.generate_initial_factor(states[0])\n",
    "goal_factor = converter.generate_goal_factor(states[-1])\n",
    "\n",
    "graph = gtsam.DiscreteFactorGraph()\n",
    "for m_factor in mutex_factors:\n",
    "    for f in m_factor:\n",
    "        graph.push_back(f)\n",
    "\n",
    "graph.push_back(goal_factor)\n",
    "graph.push_back(initial_factor)\n",
    "\n",
    "for op_factor in op_factors:\n",
    "    graph.push_back(op_factor)\n",
    "\n",
    "for frame_factor in frame_factors:\n",
    "    graph.push_back(frame_factor)\n",
    "\n",
    "val = graph.optimize()\n",
    "end = time.time()\n",
    "assert graph(val) == 1\n",
    "print(\"time taken:\", end - start)"
   ]
  },
  {
   "cell_type": "code",
   "execution_count": 6,
   "metadata": {},
   "outputs": [],
   "source": [
    "# graph, val, k = plan(12)"
   ]
  },
  {
   "cell_type": "code",
   "execution_count": 7,
   "metadata": {},
   "outputs": [
    {
     "name": "stdout",
     "output_type": "stream",
     "text": [
      "\n",
      "size: 49\n",
      "factor 0: MutexConstraint on 1 0 6 7 8 \n",
      "factor 1: MutexConstraint on 2 0 6 7 8 \n",
      "factor 2: MutexConstraint on 3 0 6 7 8 \n",
      "factor 3: MutexConstraint on 4 0 6 7 8 \n",
      "factor 4: MutexConstraint on 5 0 6 7 8 \n",
      "factor 5: MutexConstraint on 10 9 15 16 17 \n",
      "factor 6: MutexConstraint on 11 9 15 16 17 \n",
      "factor 7: MutexConstraint on 12 9 15 16 17 \n",
      "factor 8: MutexConstraint on 13 9 15 16 17 \n",
      "factor 9: MutexConstraint on 14 9 15 16 17 \n",
      "factor 10: MutexConstraint on 19 18 24 25 26 \n",
      "factor 11: MutexConstraint on 20 18 24 25 26 \n",
      "factor 12: MutexConstraint on 21 18 24 25 26 \n",
      "factor 13: MutexConstraint on 22 18 24 25 26 \n",
      "factor 14: MutexConstraint on 23 18 24 25 26 \n",
      "factor 15: MutexConstraint on 28 27 33 34 35 \n",
      "factor 16: MutexConstraint on 29 27 33 34 35 \n",
      "factor 17: MutexConstraint on 30 27 33 34 35 \n",
      "factor 18: MutexConstraint on 31 27 33 34 35 \n",
      "factor 19: MutexConstraint on 32 27 33 34 35 \n",
      "factor 20: MutexConstraint on 37 36 42 43 44 \n",
      "factor 21: MutexConstraint on 38 36 42 43 44 \n",
      "factor 22: MutexConstraint on 39 36 42 43 44 \n",
      "factor 23: MutexConstraint on 40 36 42 43 44 \n",
      "factor 24: MutexConstraint on 41 36 42 43 44 \n",
      "factor 25: MutexConstraint on 46 45 51 52 53 \n",
      "factor 26: MutexConstraint on 47 45 51 52 53 \n",
      "factor 27: MutexConstraint on 48 45 51 52 53 \n",
      "factor 28: MutexConstraint on 49 45 51 52 53 \n",
      "factor 29: MutexConstraint on 50 45 51 52 53 \n",
      "factor 30: MutexConstraint on 55 54 60 61 62 \n",
      "factor 31: MutexConstraint on 56 54 60 61 62 \n",
      "factor 32: MutexConstraint on 57 54 60 61 62 \n",
      "factor 33: MutexConstraint on 58 54 60 61 62 \n",
      "factor 34: MutexConstraint on 59 54 60 61 62 \n",
      "factor 35: MultiValueConstraint on 60 61 62 \n",
      "factor 36: MultiValueConstraint on 0 1 2 3 4 5 6 7 8 \n",
      "factor 37: OperatorOrConstraint on j=63\n",
      "factor 38: OperatorOrConstraint on j=64\n",
      "factor 39: OperatorOrConstraint on j=65\n",
      "factor 40: OperatorOrConstraint on j=66\n",
      "factor 41: OperatorOrConstraint on j=67\n",
      "factor 42: OperatorOrConstraint on j=68\n",
      "factor 43: FrameConstraint on j=63\n",
      "factor 44: FrameConstraint on j=64\n",
      "factor 45: FrameConstraint on j=65\n",
      "factor 46: FrameConstraint on j=66\n",
      "factor 47: FrameConstraint on j=67\n",
      "factor 48: FrameConstraint on j=68\n",
      "\n"
     ]
    }
   ],
   "source": [
    "print(graph)"
   ]
  },
  {
   "cell_type": "code",
   "execution_count": 19,
   "metadata": {},
   "outputs": [
    {
     "data": {
      "text/plain": [
       "DiscreteValues{0: 4, 1: 0, 2: 0, 3: 0, 4: 0, 5: 0, 6: 4, 7: 4, 8: 4, 9: 4, 10: 0, 11: 1, 12: 0, 13: 0, 14: 1, 15: 0, 16: 4, 17: 4, 18: 4, 19: 1, 20: 0, 21: 0, 22: 0, 23: 0, 24: 1, 25: 4, 26: 4, 27: 4, 28: 1, 29: 0, 30: 1, 31: 0, 32: 1, 33: 1, 34: 0, 35: 4, 36: 4, 37: 1, 38: 1, 39: 0, 40: 0, 41: 0, 42: 1, 43: 2, 44: 4, 45: 4, 46: 1, 47: 1, 48: 0, 49: 1, 50: 1, 51: 1, 52: 2, 53: 0, 54: 4, 55: 1, 56: 1, 57: 1, 58: 0, 59: 0, 60: 1, 61: 2, 62: 3, 63: 1, 64: 11, 65: 2, 66: 15, 67: 3, 68: 19}"
      ]
     },
     "execution_count": 19,
     "metadata": {},
     "output_type": "execute_result"
    }
   ],
   "source": [
    "val"
   ]
  },
  {
   "cell_type": "code",
   "execution_count": 10,
   "metadata": {},
   "outputs": [
    {
     "data": {
      "text/plain": [
       "1.0"
      ]
     },
     "execution_count": 10,
     "metadata": {},
     "output_type": "execute_result"
    }
   ],
   "source": [
    "graph(val)"
   ]
  },
  {
   "cell_type": "code",
   "execution_count": 25,
   "metadata": {},
   "outputs": [],
   "source": [
    "val[68] = 24"
   ]
  },
  {
   "cell_type": "code",
   "execution_count": 26,
   "metadata": {},
   "outputs": [
    {
     "data": {
      "text/plain": [
       "0.0"
      ]
     },
     "execution_count": 26,
     "metadata": {},
     "output_type": "execute_result"
    }
   ],
   "source": [
    "graph(val)"
   ]
  },
  {
   "cell_type": "code",
   "execution_count": 11,
   "metadata": {},
   "outputs": [
    {
     "name": "stdout",
     "output_type": "stream",
     "text": [
      "pick-up b\n",
      "stack b a\n",
      "pick-up c\n",
      "stack c b\n",
      "pick-up d\n",
      "stack d c\n"
     ]
    }
   ],
   "source": [
    "op_consts = []\n",
    "for i in range(graph.size()-1, graph.size()-k, -1):\n",
    "    op_consts.append(graph.at(i))\n",
    "val_list = []\n",
    "for op_const in reversed(op_consts):\n",
    "    print(converter.ops_names[val[op_const.operatorKey()]])"
   ]
  },
  {
   "cell_type": "code",
   "execution_count": 13,
   "metadata": {},
   "outputs": [],
   "source": [
    "op_tree = graph.at(42).toDecisionTreeFactor()"
   ]
  },
  {
   "cell_type": "code",
   "execution_count": 14,
   "metadata": {},
   "outputs": [
    {
     "data": {
      "text/plain": [
       "19"
      ]
     },
     "execution_count": 14,
     "metadata": {},
     "output_type": "execute_result"
    }
   ],
   "source": [
    "op_tree.size()"
   ]
  },
  {
   "cell_type": "code",
   "execution_count": 18,
   "metadata": {},
   "outputs": [
    {
     "data": {
      "text/plain": [
       "5"
      ]
     },
     "execution_count": 18,
     "metadata": {},
     "output_type": "execute_result"
    }
   ],
   "source": [
    "op_tree.cardinality(45)"
   ]
  },
  {
   "cell_type": "code",
   "execution_count": null,
   "metadata": {},
   "outputs": [],
   "source": []
  }
 ],
 "metadata": {
  "kernelspec": {
   "display_name": "Python 3 (ipykernel)",
   "language": "python",
   "name": "python3"
  },
  "language_info": {
   "codemirror_mode": {
    "name": "ipython",
    "version": 3
   },
   "file_extension": ".py",
   "mimetype": "text/x-python",
   "name": "python",
   "nbconvert_exporter": "python",
   "pygments_lexer": "ipython3",
   "version": "3.9.7"
  }
 },
 "nbformat": 4,
 "nbformat_minor": 2
}
