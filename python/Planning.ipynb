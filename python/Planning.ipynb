{
 "cells": [
  {
   "cell_type": "markdown",
   "metadata": {},
   "source": [
    "# Planning Notebook"
   ]
  },
  {
   "cell_type": "code",
   "execution_count": 8,
   "metadata": {},
   "outputs": [],
   "source": [
    "import math\n",
    "import unittest\n",
    "import numpy as np\n",
    "from itertools import product\n",
    "\n",
    "# import gtsam\n",
    "import gtsam\n",
    "from gtsam import *\n",
    "from gtsam.utils.test_case import GtsamTestCase\n",
    "\n",
    "# import gtbook\n",
    "import gtbook\n",
    "from gtbook.display import *\n",
    "from gtbook.discrete import *\n",
    "\n",
    "# import local package\n",
    "import gtsam_example\n",
    "from gtsam_example import SingleValueConstraint, MultiValueConstraint\n",
    "\n",
    "# import parser\n",
    "import SASParser\n",
    "from SASParser import SAS, Operator\n",
    "\n",
    "variables = Variables()\n",
    "def pretty(obj): \n",
    "    return gtbook.display.pretty(obj, variables)\n",
    "\n",
    "import graphviz\n",
    "class show(graphviz.Source):\n",
    "    \"\"\" Display an object with a dot method as a graph.\"\"\"\n",
    "\n",
    "    def __init__(self, obj):\n",
    "        \"\"\"Construct from object with 'dot' method.\"\"\"\n",
    "        # This small class takes an object, calls its dot function, and uses the\n",
    "        # resulting string to initialize a graphviz.Source instance. This in turn\n",
    "        # has a _repr_mimebundle_ method, which then renders it in the notebook.\n",
    "        super().__init__(obj.dot())"
   ]
  },
  {
   "cell_type": "code",
   "execution_count": 9,
   "metadata": {},
   "outputs": [],
   "source": [
    "class SASToGTSAM():\n",
    "    def __init__(self, sas):\n",
    "        self.sas = sas\n",
    "        self.init = sas.initial_state\n",
    "        self.goal = sas.goal\n",
    "        self.vars = self.sas.variables\n",
    "        self.ops = self.sas.operators\n",
    "        self.mutex_groups = self.sas.mutex_group\n",
    "        self.ops_names = []\n",
    "        for op in self.ops:\n",
    "            self.ops_names.append(op.name)\n",
    "\n",
    "    def generate_string(self, cardinality, val):\n",
    "        string_list = []\n",
    "        for i in range(cardinality):\n",
    "            string_list.append(\"0\")\n",
    "        string_list[val] = \"1\"\n",
    "        string = ' '.join(string_list)\n",
    "        return string\n",
    "    \n",
    "    def generate_state(self, timestep):\n",
    "        state = []\n",
    "        for var, val in self.vars.items():\n",
    "            state_var = variables.discrete(str(var)+\"_\"+str(timestep), val)\n",
    "            state.append(state_var)\n",
    "        return state\n",
    "    \n",
    "    def generate_operator(self, timestep):\n",
    "        operators = []\n",
    "        for op in self.ops:\n",
    "            op_var = variables.binary(op.name+\"_\"+str(timestep))\n",
    "            operators.append(op_var)\n",
    "        return operators\n",
    "    \n",
    "    def generate_initial_factor(self):\n",
    "        initial_state = self.generate_state(0)\n",
    "        keys = gtsam.DiscreteKeys()\n",
    "        for key in self.init:\n",
    "            keys.push_back(key)\n",
    "        \n",
    "        multi_f = MultiValueConstraint(keys, list(self.init.values()))\n",
    "        # init_f = gtsam.DecisionTreeFactor()\n",
    "        # for i, var_val in enumerate(self.init.items()):\n",
    "        #     single_f = SingleValueConstraint(initial_state[i], var_val[1])\n",
    "        #     f = single_f.toDecisionTreeFactor()\n",
    "        #     init_f *= f\n",
    "        # return init_f\n",
    "        return multi_f\n",
    "\n",
    "    def generate_goal_factor(self, goal_state):\n",
    "        state = list(self.vars.keys())\n",
    "        goal_f = gtsam.DecisionTreeFactor()\n",
    "        for goal_var, goal_val in self.goal.items():\n",
    "            state_var = goal_state[state.index(goal_var)]\n",
    "            single_f = SingleValueConstraint(state_var, goal_val)\n",
    "            f = single_f.toDecisionTreeFactor()\n",
    "            goal_f *= f\n",
    "        return goal_f\n",
    "\n",
    "    def generate_op_factor(self, state_t, state_tp, op_t, operator):\n",
    "        state = list(self.vars.keys())\n",
    "        preconditions = operator.precondition\n",
    "        effects = operator.effect\n",
    "        prevail = operator.prevail\n",
    "        f = gtsam.DecisionTreeFactor(op_t, self.generate_string(2, 1))\n",
    "        for pre_var, pre_val in preconditions.items():\n",
    "            state_var = state_t[state.index(pre_var)]\n",
    "            cardinality = state_var[1]\n",
    "            state_f = gtsam.DecisionTreeFactor(state_var, self.generate_string(cardinality, pre_val))\n",
    "            f *= state_f\n",
    "        for eff_var, eff_val in effects.items():\n",
    "            state_var = state_tp[state.index(eff_var)]\n",
    "            cardinality = state_var[1]\n",
    "            state_f = gtsam.DecisionTreeFactor(state_var, self.generate_string(cardinality, eff_val))\n",
    "            f *= state_f\n",
    "        if prevail:\n",
    "            for prev_var, prev_val in prevail.items():\n",
    "                state_var_t = state_t[state.index(prev_var)]\n",
    "                state_var_tp = state_tp[state.index(prev_var)]\n",
    "                cardinality = state_var[1]\n",
    "                state_t_f = gtsam.DecisionTreeFactor(state_var_t, self.generate_string(cardinality, prev_val))\n",
    "                state_tp_f = gtsam.DecisionTreeFactor(state_var_tp, self.generate_string(cardinality, prev_val))\n",
    "                f *= state_t_f\n",
    "                f *= state_tp_f\n",
    "        return f\n",
    "\n",
    "    def valid(self, values, mutex):\n",
    "        assert len(values) == len(mutex)\n",
    "        count = 0\n",
    "        for v, m in zip(values, mutex):\n",
    "            if v == m:\n",
    "                count += 1\n",
    "            if count > 1:\n",
    "                return \"0\"\n",
    "        return \"1\"\n",
    "\n",
    "    def generate_mutex_factor(self, state_t):\n",
    "        state = list(self.vars.keys())\n",
    "        mutex_variables = []\n",
    "        mutex_values = []\n",
    "        \n",
    "        for mutex_group in self.mutex_groups:\n",
    "            var_group = []\n",
    "            val_group = []\n",
    "            for var, val in mutex_group:\n",
    "                state_var = state_t[state.index(var)]\n",
    "                var_group.append(state_var)\n",
    "                val_group.append(val)\n",
    "            mutex_variables.append(var_group)\n",
    "            mutex_values.append(val_group)\n",
    "        \n",
    "        f = gtsam.DecisionTreeFactor()\n",
    "        for mutex_var, mutex_val in zip(mutex_variables, mutex_values):\n",
    "            input = []\n",
    "            for var in mutex_var:\n",
    "                input.append(list(range(var[1])))\n",
    "            prods = list(product(*input))\n",
    "            mutex_string_list = []\n",
    "            for prod in prods:\n",
    "                is_valid = self.valid(prod, mutex_val)\n",
    "                mutex_string_list.append(is_valid)\n",
    "            mutex_string = ' '.join(mutex_string_list)\n",
    "            f = f*gtsam.DecisionTreeFactor(mutex_var, mutex_string)\n",
    "        return f"
   ]
  },
  {
   "cell_type": "code",
   "execution_count": 91,
   "metadata": {},
   "outputs": [],
   "source": [
    "a = (3,2)\n",
    "b = (4,2)\n",
    "single = SingleValueConstraint(a, 1)"
   ]
  },
  {
   "cell_type": "code",
   "execution_count": 92,
   "metadata": {},
   "outputs": [],
   "source": [
    "values = DiscreteValues()\n",
    "values[a[0]] = 1\n",
    "values[b[0]] = 1\n"
   ]
  },
  {
   "cell_type": "code",
   "execution_count": 93,
   "metadata": {},
   "outputs": [
    {
     "data": {
      "text/plain": [
       "DiscreteValues{3: 1, 4: 1}"
      ]
     },
     "execution_count": 93,
     "metadata": {},
     "output_type": "execute_result"
    }
   ],
   "source": [
    "values"
   ]
  },
  {
   "cell_type": "code",
   "execution_count": 94,
   "metadata": {},
   "outputs": [
    {
     "data": {
      "text/plain": [
       "1.0"
      ]
     },
     "execution_count": 94,
     "metadata": {},
     "output_type": "execute_result"
    }
   ],
   "source": [
    "single(values)"
   ]
  },
  {
   "cell_type": "code",
   "execution_count": null,
   "metadata": {},
   "outputs": [],
   "source": [
    "var1 = []\n",
    "var1: 0\n",
    "var2: 0"
   ]
  },
  {
   "cell_type": "code",
   "execution_count": 10,
   "metadata": {},
   "outputs": [],
   "source": [
    "sas = SAS()\n",
    "sas_dir = \"sas/block_example.sas\"\n",
    "sas.read_file(sas_dir)\n",
    "converter = SASToGTSAM(sas)"
   ]
  },
  {
   "cell_type": "code",
   "execution_count": 29,
   "metadata": {},
   "outputs": [],
   "source": [
    "names = converter.ops_names # 1, 43, 66, 111, 131, 179"
   ]
  },
  {
   "cell_type": "code",
   "execution_count": 11,
   "metadata": {},
   "outputs": [],
   "source": [
    "def plan(k):\n",
    "    if k < 1:\n",
    "        return \"There should be at least one state\"\n",
    "    states = []\n",
    "    operators = []\n",
    "    mutex_factors = []\n",
    "    op_factors = []\n",
    "    for i in range(k-1):\n",
    "        state_t = converter.generate_state(i)\n",
    "        operators_t = converter.generate_operator(i)\n",
    "        states.append(state_t)\n",
    "        operators.append(operators_t)\n",
    "    last_state = converter.generate_state(k-1)\n",
    "    states.append(last_state)\n",
    "    for j in range(len(states)-1):\n",
    "        mutex_factor = converter.generate_mutex_factor(states[j])\n",
    "        mutex_factors.append(mutex_factor)\n",
    "        # op_group = []\n",
    "        for op_t, op in zip(operators[j], converter.ops):\n",
    "            op_factor = converter.generate_op_factor(states[j], states[j+1], op_t, op)\n",
    "            # op_group.append(op_factor)\n",
    "            op_factors.append(op_factor)\n",
    "        # op_factors.append(op_group)\n",
    "    last_mutex_factor = converter.generate_mutex_factor(states[-1])\n",
    "    mutex_factors.append(last_mutex_factor)\n",
    "    initial_factor = converter.generate_initial_factor()\n",
    "    goal_factor = converter.generate_goal_factor(states[-1])\n",
    "    return states, initial_factor,  goal_factor, mutex_factors, op_factors"
   ]
  },
  {
   "cell_type": "code",
   "execution_count": 12,
   "metadata": {},
   "outputs": [
    {
     "ename": "TypeError",
     "evalue": "__init__(): incompatible constructor arguments. The following argument types are supported:\n    1. gtsam.gtsam.DiscreteKeys()\n\nInvoked with: [(255, 5), (256, 2), (257, 2), (258, 2), (259, 2), (260, 2), (261, 5), (262, 5), (263, 5)]",
     "output_type": "error",
     "traceback": [
      "\u001b[0;31m---------------------------------------------------------------------------\u001b[0m",
      "\u001b[0;31mTypeError\u001b[0m                                 Traceback (most recent call last)",
      "\u001b[0;32m/tmp/ipykernel_666988/1968895126.py\u001b[0m in \u001b[0;36m<module>\u001b[0;34m\u001b[0m\n\u001b[0;32m----> 1\u001b[0;31m \u001b[0mstates\u001b[0m\u001b[0;34m,\u001b[0m \u001b[0minitial_factor\u001b[0m\u001b[0;34m,\u001b[0m  \u001b[0mgoal_factor\u001b[0m\u001b[0;34m,\u001b[0m \u001b[0mmutex_factors\u001b[0m\u001b[0;34m,\u001b[0m \u001b[0mop_factors\u001b[0m \u001b[0;34m=\u001b[0m \u001b[0mplan\u001b[0m\u001b[0;34m(\u001b[0m\u001b[0;36m7\u001b[0m\u001b[0;34m)\u001b[0m\u001b[0;34m\u001b[0m\u001b[0;34m\u001b[0m\u001b[0m\n\u001b[0m",
      "\u001b[0;32m/tmp/ipykernel_666988/962965899.py\u001b[0m in \u001b[0;36mplan\u001b[0;34m(k)\u001b[0m\n\u001b[1;32m     24\u001b[0m     \u001b[0mlast_mutex_factor\u001b[0m \u001b[0;34m=\u001b[0m \u001b[0mconverter\u001b[0m\u001b[0;34m.\u001b[0m\u001b[0mgenerate_mutex_factor\u001b[0m\u001b[0;34m(\u001b[0m\u001b[0mstates\u001b[0m\u001b[0;34m[\u001b[0m\u001b[0;34m-\u001b[0m\u001b[0;36m1\u001b[0m\u001b[0;34m]\u001b[0m\u001b[0;34m)\u001b[0m\u001b[0;34m\u001b[0m\u001b[0;34m\u001b[0m\u001b[0m\n\u001b[1;32m     25\u001b[0m     \u001b[0mmutex_factors\u001b[0m\u001b[0;34m.\u001b[0m\u001b[0mappend\u001b[0m\u001b[0;34m(\u001b[0m\u001b[0mlast_mutex_factor\u001b[0m\u001b[0;34m)\u001b[0m\u001b[0;34m\u001b[0m\u001b[0;34m\u001b[0m\u001b[0m\n\u001b[0;32m---> 26\u001b[0;31m     \u001b[0minitial_factor\u001b[0m \u001b[0;34m=\u001b[0m \u001b[0mconverter\u001b[0m\u001b[0;34m.\u001b[0m\u001b[0mgenerate_initial_factor\u001b[0m\u001b[0;34m(\u001b[0m\u001b[0;34m)\u001b[0m\u001b[0;34m\u001b[0m\u001b[0;34m\u001b[0m\u001b[0m\n\u001b[0m\u001b[1;32m     27\u001b[0m     \u001b[0mgoal_factor\u001b[0m \u001b[0;34m=\u001b[0m \u001b[0mconverter\u001b[0m\u001b[0;34m.\u001b[0m\u001b[0mgenerate_goal_factor\u001b[0m\u001b[0;34m(\u001b[0m\u001b[0mstates\u001b[0m\u001b[0;34m[\u001b[0m\u001b[0;34m-\u001b[0m\u001b[0;36m1\u001b[0m\u001b[0;34m]\u001b[0m\u001b[0;34m)\u001b[0m\u001b[0;34m\u001b[0m\u001b[0;34m\u001b[0m\u001b[0m\n\u001b[1;32m     28\u001b[0m     \u001b[0;32mreturn\u001b[0m \u001b[0mstates\u001b[0m\u001b[0;34m,\u001b[0m \u001b[0minitial_factor\u001b[0m\u001b[0;34m,\u001b[0m  \u001b[0mgoal_factor\u001b[0m\u001b[0;34m,\u001b[0m \u001b[0mmutex_factors\u001b[0m\u001b[0;34m,\u001b[0m \u001b[0mop_factors\u001b[0m\u001b[0;34m\u001b[0m\u001b[0;34m\u001b[0m\u001b[0m\n",
      "\u001b[0;32m/tmp/ipykernel_666988/110443448.py\u001b[0m in \u001b[0;36mgenerate_initial_factor\u001b[0;34m(self)\u001b[0m\n\u001b[1;32m     35\u001b[0m     \u001b[0;32mdef\u001b[0m \u001b[0mgenerate_initial_factor\u001b[0m\u001b[0;34m(\u001b[0m\u001b[0mself\u001b[0m\u001b[0;34m)\u001b[0m\u001b[0;34m:\u001b[0m\u001b[0;34m\u001b[0m\u001b[0;34m\u001b[0m\u001b[0m\n\u001b[1;32m     36\u001b[0m         \u001b[0minitial_state\u001b[0m \u001b[0;34m=\u001b[0m \u001b[0mself\u001b[0m\u001b[0;34m.\u001b[0m\u001b[0mgenerate_state\u001b[0m\u001b[0;34m(\u001b[0m\u001b[0;36m0\u001b[0m\u001b[0;34m)\u001b[0m\u001b[0;34m\u001b[0m\u001b[0;34m\u001b[0m\u001b[0m\n\u001b[0;32m---> 37\u001b[0;31m         \u001b[0mmulti_f\u001b[0m \u001b[0;34m=\u001b[0m \u001b[0mMultiValueConstraint\u001b[0m\u001b[0;34m(\u001b[0m\u001b[0mDiscreteKeys\u001b[0m\u001b[0;34m(\u001b[0m\u001b[0minitial_state\u001b[0m\u001b[0;34m)\u001b[0m\u001b[0;34m,\u001b[0m \u001b[0mlist\u001b[0m\u001b[0;34m(\u001b[0m\u001b[0mself\u001b[0m\u001b[0;34m.\u001b[0m\u001b[0minit\u001b[0m\u001b[0;34m.\u001b[0m\u001b[0mvalues\u001b[0m\u001b[0;34m(\u001b[0m\u001b[0;34m)\u001b[0m\u001b[0;34m)\u001b[0m\u001b[0;34m)\u001b[0m\u001b[0;34m\u001b[0m\u001b[0;34m\u001b[0m\u001b[0m\n\u001b[0m\u001b[1;32m     38\u001b[0m         \u001b[0;31m# init_f = gtsam.DecisionTreeFactor()\u001b[0m\u001b[0;34m\u001b[0m\u001b[0;34m\u001b[0m\u001b[0m\n\u001b[1;32m     39\u001b[0m         \u001b[0;31m# for i, var_val in enumerate(self.init.items()):\u001b[0m\u001b[0;34m\u001b[0m\u001b[0;34m\u001b[0m\u001b[0m\n",
      "\u001b[0;31mTypeError\u001b[0m: __init__(): incompatible constructor arguments. The following argument types are supported:\n    1. gtsam.gtsam.DiscreteKeys()\n\nInvoked with: [(255, 5), (256, 2), (257, 2), (258, 2), (259, 2), (260, 2), (261, 5), (262, 5), (263, 5)]"
     ]
    }
   ],
   "source": [
    "states, initial_factor,  goal_factor, mutex_factors, op_factors = plan(7)"
   ]
  },
  {
   "cell_type": "code",
   "execution_count": 32,
   "metadata": {},
   "outputs": [],
   "source": [
    "graph = gtsam.DiscreteFactorGraph()"
   ]
  },
  {
   "cell_type": "code",
   "execution_count": 33,
   "metadata": {},
   "outputs": [],
   "source": [
    "graph.push_back(op_factors[1])\n",
    "graph.push_back(op_factors[43])\n",
    "graph.push_back(op_factors[66])\n",
    "graph.push_back(op_factors[111])\n",
    "graph.push_back(op_factors[131])\n",
    "graph.push_back(op_factors[179])\n",
    "graph.push_back(goal_factor)\n",
    "graph.push_back(initial_factor)"
   ]
  },
  {
   "cell_type": "code",
   "execution_count": 34,
   "metadata": {},
   "outputs": [],
   "source": [
    "for mutex_factor in mutex_factors:\n",
    "    graph.push_back(mutex_factor)"
   ]
  },
  {
   "cell_type": "code",
   "execution_count": 35,
   "metadata": {},
   "outputs": [],
   "source": [
    "val = graph.optimize()"
   ]
  },
  {
   "cell_type": "code",
   "execution_count": 36,
   "metadata": {},
   "outputs": [
    {
     "data": {
      "text/plain": [
       "1.0"
      ]
     },
     "execution_count": 36,
     "metadata": {},
     "output_type": "execute_result"
    }
   ],
   "source": [
    "graph(val)"
   ]
  },
  {
   "cell_type": "code",
   "execution_count": 37,
   "metadata": {},
   "outputs": [
    {
     "data": {
      "text/plain": [
       "DiscreteValues{0: 4, 1: 0, 2: 0, 3: 0, 4: 0, 5: 0, 6: 4, 7: 4, 8: 4, 10: 1, 41: 4, 42: 0, 43: 1, 44: 0, 45: 0, 46: 1, 47: 0, 48: 4, 49: 4, 61: 1, 82: 3, 83: 1, 84: 0, 85: 0, 86: 1, 87: 0, 88: 1, 89: 4, 90: 4, 93: 1, 123: 4, 124: 0, 125: 0, 126: 1, 127: 0, 128: 1, 129: 4, 130: 0, 131: 4, 147: 1, 164: 4, 165: 0, 166: 1, 167: 0, 168: 0, 169: 0, 170: 4, 171: 2, 172: 4, 176: 1, 205: 4, 206: 0, 207: 0, 208: 0, 209: 1, 210: 1, 211: 4, 212: 4, 213: 0, 233: 1, 246: 4, 247: 1, 248: 1, 249: 1, 250: 0, 251: 0, 252: 1, 253: 2, 254: 3, 255: 4, 256: 0, 257: 0, 258: 0, 259: 0, 260: 0, 261: 4, 262: 4, 263: 4}"
      ]
     },
     "execution_count": 37,
     "metadata": {},
     "output_type": "execute_result"
    }
   ],
   "source": [
    "val"
   ]
  },
  {
   "cell_type": "code",
   "execution_count": 59,
   "metadata": {},
   "outputs": [],
   "source": [
    "for mutex_factor in mutex_factors:\n",
    "    graph.push_back(mutex_factor)"
   ]
  },
  {
   "cell_type": "code",
   "execution_count": 69,
   "metadata": {},
   "outputs": [],
   "source": [
    "for op_factor in op_factors:\n",
    "    graph.push_back(op_factor)"
   ]
  },
  {
   "cell_type": "code",
   "execution_count": 91,
   "metadata": {},
   "outputs": [],
   "source": [
    "graph.push_back(goal_factor)\n",
    "graph.push_back(initial_factor)"
   ]
  },
  {
   "cell_type": "code",
   "execution_count": 59,
   "metadata": {},
   "outputs": [],
   "source": [
    "a = (0, 2)\n",
    "b = (1, 2)\n",
    "c = (2, 2)\n",
    "d = (3, 3)"
   ]
  },
  {
   "cell_type": "code",
   "execution_count": 60,
   "metadata": {},
   "outputs": [],
   "source": [
    "f = DecisionTreeFactor([a, b, c], \"1 1 1 1 1 1 1 1\")"
   ]
  },
  {
   "cell_type": "code",
   "execution_count": 62,
   "metadata": {},
   "outputs": [
    {
     "data": {
      "text/html": [
       "<div>\n",
       "<table class='DecisionTreeFactor'>\n",
       "  <thead>\n",
       "    <tr><th>0</th><th>1</th><th>2</th><th>value</th></tr>\n",
       "  </thead>\n",
       "  <tbody>\n",
       "    <tr><th>0</th><th>0</th><th>0</th><td>1</td></tr>\n",
       "    <tr><th>0</th><th>0</th><th>1</th><td>1</td></tr>\n",
       "    <tr><th>0</th><th>1</th><th>0</th><td>1</td></tr>\n",
       "    <tr><th>0</th><th>1</th><th>1</th><td>1</td></tr>\n",
       "    <tr><th>1</th><th>0</th><th>0</th><td>1</td></tr>\n",
       "    <tr><th>1</th><th>0</th><th>1</th><td>1</td></tr>\n",
       "    <tr><th>1</th><th>1</th><th>0</th><td>1</td></tr>\n",
       "    <tr><th>1</th><th>1</th><th>1</th><td>1</td></tr>\n",
       "  </tbody>\n",
       "</table>\n",
       "</div>"
      ],
      "text/markdown": [
       "|0|1|2|value|\n",
       "|:-:|:-:|:-:|:-:|\n",
       "|0|0|0|1|\n",
       "|0|0|1|1|\n",
       "|0|1|0|1|\n",
       "|0|1|1|1|\n",
       "|1|0|0|1|\n",
       "|1|0|1|1|\n",
       "|1|1|0|1|\n",
       "|1|1|1|1|\n"
      ],
      "text/plain": [
       "DecisionTreeFactor\n",
       " f[ (0,2), (1,2), (2,2), ]\n",
       " Leaf    1"
      ]
     },
     "execution_count": 62,
     "metadata": {},
     "output_type": "execute_result"
    }
   ],
   "source": [
    "f"
   ]
  },
  {
   "cell_type": "code",
   "execution_count": 55,
   "metadata": {},
   "outputs": [
    {
     "data": {
      "image/svg+xml": "<?xml version=\"1.0\" encoding=\"UTF-8\" standalone=\"no\"?>\n<!DOCTYPE svg PUBLIC \"-//W3C//DTD SVG 1.1//EN\"\n \"http://www.w3.org/Graphics/SVG/1.1/DTD/svg11.dtd\">\n<!-- Generated by graphviz version 2.43.0 (0)\n -->\n<!-- Title: G Pages: 1 -->\n<svg width=\"134pt\" height=\"105pt\"\n viewBox=\"0.00 0.00 134.00 105.00\" xmlns=\"http://www.w3.org/2000/svg\" xmlns:xlink=\"http://www.w3.org/1999/xlink\">\n<g id=\"graph0\" class=\"graph\" transform=\"scale(1 1) rotate(0) translate(4 101)\">\n<title>G</title>\n<polygon fill=\"white\" stroke=\"transparent\" points=\"-4,4 -4,-101 130,-101 130,4 -4,4\"/>\n<!-- 0x557372c0f000 -->\n<g id=\"node1\" class=\"node\">\n<title>0x557372c0f000</title>\n<ellipse fill=\"none\" stroke=\"black\" cx=\"63\" cy=\"-79\" rx=\"18\" ry=\"18\"/>\n<text text-anchor=\"middle\" x=\"63\" y=\"-75.3\" font-family=\"Times,serif\" font-size=\"14.00\">1</text>\n</g>\n<!-- 0x5573727cc460 -->\n<g id=\"node2\" class=\"node\">\n<title>0x5573727cc460</title>\n<polygon fill=\"none\" stroke=\"black\" points=\"54,-25 0,-25 0,0 54,0 54,-25\"/>\n<text text-anchor=\"middle\" x=\"27\" y=\"-8.8\" font-family=\"Times,serif\" font-size=\"14.00\"> &#160;&#160;0</text>\n</g>\n<!-- 0x557372c0f000&#45;&gt;0x5573727cc460 -->\n<g id=\"edge1\" class=\"edge\">\n<title>0x557372c0f000&#45;&gt;0x5573727cc460</title>\n<path fill=\"none\" stroke=\"black\" stroke-dasharray=\"5,2\" d=\"M54.65,-63.04C49.85,-54.44 43.76,-43.52 38.51,-34.12\"/>\n<polygon fill=\"black\" stroke=\"black\" points=\"41.55,-32.39 33.62,-25.37 35.44,-35.81 41.55,-32.39\"/>\n</g>\n<!-- 0x557372a8d130 -->\n<g id=\"node3\" class=\"node\">\n<title>0x557372a8d130</title>\n<polygon fill=\"none\" stroke=\"black\" points=\"126,-25 72,-25 72,0 126,0 126,-25\"/>\n<text text-anchor=\"middle\" x=\"99\" y=\"-8.8\" font-family=\"Times,serif\" font-size=\"14.00\"> &#160;&#160;1</text>\n</g>\n<!-- 0x557372c0f000&#45;&gt;0x557372a8d130 -->\n<g id=\"edge2\" class=\"edge\">\n<title>0x557372c0f000&#45;&gt;0x557372a8d130</title>\n<path fill=\"none\" stroke=\"black\" d=\"M71.35,-63.04C76.15,-54.44 82.24,-43.52 87.49,-34.12\"/>\n<polygon fill=\"black\" stroke=\"black\" points=\"90.56,-35.81 92.38,-25.37 84.45,-32.39 90.56,-35.81\"/>\n</g>\n</g>\n</svg>\n",
      "text/plain": [
       "<__main__.show at 0x7f2ba1152ca0>"
      ]
     },
     "execution_count": 55,
     "metadata": {},
     "output_type": "execute_result"
    }
   ],
   "source": [
    "show(b_f)"
   ]
  },
  {
   "cell_type": "code",
   "execution_count": 56,
   "metadata": {},
   "outputs": [
    {
     "data": {
      "image/svg+xml": "<?xml version=\"1.0\" encoding=\"UTF-8\" standalone=\"no\"?>\n<!DOCTYPE svg PUBLIC \"-//W3C//DTD SVG 1.1//EN\"\n \"http://www.w3.org/Graphics/SVG/1.1/DTD/svg11.dtd\">\n<!-- Generated by graphviz version 2.43.0 (0)\n -->\n<!-- Title: G Pages: 1 -->\n<svg width=\"206pt\" height=\"105pt\"\n viewBox=\"0.00 0.00 206.00 105.00\" xmlns=\"http://www.w3.org/2000/svg\" xmlns:xlink=\"http://www.w3.org/1999/xlink\">\n<g id=\"graph0\" class=\"graph\" transform=\"scale(1 1) rotate(0) translate(4 101)\">\n<title>G</title>\n<polygon fill=\"white\" stroke=\"transparent\" points=\"-4,4 -4,-101 202,-101 202,4 -4,4\"/>\n<!-- 0x557372c15ce0 -->\n<g id=\"node1\" class=\"node\">\n<title>0x557372c15ce0</title>\n<ellipse fill=\"none\" stroke=\"black\" cx=\"99\" cy=\"-79\" rx=\"18\" ry=\"18\"/>\n<text text-anchor=\"middle\" x=\"99\" y=\"-75.3\" font-family=\"Times,serif\" font-size=\"14.00\">2</text>\n</g>\n<!-- 0x557372a102d0 -->\n<g id=\"node2\" class=\"node\">\n<title>0x557372a102d0</title>\n<polygon fill=\"none\" stroke=\"black\" points=\"54,-25 0,-25 0,0 54,0 54,-25\"/>\n<text text-anchor=\"middle\" x=\"27\" y=\"-8.8\" font-family=\"Times,serif\" font-size=\"14.00\"> &#160;&#160;1</text>\n</g>\n<!-- 0x557372c15ce0&#45;&gt;0x557372a102d0 -->\n<g id=\"edge1\" class=\"edge\">\n<title>0x557372c15ce0&#45;&gt;0x557372a102d0</title>\n<path fill=\"none\" stroke=\"black\" d=\"M85.79,-66.17C75.14,-56.62 59.95,-43.02 47.69,-32.03\"/>\n<polygon fill=\"black\" stroke=\"black\" points=\"49.91,-29.32 40.12,-25.26 45.24,-34.53 49.91,-29.32\"/>\n</g>\n<!-- 0x557372a8d320 -->\n<g id=\"node3\" class=\"node\">\n<title>0x557372a8d320</title>\n<polygon fill=\"none\" stroke=\"black\" points=\"126,-25 72,-25 72,0 126,0 126,-25\"/>\n<text text-anchor=\"middle\" x=\"99\" y=\"-8.8\" font-family=\"Times,serif\" font-size=\"14.00\"> &#160;&#160;1</text>\n</g>\n<!-- 0x557372c15ce0&#45;&gt;0x557372a8d320 -->\n<g id=\"edge2\" class=\"edge\">\n<title>0x557372c15ce0&#45;&gt;0x557372a8d320</title>\n<path fill=\"none\" stroke=\"black\" d=\"M99,-60.72C99,-52.93 99,-43.65 99,-35.39\"/>\n<polygon fill=\"black\" stroke=\"black\" points=\"102.5,-35.32 99,-25.32 95.5,-35.32 102.5,-35.32\"/>\n</g>\n<!-- 0x557372a10a20 -->\n<g id=\"node4\" class=\"node\">\n<title>0x557372a10a20</title>\n<polygon fill=\"none\" stroke=\"black\" points=\"198,-25 144,-25 144,0 198,0 198,-25\"/>\n<text text-anchor=\"middle\" x=\"171\" y=\"-8.8\" font-family=\"Times,serif\" font-size=\"14.00\"> &#160;&#160;0</text>\n</g>\n<!-- 0x557372c15ce0&#45;&gt;0x557372a10a20 -->\n<g id=\"edge3\" class=\"edge\">\n<title>0x557372c15ce0&#45;&gt;0x557372a10a20</title>\n<path fill=\"none\" stroke=\"black\" d=\"M112.21,-66.17C122.86,-56.62 138.05,-43.02 150.31,-32.03\"/>\n<polygon fill=\"black\" stroke=\"black\" points=\"152.76,-34.53 157.88,-25.26 148.09,-29.32 152.76,-34.53\"/>\n</g>\n</g>\n</svg>\n",
      "text/plain": [
       "<__main__.show at 0x7f2ba1152bb0>"
      ]
     },
     "execution_count": 56,
     "metadata": {},
     "output_type": "execute_result"
    }
   ],
   "source": [
    "show(c_f)"
   ]
  },
  {
   "cell_type": "code",
   "execution_count": 57,
   "metadata": {},
   "outputs": [],
   "source": [
    "f = d_f * a_f * b_f * c_f"
   ]
  },
  {
   "cell_type": "code",
   "execution_count": 58,
   "metadata": {},
   "outputs": [
    {
     "data": {
      "image/svg+xml": "<?xml version=\"1.0\" encoding=\"UTF-8\" standalone=\"no\"?>\n<!DOCTYPE svg PUBLIC \"-//W3C//DTD SVG 1.1//EN\"\n \"http://www.w3.org/Graphics/SVG/1.1/DTD/svg11.dtd\">\n<!-- Generated by graphviz version 2.43.0 (0)\n -->\n<!-- Title: G Pages: 1 -->\n<svg width=\"309pt\" height=\"249pt\"\n viewBox=\"0.00 0.00 309.00 249.00\" xmlns=\"http://www.w3.org/2000/svg\" xmlns:xlink=\"http://www.w3.org/1999/xlink\">\n<g id=\"graph0\" class=\"graph\" transform=\"scale(1 1) rotate(0) translate(4 245)\">\n<title>G</title>\n<polygon fill=\"white\" stroke=\"transparent\" points=\"-4,4 -4,-245 305,-245 305,4 -4,4\"/>\n<!-- 0x557372c0efa0 -->\n<g id=\"node1\" class=\"node\">\n<title>0x557372c0efa0</title>\n<ellipse fill=\"none\" stroke=\"black\" cx=\"153\" cy=\"-223\" rx=\"18\" ry=\"18\"/>\n<text text-anchor=\"middle\" x=\"153\" y=\"-219.3\" font-family=\"Times,serif\" font-size=\"14.00\">2</text>\n</g>\n<!-- 0x557372c0f540 -->\n<g id=\"node2\" class=\"node\">\n<title>0x557372c0f540</title>\n<ellipse fill=\"none\" stroke=\"black\" cx=\"90\" cy=\"-151\" rx=\"18\" ry=\"18\"/>\n<text text-anchor=\"middle\" x=\"90\" y=\"-147.3\" font-family=\"Times,serif\" font-size=\"14.00\">1</text>\n</g>\n<!-- 0x557372c0efa0&#45;&gt;0x557372c0f540 -->\n<g id=\"edge1\" class=\"edge\">\n<title>0x557372c0efa0&#45;&gt;0x557372c0f540</title>\n<path fill=\"none\" stroke=\"black\" d=\"M141.44,-209.16C132.32,-199.03 119.41,-184.68 108.81,-172.9\"/>\n<polygon fill=\"black\" stroke=\"black\" points=\"111.2,-170.32 101.91,-165.23 106,-175.01 111.2,-170.32\"/>\n</g>\n<!-- 0x557372c2f9d0 -->\n<g id=\"node7\" class=\"node\">\n<title>0x557372c2f9d0</title>\n<ellipse fill=\"none\" stroke=\"black\" cx=\"153\" cy=\"-151\" rx=\"18\" ry=\"18\"/>\n<text text-anchor=\"middle\" x=\"153\" y=\"-147.3\" font-family=\"Times,serif\" font-size=\"14.00\">1</text>\n</g>\n<!-- 0x557372c0efa0&#45;&gt;0x557372c2f9d0 -->\n<g id=\"edge6\" class=\"edge\">\n<title>0x557372c0efa0&#45;&gt;0x557372c2f9d0</title>\n<path fill=\"none\" stroke=\"black\" d=\"M153,-204.7C153,-196.98 153,-187.71 153,-179.11\"/>\n<polygon fill=\"black\" stroke=\"black\" points=\"156.5,-179.1 153,-169.1 149.5,-179.1 156.5,-179.1\"/>\n</g>\n<!-- 0x557372c58b70 -->\n<g id=\"node12\" class=\"node\">\n<title>0x557372c58b70</title>\n<polygon fill=\"none\" stroke=\"black\" points=\"243,-163.5 189,-163.5 189,-138.5 243,-138.5 243,-163.5\"/>\n<text text-anchor=\"middle\" x=\"216\" y=\"-147.3\" font-family=\"Times,serif\" font-size=\"14.00\"> &#160;&#160;0</text>\n</g>\n<!-- 0x557372c0efa0&#45;&gt;0x557372c58b70 -->\n<g id=\"edge11\" class=\"edge\">\n<title>0x557372c0efa0&#45;&gt;0x557372c58b70</title>\n<path fill=\"none\" stroke=\"black\" d=\"M164.56,-209.16C174.02,-198.64 187.57,-183.59 198.39,-171.57\"/>\n<polygon fill=\"black\" stroke=\"black\" points=\"201.27,-173.6 205.36,-163.83 196.07,-168.92 201.27,-173.6\"/>\n</g>\n<!-- 0x557372879e10 -->\n<g id=\"node3\" class=\"node\">\n<title>0x557372879e10</title>\n<polygon fill=\"none\" stroke=\"black\" points=\"54,-91.5 0,-91.5 0,-66.5 54,-66.5 54,-91.5\"/>\n<text text-anchor=\"middle\" x=\"27\" y=\"-75.3\" font-family=\"Times,serif\" font-size=\"14.00\"> &#160;&#160;0</text>\n</g>\n<!-- 0x557372c0f540&#45;&gt;0x557372879e10 -->\n<g id=\"edge2\" class=\"edge\">\n<title>0x557372c0f540&#45;&gt;0x557372879e10</title>\n<path fill=\"none\" stroke=\"black\" stroke-dasharray=\"5,2\" d=\"M78.44,-137.16C68.98,-126.64 55.43,-111.59 44.61,-99.57\"/>\n<polygon fill=\"black\" stroke=\"black\" points=\"46.93,-96.92 37.64,-91.83 41.73,-101.6 46.93,-96.92\"/>\n</g>\n<!-- 0x557372c100e0 -->\n<g id=\"node4\" class=\"node\">\n<title>0x557372c100e0</title>\n<ellipse fill=\"none\" stroke=\"black\" cx=\"90\" cy=\"-79\" rx=\"18\" ry=\"18\"/>\n<text text-anchor=\"middle\" x=\"90\" y=\"-75.3\" font-family=\"Times,serif\" font-size=\"14.00\">0</text>\n</g>\n<!-- 0x557372c0f540&#45;&gt;0x557372c100e0 -->\n<g id=\"edge3\" class=\"edge\">\n<title>0x557372c0f540&#45;&gt;0x557372c100e0</title>\n<path fill=\"none\" stroke=\"black\" d=\"M90,-132.7C90,-124.98 90,-115.71 90,-107.11\"/>\n<polygon fill=\"black\" stroke=\"black\" points=\"93.5,-107.1 90,-97.1 86.5,-107.1 93.5,-107.1\"/>\n</g>\n<!-- 0x557372e189c0 -->\n<g id=\"node5\" class=\"node\">\n<title>0x557372e189c0</title>\n<polygon fill=\"none\" stroke=\"black\" points=\"58,-25 4,-25 4,0 58,0 58,-25\"/>\n<text text-anchor=\"middle\" x=\"31\" y=\"-8.8\" font-family=\"Times,serif\" font-size=\"14.00\"> &#160;&#160;0</text>\n</g>\n<!-- 0x557372c100e0&#45;&gt;0x557372e189c0 -->\n<g id=\"edge4\" class=\"edge\">\n<title>0x557372c100e0&#45;&gt;0x557372e189c0</title>\n<path fill=\"none\" stroke=\"black\" stroke-dasharray=\"5,2\" d=\"M78.34,-65.26C69.89,-56.01 58.3,-43.34 48.7,-32.85\"/>\n<polygon fill=\"black\" stroke=\"black\" points=\"51.17,-30.36 41.84,-25.35 46,-35.09 51.17,-30.36\"/>\n</g>\n<!-- 0x55737287a650 -->\n<g id=\"node6\" class=\"node\">\n<title>0x55737287a650</title>\n<polygon fill=\"none\" stroke=\"black\" points=\"130,-25 76,-25 76,0 130,0 130,-25\"/>\n<text text-anchor=\"middle\" x=\"103\" y=\"-8.8\" font-family=\"Times,serif\" font-size=\"14.00\"> &#160;&#160;1</text>\n</g>\n<!-- 0x557372c100e0&#45;&gt;0x55737287a650 -->\n<g id=\"edge5\" class=\"edge\">\n<title>0x557372c100e0&#45;&gt;0x55737287a650</title>\n<path fill=\"none\" stroke=\"black\" d=\"M93.42,-61.05C95.02,-53.08 96.96,-43.47 98.67,-34.99\"/>\n<polygon fill=\"black\" stroke=\"black\" points=\"102.13,-35.54 100.67,-25.05 95.27,-34.16 102.13,-35.54\"/>\n</g>\n<!-- 0x557372e18ef0 -->\n<g id=\"node8\" class=\"node\">\n<title>0x557372e18ef0</title>\n<polygon fill=\"none\" stroke=\"black\" points=\"180,-91.5 126,-91.5 126,-66.5 180,-66.5 180,-91.5\"/>\n<text text-anchor=\"middle\" x=\"153\" y=\"-75.3\" font-family=\"Times,serif\" font-size=\"14.00\"> &#160;&#160;0</text>\n</g>\n<!-- 0x557372c2f9d0&#45;&gt;0x557372e18ef0 -->\n<g id=\"edge7\" class=\"edge\">\n<title>0x557372c2f9d0&#45;&gt;0x557372e18ef0</title>\n<path fill=\"none\" stroke=\"black\" stroke-dasharray=\"5,2\" d=\"M153,-132.7C153,-123.4 153,-111.85 153,-101.93\"/>\n<polygon fill=\"black\" stroke=\"black\" points=\"156.5,-101.63 153,-91.63 149.5,-101.63 156.5,-101.63\"/>\n</g>\n<!-- 0x557372a8f570 -->\n<g id=\"node9\" class=\"node\">\n<title>0x557372a8f570</title>\n<ellipse fill=\"none\" stroke=\"black\" cx=\"216\" cy=\"-79\" rx=\"18\" ry=\"18\"/>\n<text text-anchor=\"middle\" x=\"216\" y=\"-75.3\" font-family=\"Times,serif\" font-size=\"14.00\">0</text>\n</g>\n<!-- 0x557372c2f9d0&#45;&gt;0x557372a8f570 -->\n<g id=\"edge8\" class=\"edge\">\n<title>0x557372c2f9d0&#45;&gt;0x557372a8f570</title>\n<path fill=\"none\" stroke=\"black\" d=\"M164.56,-137.16C173.68,-127.03 186.59,-112.68 197.19,-100.9\"/>\n<polygon fill=\"black\" stroke=\"black\" points=\"200,-103.01 204.09,-93.23 194.8,-98.32 200,-103.01\"/>\n</g>\n<!-- 0x557372a89100 -->\n<g id=\"node10\" class=\"node\">\n<title>0x557372a89100</title>\n<polygon fill=\"none\" stroke=\"black\" points=\"229,-25 175,-25 175,0 229,0 229,-25\"/>\n<text text-anchor=\"middle\" x=\"202\" y=\"-8.8\" font-family=\"Times,serif\" font-size=\"14.00\"> &#160;&#160;0</text>\n</g>\n<!-- 0x557372a8f570&#45;&gt;0x557372a89100 -->\n<g id=\"edge9\" class=\"edge\">\n<title>0x557372a8f570&#45;&gt;0x557372a89100</title>\n<path fill=\"none\" stroke=\"black\" stroke-dasharray=\"5,2\" d=\"M212.32,-61.05C210.59,-53.08 208.51,-43.47 206.66,-34.99\"/>\n<polygon fill=\"black\" stroke=\"black\" points=\"210.05,-34.08 204.51,-25.05 203.21,-35.56 210.05,-34.08\"/>\n</g>\n<!-- 0x557372900ab0 -->\n<g id=\"node11\" class=\"node\">\n<title>0x557372900ab0</title>\n<polygon fill=\"none\" stroke=\"black\" points=\"301,-25 247,-25 247,0 301,0 301,-25\"/>\n<text text-anchor=\"middle\" x=\"274\" y=\"-8.8\" font-family=\"Times,serif\" font-size=\"14.00\"> &#160;&#160;1</text>\n</g>\n<!-- 0x557372a8f570&#45;&gt;0x557372900ab0 -->\n<g id=\"edge10\" class=\"edge\">\n<title>0x557372a8f570&#45;&gt;0x557372900ab0</title>\n<path fill=\"none\" stroke=\"black\" d=\"M227.74,-64.95C236.07,-55.68 247.4,-43.08 256.76,-32.67\"/>\n<polygon fill=\"black\" stroke=\"black\" points=\"259.37,-35.01 263.45,-25.23 254.16,-30.33 259.37,-35.01\"/>\n</g>\n</g>\n</svg>\n",
      "text/plain": [
       "<__main__.show at 0x7f2ba11520a0>"
      ]
     },
     "execution_count": 58,
     "metadata": {},
     "output_type": "execute_result"
    }
   ],
   "source": [
    "show(f)"
   ]
  },
  {
   "cell_type": "code",
   "execution_count": 68,
   "metadata": {},
   "outputs": [],
   "source": [
    "op_var = [a,b,c]\n",
    "input = []\n",
    "for var in op_var:\n",
    "    input.append(list(range(var[1])))\n",
    "prods = list(product(*input))"
   ]
  },
  {
   "cell_type": "code",
   "execution_count": 69,
   "metadata": {},
   "outputs": [
    {
     "data": {
      "text/plain": [
       "[(0, 0, 0),\n",
       " (0, 0, 1),\n",
       " (0, 1, 0),\n",
       " (0, 1, 1),\n",
       " (1, 0, 0),\n",
       " (1, 0, 1),\n",
       " (1, 1, 0),\n",
       " (1, 1, 1)]"
      ]
     },
     "execution_count": 69,
     "metadata": {},
     "output_type": "execute_result"
    }
   ],
   "source": [
    "prods"
   ]
  },
  {
   "cell_type": "code",
   "execution_count": null,
   "metadata": {},
   "outputs": [],
   "source": []
  },
  {
   "cell_type": "code",
   "execution_count": null,
   "metadata": {},
   "outputs": [],
   "source": [
    "class OperatorFactor(gtsam.DecisionTreeFactor):\n",
    "    def __init__(self, op_vars, factors):\n",
    "        input = []\n",
    "        for op_var in op_vars:\n",
    "            input.append(list(range(op_var[1])))\n",
    "        prods = list(product(*input))\n",
    "\n",
    "\n",
    "    "
   ]
  }
 ],
 "metadata": {
  "kernelspec": {
   "display_name": "Python 3 (ipykernel)",
   "language": "python",
   "name": "python3"
  },
  "language_info": {
   "codemirror_mode": {
    "name": "ipython",
    "version": 3
   },
   "file_extension": ".py",
   "mimetype": "text/x-python",
   "name": "python",
   "nbconvert_exporter": "python",
   "pygments_lexer": "ipython3",
   "version": "3.9.7"
  }
 },
 "nbformat": 4,
 "nbformat_minor": 2
}
