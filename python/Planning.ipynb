{
 "cells": [
  {
   "cell_type": "markdown",
   "metadata": {},
   "source": [
    "# Planning Notebook"
   ]
  },
  {
   "cell_type": "code",
   "execution_count": 1,
   "metadata": {},
   "outputs": [],
   "source": [
    "import math\n",
    "import unittest\n",
    "import numpy as np\n",
    "from itertools import product\n",
    "\n",
    "# import gtsam\n",
    "import gtsam\n",
    "from gtsam import *\n",
    "from gtsam.utils.test_case import GtsamTestCase\n",
    "\n",
    "# import gtbook\n",
    "import gtbook\n",
    "from gtbook.display import *\n",
    "from gtbook.discrete import *\n",
    "\n",
    "# import local package\n",
    "import gtsam_example\n",
    "from gtsam_example import SingleValueConstraint, MultiValueConstraint, NotSingleValueConstraint, OrConstraint\n",
    "\n",
    "# import parser\n",
    "import SASParser\n",
    "from SASParser import SAS, Operator\n",
    "\n",
    "variables = Variables()\n",
    "def pretty(obj): \n",
    "    return gtbook.display.pretty(obj, variables)\n",
    "\n",
    "import graphviz\n",
    "class show(graphviz.Source):\n",
    "    \"\"\" Display an object with a dot method as a graph.\"\"\"\n",
    "\n",
    "    def __init__(self, obj):\n",
    "        \"\"\"Construct from object with 'dot' method.\"\"\"\n",
    "        # This small class takes an object, calls its dot function, and uses the\n",
    "        # resulting string to initialize a graphviz.Source instance. This in turn\n",
    "        # has a _repr_mimebundle_ method, which then renders it in the notebook.\n",
    "        super().__init__(obj.dot())"
   ]
  },
  {
   "cell_type": "code",
   "execution_count": 2,
   "metadata": {},
   "outputs": [],
   "source": [
    "class TestOrConstraint(GtsamTestCase):\n",
    "    \"\"\"Tests for Single Value Constraints\"\"\"\n",
    "\n",
    "    def setUp(self):\n",
    "        self.keys = DiscreteKeys()\n",
    "        key_list = [(0, 2), (1, 2), (2, 2)]\n",
    "        for key in key_list:\n",
    "            self.keys.push_back(key)\n",
    "        f_and = DecisionTreeFactor([key_list[0], key_list[1]], \"0 0 0 1\")\n",
    "        f_or = DecisionTreeFactor([key_list[1], key_list[2]], \"0 1 1 1\")\n",
    "        self.constraint = OrConstraint([f_and, f_or])\n",
    "\n",
    "    def test_operator(self):\n",
    "        values = DiscreteValues()\n",
    "        values[self.keys.at(0)[0]] = 1\n",
    "        values[self.keys.at(1)[0]] = 0\n",
    "        values[self.keys.at(2)[0]] = 1\n",
    "        self.assertEqual(self.constraint(values), 1.0)\n",
    "    \n",
    "    def test_toDecisionTree(self):\n",
    "        expected = self.constraint.toDecisionTreeFactor()\n",
    "        self.assertIsInstance(expected, DecisionTreeFactor)\n",
    "        self.gtsamAssertEquals(DecisionTreeFactor(self.keys, \"0 0 1 1 1 1 1 1\"), expected)\n"
   ]
  },
  {
   "cell_type": "code",
   "execution_count": 3,
   "metadata": {},
   "outputs": [],
   "source": [
    "keys = DiscreteKeys()\n",
    "key_list = [(0, 2), (1, 2), (2, 2)]\n",
    "for key in key_list:\n",
    "    keys.push_back(key)\n",
    "f_and = DecisionTreeFactor([key_list[0], key_list[1]], \"0 0 0 1\")\n",
    "f_or = DecisionTreeFactor([key_list[1], key_list[2]], \"0 1 1 1\")\n",
    "constraint = OrConstraint([f_and, f_or])"
   ]
  },
  {
   "cell_type": "code",
   "execution_count": 12,
   "metadata": {},
   "outputs": [],
   "source": [
    "values = DiscreteValues()\n",
    "values[keys.at(0)[0]] = 1\n",
    "values[keys.at(1)[0]] = 0\n",
    "values[keys.at(2)[0]] = 1"
   ]
  },
  {
   "cell_type": "code",
   "execution_count": 13,
   "metadata": {},
   "outputs": [
    {
     "data": {
      "text/html": [
       "<div>\n",
       "<table class='DecisionTreeFactor'>\n",
       "  <thead>\n",
       "    <tr><th>0</th><th>1</th><th>value</th></tr>\n",
       "  </thead>\n",
       "  <tbody>\n",
       "    <tr><th>0</th><th>0</th><td>0</td></tr>\n",
       "    <tr><th>0</th><th>1</th><td>0</td></tr>\n",
       "    <tr><th>1</th><th>0</th><td>0</td></tr>\n",
       "    <tr><th>1</th><th>1</th><td>1</td></tr>\n",
       "  </tbody>\n",
       "</table>\n",
       "</div>"
      ],
      "text/markdown": [
       "|0|1|value|\n",
       "|:-:|:-:|:-:|\n",
       "|0|0|0|\n",
       "|0|1|0|\n",
       "|1|0|0|\n",
       "|1|1|1|\n"
      ],
      "text/plain": [
       "DecisionTreeFactor\n",
       " f[ (0,2), (1,2), ]\n",
       " Choice(1) \n",
       " 0 Leaf    0\n",
       " 1 Choice(0) \n",
       " 1 0 Leaf    0\n",
       " 1 1 Leaf    1"
      ]
     },
     "execution_count": 13,
     "metadata": {},
     "output_type": "execute_result"
    }
   ],
   "source": [
    "f_and"
   ]
  },
  {
   "cell_type": "code",
   "execution_count": 14,
   "metadata": {},
   "outputs": [
    {
     "data": {
      "text/html": [
       "<div>\n",
       "<table class='DecisionTreeFactor'>\n",
       "  <thead>\n",
       "    <tr><th>1</th><th>2</th><th>value</th></tr>\n",
       "  </thead>\n",
       "  <tbody>\n",
       "    <tr><th>0</th><th>0</th><td>0</td></tr>\n",
       "    <tr><th>0</th><th>1</th><td>1</td></tr>\n",
       "    <tr><th>1</th><th>0</th><td>1</td></tr>\n",
       "    <tr><th>1</th><th>1</th><td>1</td></tr>\n",
       "  </tbody>\n",
       "</table>\n",
       "</div>"
      ],
      "text/markdown": [
       "|1|2|value|\n",
       "|:-:|:-:|:-:|\n",
       "|0|0|0|\n",
       "|0|1|1|\n",
       "|1|0|1|\n",
       "|1|1|1|\n"
      ],
      "text/plain": [
       "DecisionTreeFactor\n",
       " f[ (1,2), (2,2), ]\n",
       " Choice(2) \n",
       " 0 Choice(1) \n",
       " 0 0 Leaf    0\n",
       " 0 1 Leaf    1\n",
       " 1 Leaf    1"
      ]
     },
     "execution_count": 14,
     "metadata": {},
     "output_type": "execute_result"
    }
   ],
   "source": [
    "f_or"
   ]
  },
  {
   "cell_type": "code",
   "execution_count": 15,
   "metadata": {},
   "outputs": [
    {
     "data": {
      "text/html": [
       "<div>\n",
       "<table class='DecisionTreeFactor'>\n",
       "  <thead>\n",
       "    <tr><th>0</th><th>1</th><th>2</th><th>value</th></tr>\n",
       "  </thead>\n",
       "  <tbody>\n",
       "    <tr><th>0</th><th>0</th><th>0</th><td>0</td></tr>\n",
       "    <tr><th>0</th><th>0</th><th>1</th><td>0</td></tr>\n",
       "    <tr><th>0</th><th>1</th><th>0</th><td>0</td></tr>\n",
       "    <tr><th>0</th><th>1</th><th>1</th><td>0</td></tr>\n",
       "    <tr><th>1</th><th>0</th><th>0</th><td>0</td></tr>\n",
       "    <tr><th>1</th><th>0</th><th>1</th><td>0</td></tr>\n",
       "    <tr><th>1</th><th>1</th><th>0</th><td>1</td></tr>\n",
       "    <tr><th>1</th><th>1</th><th>1</th><td>1</td></tr>\n",
       "  </tbody>\n",
       "</table>\n",
       "</div>"
      ],
      "text/markdown": [
       "|0|1|2|value|\n",
       "|:-:|:-:|:-:|:-:|\n",
       "|0|0|0|0|\n",
       "|0|0|1|0|\n",
       "|0|1|0|0|\n",
       "|0|1|1|0|\n",
       "|1|0|0|0|\n",
       "|1|0|1|0|\n",
       "|1|1|0|1|\n",
       "|1|1|1|1|\n"
      ],
      "text/plain": [
       "DecisionTreeFactor\n",
       " f[ (0,2), (1,2), (2,2), ]\n",
       " Choice(2) \n",
       " 0 Choice(1) \n",
       " 0 0 Leaf    0\n",
       " 0 1 Choice(0) \n",
       " 0 1 0 Leaf    0\n",
       " 0 1 1 Leaf    1\n",
       " 1 Choice(1) \n",
       " 1 0 Leaf    0\n",
       " 1 1 Choice(0) \n",
       " 1 1 0 Leaf    0\n",
       " 1 1 1 Leaf    1"
      ]
     },
     "execution_count": 15,
     "metadata": {},
     "output_type": "execute_result"
    }
   ],
   "source": [
    "f_and * f_or"
   ]
  },
  {
   "cell_type": "code",
   "execution_count": 16,
   "metadata": {},
   "outputs": [
    {
     "data": {
      "text/html": [
       "<div>\n",
       "<table class='DecisionTreeFactor'>\n",
       "  <thead>\n",
       "    <tr><th>2</th><th>1</th><th>0</th><th>value</th></tr>\n",
       "  </thead>\n",
       "  <tbody>\n",
       "    <tr><th>0</th><th>0</th><th>0</th><td>0</td></tr>\n",
       "    <tr><th>0</th><th>0</th><th>1</th><td>0</td></tr>\n",
       "    <tr><th>0</th><th>1</th><th>0</th><td>1</td></tr>\n",
       "    <tr><th>0</th><th>1</th><th>1</th><td>1</td></tr>\n",
       "    <tr><th>1</th><th>0</th><th>0</th><td>1</td></tr>\n",
       "    <tr><th>1</th><th>0</th><th>1</th><td>1</td></tr>\n",
       "    <tr><th>1</th><th>1</th><th>0</th><td>1</td></tr>\n",
       "    <tr><th>1</th><th>1</th><th>1</th><td>1</td></tr>\n",
       "  </tbody>\n",
       "</table>\n",
       "</div>"
      ],
      "text/markdown": [
       "|2|1|0|value|\n",
       "|:-:|:-:|:-:|:-:|\n",
       "|0|0|0|0|\n",
       "|0|0|1|0|\n",
       "|0|1|0|1|\n",
       "|0|1|1|1|\n",
       "|1|0|0|1|\n",
       "|1|0|1|1|\n",
       "|1|1|0|1|\n",
       "|1|1|1|1|\n"
      ],
      "text/plain": [
       "DecisionTreeFactor\n",
       " f[ (2,2), (1,2), (0,2), ]\n",
       " Choice(2) \n",
       " 0 Choice(1) \n",
       " 0 0 Leaf    0\n",
       " 0 1 Leaf    1\n",
       " 1 Leaf    1"
      ]
     },
     "execution_count": 16,
     "metadata": {},
     "output_type": "execute_result"
    }
   ],
   "source": [
    "tree_constraint = constraint.toDecisionTreeFactor()\n",
    "tree_constraint"
   ]
  },
  {
   "cell_type": "code",
   "execution_count": 20,
   "metadata": {},
   "outputs": [
    {
     "data": {
      "text/plain": [
       "0.0"
      ]
     },
     "execution_count": 20,
     "metadata": {},
     "output_type": "execute_result"
    }
   ],
   "source": [
    "f_and(values)"
   ]
  },
  {
   "cell_type": "code",
   "execution_count": 17,
   "metadata": {},
   "outputs": [
    {
     "data": {
      "text/plain": [
       "1.0"
      ]
     },
     "execution_count": 17,
     "metadata": {},
     "output_type": "execute_result"
    }
   ],
   "source": [
    "f_or(values)"
   ]
  },
  {
   "cell_type": "code",
   "execution_count": 18,
   "metadata": {},
   "outputs": [
    {
     "data": {
      "text/plain": [
       "1.0"
      ]
     },
     "execution_count": 18,
     "metadata": {},
     "output_type": "execute_result"
    }
   ],
   "source": [
    "constraint(values)"
   ]
  },
  {
   "cell_type": "code",
   "execution_count": 19,
   "metadata": {},
   "outputs": [
    {
     "data": {
      "text/plain": [
       "1.0"
      ]
     },
     "execution_count": 19,
     "metadata": {},
     "output_type": "execute_result"
    }
   ],
   "source": [
    "tree_constraint(values)"
   ]
  },
  {
   "cell_type": "code",
   "execution_count": 3,
   "metadata": {},
   "outputs": [],
   "source": [
    "unittest.main(argv=[''], verbosity=2, exit=False)"
   ]
  },
  {
   "cell_type": "code",
   "execution_count": 42,
   "metadata": {},
   "outputs": [],
   "source": [
    "class SASToGTSAM():\n",
    "    def __init__(self, sas):\n",
    "        self.sas = sas\n",
    "        self.init = sas.initial_state\n",
    "        self.goal = sas.goal\n",
    "        self.vars = self.sas.variables\n",
    "        self.ops = self.sas.operators\n",
    "        self.mutex_groups = self.sas.mutex_group\n",
    "        self.ops_names = []\n",
    "        for op in self.ops:\n",
    "            self.ops_names.append(op.name)\n",
    "\n",
    "    def generate_string(self, cardinality, val):\n",
    "        string_list = []\n",
    "        for i in range(cardinality):\n",
    "            string_list.append(\"0\")\n",
    "        string_list[val] = \"1\"\n",
    "        string = ' '.join(string_list)\n",
    "        return string\n",
    "    \n",
    "    def generate_state(self, timestep):\n",
    "        state = []\n",
    "        for var, val in self.vars.items():\n",
    "            state_var = variables.discrete(str(var)+\"_\"+str(timestep), val)\n",
    "            state.append(state_var)\n",
    "        return state\n",
    "    \n",
    "    def generate_operator(self, timestep):\n",
    "        operators = []\n",
    "        for op in self.ops:\n",
    "            op_var = variables.binary(op.name+\"_\"+str(timestep))\n",
    "            operators.append(op_var)\n",
    "        return operators\n",
    "    \n",
    "    def generate_initial_factor(self):\n",
    "        initial_state = self.generate_state(0)\n",
    "        keys = gtsam.DiscreteKeys()\n",
    "        for key in initial_state:\n",
    "            keys.push_back(key)\n",
    "        init_values = list(self.init.values())\n",
    "        multi_f = MultiValueConstraint(keys, init_values)\n",
    "        return multi_f\n",
    "\n",
    "    def generate_goal_factor(self, goal_state):\n",
    "        state = list(self.vars.keys())\n",
    "        goal_f = gtsam.DecisionTreeFactor()\n",
    "        for goal_var, goal_val in self.goal.items():\n",
    "            state_var = goal_state[state.index(goal_var)]\n",
    "            single_f = SingleValueConstraint(state_var, goal_val)\n",
    "            f = single_f.toDecisionTreeFactor()\n",
    "            goal_f *= f\n",
    "        return goal_f\n",
    "\n",
    "    def generate_op_factor(self, state_t, state_tp, op_t, operator):\n",
    "        state = list(self.vars.keys())\n",
    "        preconditions = operator.precondition\n",
    "        effects = operator.effect\n",
    "        prevail = operator.prevail\n",
    "        f = gtsam.DecisionTreeFactor(op_t, self.generate_string(2, 1))\n",
    "        for pre_var, pre_val in preconditions.items():\n",
    "            state_var = state_t[state.index(pre_var)]\n",
    "            cardinality = state_var[1]\n",
    "            state_f = gtsam.DecisionTreeFactor(state_var, self.generate_string(cardinality, pre_val))\n",
    "            f *= state_f\n",
    "        for eff_var, eff_val in effects.items():\n",
    "            state_var = state_tp[state.index(eff_var)]\n",
    "            cardinality = state_var[1]\n",
    "            state_f = gtsam.DecisionTreeFactor(state_var, self.generate_string(cardinality, eff_val))\n",
    "            f *= state_f\n",
    "        if prevail:\n",
    "            for prev_var, prev_val in prevail.items():\n",
    "                state_var_t = state_t[state.index(prev_var)]\n",
    "                state_var_tp = state_tp[state.index(prev_var)]\n",
    "                cardinality = state_var[1]\n",
    "                state_t_f = gtsam.DecisionTreeFactor(state_var_t, self.generate_string(cardinality, prev_val))\n",
    "                state_tp_f = gtsam.DecisionTreeFactor(state_var_tp, self.generate_string(cardinality, prev_val))\n",
    "                f *= state_t_f\n",
    "                f *= state_tp_f\n",
    "        return f\n",
    "\n",
    "    def valid(self, values, mutex):\n",
    "        assert len(values) == len(mutex)\n",
    "        count = 0\n",
    "        for v, m in zip(values, mutex):\n",
    "            if v == m:\n",
    "                count += 1\n",
    "            if count > 1:\n",
    "                return \"0\"\n",
    "        return \"1\"\n",
    "\n",
    "    def generate_mutex_factor(self, state_t):\n",
    "        state = list(self.vars.keys())\n",
    "        mutex_variables = []\n",
    "        mutex_values = []\n",
    "        \n",
    "        for mutex_group in self.mutex_groups:\n",
    "            var_group = []\n",
    "            val_group = []\n",
    "            for var, val in mutex_group:\n",
    "                state_var = state_t[state.index(var)]\n",
    "                var_group.append(state_var)\n",
    "                val_group.append(val)\n",
    "            mutex_variables.append(var_group)\n",
    "            mutex_values.append(val_group)\n",
    "        \n",
    "        f = gtsam.DecisionTreeFactor()\n",
    "        for mutex_var, mutex_val in zip(mutex_variables, mutex_values):\n",
    "            input = []\n",
    "            for var in mutex_var:\n",
    "                input.append(list(range(var[1])))\n",
    "            prods = list(product(*input))\n",
    "            mutex_string_list = []\n",
    "            for prod in prods:\n",
    "                is_valid = self.valid(prod, mutex_val)\n",
    "                mutex_string_list.append(is_valid)\n",
    "            mutex_string = ' '.join(mutex_string_list)\n",
    "            f = f*gtsam.DecisionTreeFactor(mutex_var, mutex_string)\n",
    "        return f"
   ]
  },
  {
   "cell_type": "code",
   "execution_count": 43,
   "metadata": {},
   "outputs": [],
   "source": [
    "sas = SAS()\n",
    "sas_dir = \"sas/block_example.sas\"\n",
    "sas.read_file(sas_dir)\n",
    "converter = SASToGTSAM(sas)"
   ]
  },
  {
   "cell_type": "code",
   "execution_count": 44,
   "metadata": {},
   "outputs": [],
   "source": [
    "names = converter.ops_names # 1, 43, 66, 111, 131, 179"
   ]
  },
  {
   "cell_type": "code",
   "execution_count": 45,
   "metadata": {},
   "outputs": [],
   "source": [
    "# def plan(k):\n",
    "#     if k < 1:\n",
    "#         return \"There should be at least one state\"\n",
    "#     states = []\n",
    "#     operators = []\n",
    "#     mutex_factors = []\n",
    "#     op_factors = []\n",
    "#     for i in range(k-1):\n",
    "#         state_t = converter.generate_state(i)\n",
    "#         operators_t = converter.generate_operator(i)\n",
    "#         states.append(state_t)\n",
    "#         operators.append(operators_t)\n",
    "#     last_state = converter.generate_state(k-1)\n",
    "#     states.append(last_state)\n",
    "#     for j in range(len(states)-1):\n",
    "#         mutex_factor = converter.generate_mutex_factor(states[j])\n",
    "#         mutex_factors.append(mutex_factor)\n",
    "#         # op_group = []\n",
    "#         for op_t, op in zip(operators[j], converter.ops):\n",
    "#             op_factor = converter.generate_op_factor(states[j], states[j+1], op_t, op)\n",
    "#             # op_group.append(op_factor)\n",
    "#             op_factors.append(op_factor)\n",
    "#         # op_factors.append(op_group)\n",
    "#     last_mutex_factor = converter.generate_mutex_factor(states[-1])\n",
    "#     mutex_factors.append(last_mutex_factor)\n",
    "#     initial_factor = converter.generate_initial_factor()\n",
    "#     goal_factor = converter.generate_goal_factor(states[-1])\n",
    "#     return states, initial_factor,  goal_factor, mutex_factors, op_factors"
   ]
  },
  {
   "cell_type": "code",
   "execution_count": 46,
   "metadata": {},
   "outputs": [],
   "source": [
    "# states, initial_factor,  goal_factor, mutex_factors, op_factors = plan(7)"
   ]
  },
  {
   "cell_type": "code",
   "execution_count": 148,
   "metadata": {},
   "outputs": [],
   "source": [
    "# graph.push_back(op_factors[1])\n",
    "# graph.push_back(op_factors[43])\n",
    "# graph.push_back(op_factors[66])\n",
    "# graph.push_back(op_factors[111])\n",
    "# graph.push_back(op_factors[131])\n",
    "# graph.push_back(op_factors[179])\n",
    "# graph.push_back(goal_factor)\n",
    "# graph.push_back(initial_factor)"
   ]
  },
  {
   "cell_type": "code",
   "execution_count": 149,
   "metadata": {},
   "outputs": [],
   "source": [
    "a = (0, 2)\n",
    "b = (1, 2)\n",
    "c = (2, 2)\n",
    "d = (3, 2)"
   ]
  },
  {
   "cell_type": "code",
   "execution_count": 157,
   "metadata": {},
   "outputs": [],
   "source": [
    "f_and = DecisionTreeFactor([a, b], \"0 0 0 1\")\n",
    "f_bet = DecisionTreeFactor([b, c], \"0 0 0 0\")\n",
    "f_or = DecisionTreeFactor([b, c], \"0 1 1 1\")"
   ]
  },
  {
   "cell_type": "code",
   "execution_count": 158,
   "metadata": {},
   "outputs": [
    {
     "data": {
      "text/html": [
       "<div>\n",
       "<table class='DecisionTreeFactor'>\n",
       "  <thead>\n",
       "    <tr><th>0</th><th>1</th><th>value</th></tr>\n",
       "  </thead>\n",
       "  <tbody>\n",
       "    <tr><th>0</th><th>0</th><td>0</td></tr>\n",
       "    <tr><th>0</th><th>1</th><td>0</td></tr>\n",
       "    <tr><th>1</th><th>0</th><td>0</td></tr>\n",
       "    <tr><th>1</th><th>1</th><td>1</td></tr>\n",
       "  </tbody>\n",
       "</table>\n",
       "</div>"
      ],
      "text/markdown": [
       "|0|1|value|\n",
       "|:-:|:-:|:-:|\n",
       "|0|0|0|\n",
       "|0|1|0|\n",
       "|1|0|0|\n",
       "|1|1|1|\n"
      ],
      "text/plain": [
       "DecisionTreeFactor\n",
       " f[ (0,2), (1,2), ]\n",
       " Choice(1) \n",
       " 0 Leaf    0\n",
       " 1 Choice(0) \n",
       " 1 0 Leaf    0\n",
       " 1 1 Leaf    1"
      ]
     },
     "execution_count": 158,
     "metadata": {},
     "output_type": "execute_result"
    }
   ],
   "source": [
    "f_and"
   ]
  },
  {
   "cell_type": "code",
   "execution_count": 159,
   "metadata": {},
   "outputs": [
    {
     "data": {
      "text/html": [
       "<div>\n",
       "<table class='DecisionTreeFactor'>\n",
       "  <thead>\n",
       "    <tr><th>1</th><th>2</th><th>value</th></tr>\n",
       "  </thead>\n",
       "  <tbody>\n",
       "    <tr><th>0</th><th>0</th><td>0</td></tr>\n",
       "    <tr><th>0</th><th>1</th><td>1</td></tr>\n",
       "    <tr><th>1</th><th>0</th><td>1</td></tr>\n",
       "    <tr><th>1</th><th>1</th><td>1</td></tr>\n",
       "  </tbody>\n",
       "</table>\n",
       "</div>"
      ],
      "text/markdown": [
       "|1|2|value|\n",
       "|:-:|:-:|:-:|\n",
       "|0|0|0|\n",
       "|0|1|1|\n",
       "|1|0|1|\n",
       "|1|1|1|\n"
      ],
      "text/plain": [
       "DecisionTreeFactor\n",
       " f[ (1,2), (2,2), ]\n",
       " Choice(2) \n",
       " 0 Choice(1) \n",
       " 0 0 Leaf    0\n",
       " 0 1 Leaf    1\n",
       " 1 Leaf    1"
      ]
     },
     "execution_count": 159,
     "metadata": {},
     "output_type": "execute_result"
    }
   ],
   "source": [
    "f_or"
   ]
  },
  {
   "cell_type": "code",
   "execution_count": 160,
   "metadata": {},
   "outputs": [
    {
     "data": {
      "text/html": [
       "<div>\n",
       "<table class='DecisionTreeFactor'>\n",
       "  <thead>\n",
       "    <tr><th>0</th><th>1</th><th>2</th><th>value</th></tr>\n",
       "  </thead>\n",
       "  <tbody>\n",
       "    <tr><th>0</th><th>0</th><th>0</th><td>0</td></tr>\n",
       "    <tr><th>0</th><th>0</th><th>1</th><td>0</td></tr>\n",
       "    <tr><th>0</th><th>1</th><th>0</th><td>0</td></tr>\n",
       "    <tr><th>0</th><th>1</th><th>1</th><td>0</td></tr>\n",
       "    <tr><th>1</th><th>0</th><th>0</th><td>0</td></tr>\n",
       "    <tr><th>1</th><th>0</th><th>1</th><td>0</td></tr>\n",
       "    <tr><th>1</th><th>1</th><th>0</th><td>1</td></tr>\n",
       "    <tr><th>1</th><th>1</th><th>1</th><td>1</td></tr>\n",
       "  </tbody>\n",
       "</table>\n",
       "</div>"
      ],
      "text/markdown": [
       "|0|1|2|value|\n",
       "|:-:|:-:|:-:|:-:|\n",
       "|0|0|0|0|\n",
       "|0|0|1|0|\n",
       "|0|1|0|0|\n",
       "|0|1|1|0|\n",
       "|1|0|0|0|\n",
       "|1|0|1|0|\n",
       "|1|1|0|1|\n",
       "|1|1|1|1|\n"
      ],
      "text/plain": [
       "DecisionTreeFactor\n",
       " f[ (0,2), (1,2), (2,2), ]\n",
       " Choice(2) \n",
       " 0 Choice(1) \n",
       " 0 0 Leaf    0\n",
       " 0 1 Choice(0) \n",
       " 0 1 0 Leaf    0\n",
       " 0 1 1 Leaf    1\n",
       " 1 Choice(1) \n",
       " 1 0 Leaf    0\n",
       " 1 1 Choice(0) \n",
       " 1 1 0 Leaf    0\n",
       " 1 1 1 Leaf    1"
      ]
     },
     "execution_count": 160,
     "metadata": {},
     "output_type": "execute_result"
    }
   ],
   "source": [
    "f_and * f_or"
   ]
  },
  {
   "cell_type": "code",
   "execution_count": 154,
   "metadata": {},
   "outputs": [
    {
     "name": "stdout",
     "output_type": "stream",
     "text": [
      "(DiscreteValues{0: 0, 1: 0}, 0.0)\n",
      "(DiscreteValues{0: 0, 1: 1}, 0.0)\n",
      "(DiscreteValues{0: 1, 1: 0}, 0.0)\n",
      "(DiscreteValues{0: 1, 1: 1}, 1.0)\n"
     ]
    }
   ],
   "source": [
    "for val in f_and.enumerate():\n",
    "    print(val)"
   ]
  },
  {
   "cell_type": "code",
   "execution_count": null,
   "metadata": {},
   "outputs": [],
   "source": [
    "f_and."
   ]
  },
  {
   "cell_type": "code",
   "execution_count": null,
   "metadata": {},
   "outputs": [],
   "source": [
    "key_set = set()\n"
   ]
  },
  {
   "cell_type": "code",
   "execution_count": 49,
   "metadata": {},
   "outputs": [],
   "source": [
    "op_var = [a,b,c]\n",
    "input = []\n",
    "for var in op_var:\n",
    "    input.append(list(range(var[1])))\n",
    "prods = list(product(*input))"
   ]
  },
  {
   "cell_type": "code",
   "execution_count": 50,
   "metadata": {},
   "outputs": [
    {
     "data": {
      "text/plain": [
       "[(0, 0, 0),\n",
       " (0, 0, 1),\n",
       " (0, 1, 0),\n",
       " (0, 1, 1),\n",
       " (1, 0, 0),\n",
       " (1, 0, 1),\n",
       " (1, 1, 0),\n",
       " (1, 1, 1)]"
      ]
     },
     "execution_count": 50,
     "metadata": {},
     "output_type": "execute_result"
    }
   ],
   "source": [
    "prods"
   ]
  },
  {
   "cell_type": "code",
   "execution_count": 91,
   "metadata": {},
   "outputs": [
    {
     "data": {
      "text/plain": [
       "[[[1, 0], [0, 0], [6, 1], [7, 1], [8, 1]],\n",
       " [[2, 0], [0, 1], [6, 0], [7, 2], [8, 2]],\n",
       " [[3, 0], [0, 2], [6, 2], [7, 0], [8, 3]],\n",
       " [[4, 0], [0, 3], [6, 3], [7, 3], [8, 0]],\n",
       " [[5, 0], [0, 0], [6, 0], [7, 0], [8, 0]]]"
      ]
     },
     "execution_count": 91,
     "metadata": {},
     "output_type": "execute_result"
    }
   ],
   "source": [
    "converter.mutex_groups"
   ]
  },
  {
   "cell_type": "code",
   "execution_count": 51,
   "metadata": {},
   "outputs": [],
   "source": [
    "state_t = converter.generate_state(0)"
   ]
  },
  {
   "cell_type": "code",
   "execution_count": 52,
   "metadata": {},
   "outputs": [
    {
     "data": {
      "text/plain": [
       "[(0, 5), (1, 2), (2, 2), (3, 2), (4, 2), (5, 2), (6, 5), (7, 5), (8, 5)]"
      ]
     },
     "execution_count": 52,
     "metadata": {},
     "output_type": "execute_result"
    }
   ],
   "source": [
    "state_t"
   ]
  },
  {
   "cell_type": "code",
   "execution_count": 53,
   "metadata": {},
   "outputs": [],
   "source": [
    "state = list(converter.vars.keys())"
   ]
  },
  {
   "cell_type": "code",
   "execution_count": 54,
   "metadata": {},
   "outputs": [
    {
     "data": {
      "text/plain": [
       "[0, 1, 2, 3, 4, 5, 6, 7, 8]"
      ]
     },
     "execution_count": 54,
     "metadata": {},
     "output_type": "execute_result"
    }
   ],
   "source": [
    "state"
   ]
  },
  {
   "cell_type": "code",
   "execution_count": 55,
   "metadata": {},
   "outputs": [],
   "source": [
    "mutex_variables = []\n",
    "mutex_values = []\n",
    "for mutex_group in converter.mutex_groups:\n",
    "    var_group = []\n",
    "    val_group = []\n",
    "    for var, val in mutex_group:\n",
    "        state_var = state_t[state.index(var)]\n",
    "        var_group.append(state_var)\n",
    "        val_group.append(val)\n",
    "    mutex_variables.append(var_group)\n",
    "    mutex_values.append(val_group)"
   ]
  },
  {
   "cell_type": "code",
   "execution_count": 56,
   "metadata": {},
   "outputs": [
    {
     "data": {
      "text/plain": [
       "[[(1, 2), (0, 5), (6, 5), (7, 5), (8, 5)],\n",
       " [(2, 2), (0, 5), (6, 5), (7, 5), (8, 5)],\n",
       " [(3, 2), (0, 5), (6, 5), (7, 5), (8, 5)],\n",
       " [(4, 2), (0, 5), (6, 5), (7, 5), (8, 5)],\n",
       " [(5, 2), (0, 5), (6, 5), (7, 5), (8, 5)]]"
      ]
     },
     "execution_count": 56,
     "metadata": {},
     "output_type": "execute_result"
    }
   ],
   "source": [
    "mutex_variables"
   ]
  },
  {
   "cell_type": "code",
   "execution_count": 57,
   "metadata": {},
   "outputs": [
    {
     "data": {
      "text/plain": [
       "[[0, 0, 1, 1, 1],\n",
       " [0, 1, 0, 2, 2],\n",
       " [0, 2, 2, 0, 3],\n",
       " [0, 3, 3, 3, 0],\n",
       " [0, 0, 0, 0, 0]]"
      ]
     },
     "execution_count": 57,
     "metadata": {},
     "output_type": "execute_result"
    }
   ],
   "source": [
    "mutex_values"
   ]
  },
  {
   "cell_type": "code",
   "execution_count": 58,
   "metadata": {},
   "outputs": [
    {
     "data": {
      "text/plain": [
       "[[0, 1], [0, 1, 2, 3, 4], [0, 1, 2, 3, 4], [0, 1, 2, 3, 4], [0, 1, 2, 3, 4]]"
      ]
     },
     "execution_count": 58,
     "metadata": {},
     "output_type": "execute_result"
    }
   ],
   "source": [
    "for mutex_var, mutex_val in zip(mutex_variables, mutex_values):\n",
    "    input = []\n",
    "    for var in mutex_var:\n",
    "        input.append(list(range(var[1])))\n",
    "input"
   ]
  },
  {
   "cell_type": "code",
   "execution_count": 60,
   "metadata": {},
   "outputs": [],
   "source": [
    "prods = list(product(*input))"
   ]
  },
  {
   "cell_type": "code",
   "execution_count": 93,
   "metadata": {},
   "outputs": [
    {
     "data": {
      "text/plain": [
       "1250"
      ]
     },
     "execution_count": 93,
     "metadata": {},
     "output_type": "execute_result"
    }
   ],
   "source": [
    "len(prods)"
   ]
  },
  {
   "cell_type": "code",
   "execution_count": null,
   "metadata": {},
   "outputs": [],
   "source": [
    "mutex_string_list = []\n",
    "for prod in prods:\n",
    "    is_valid = converter.valid(prod, mutex_val)\n",
    "    mutex_string_list.append(is_valid)\n",
    "mutex_string = ' '.join(mutex_string_list)\n",
    "f = f*gtsam.DecisionTreeFactor(mutex_var, mutex_string)"
   ]
  },
  {
   "cell_type": "code",
   "execution_count": 155,
   "metadata": {},
   "outputs": [
    {
     "ename": "NameError",
     "evalue": "name 'CartesianProduct' is not defined",
     "output_type": "error",
     "traceback": [
      "\u001b[0;31m---------------------------------------------------------------------------\u001b[0m",
      "\u001b[0;31mNameError\u001b[0m                                 Traceback (most recent call last)",
      "\u001b[0;32m/tmp/ipykernel_797334/1512587250.py\u001b[0m in \u001b[0;36m<module>\u001b[0;34m\u001b[0m\n\u001b[0;32m----> 1\u001b[0;31m \u001b[0mhelp\u001b[0m\u001b[0;34m(\u001b[0m\u001b[0mCartesianProduct\u001b[0m\u001b[0;34m)\u001b[0m\u001b[0;34m\u001b[0m\u001b[0;34m\u001b[0m\u001b[0m\n\u001b[0m",
      "\u001b[0;31mNameError\u001b[0m: name 'CartesianProduct' is not defined"
     ]
    }
   ],
   "source": [
    "help(CartesianProduct)"
   ]
  },
  {
   "cell_type": "code",
   "execution_count": null,
   "metadata": {},
   "outputs": [],
   "source": []
  }
 ],
 "metadata": {
  "kernelspec": {
   "display_name": "Python 3 (ipykernel)",
   "language": "python",
   "name": "python3"
  },
  "language_info": {
   "codemirror_mode": {
    "name": "ipython",
    "version": 3
   },
   "file_extension": ".py",
   "mimetype": "text/x-python",
   "name": "python",
   "nbconvert_exporter": "python",
   "pygments_lexer": "ipython3",
   "version": "3.9.7"
  }
 },
 "nbformat": 4,
 "nbformat_minor": 2
}
