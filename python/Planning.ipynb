{
 "cells": [
  {
   "cell_type": "markdown",
   "metadata": {},
   "source": [
    "# Planning Notebook"
   ]
  },
  {
   "cell_type": "code",
   "execution_count": 104,
   "metadata": {},
   "outputs": [],
   "source": [
    "import math\n",
    "import unittest\n",
    "import numpy as np\n",
    "from itertools import product\n",
    "import tqdm\n",
    "from tqdm import tqdm_notebook\n",
    "\n",
    "# import gtsam\n",
    "import gtsam\n",
    "from gtsam import *\n",
    "from gtsam.utils.test_case import GtsamTestCase\n",
    "\n",
    "# import gtbook\n",
    "import gtbook\n",
    "from gtbook.display import *\n",
    "from gtbook.discrete import *\n",
    "\n",
    "# import local package\n",
    "import gtsam_example\n",
    "from gtsam_example import SingleValueConstraint, MultiValueConstraint, NotSingleValueConstraint, OrConstraint, MutexConstraint, OperatorConstraint\n",
    "\n",
    "# import parser\n",
    "import SASParser\n",
    "from SASParser import SAS, Operator\n",
    "\n",
    "variables = Variables()\n",
    "def pretty(obj): \n",
    "    return gtbook.display.pretty(obj, variables)\n",
    "\n",
    "import graphviz\n",
    "class show(graphviz.Source):\n",
    "    \"\"\" Display an object with a dot method as a graph.\"\"\"\n",
    "\n",
    "    def __init__(self, obj):\n",
    "        \"\"\"Construct from object with 'dot' method.\"\"\"\n",
    "        # This small class takes an object, calls its dot function, and uses the\n",
    "        # resulting string to initialize a graphviz.Source instance. This in turn\n",
    "        # has a _repr_mimebundle_ method, which then renders it in the notebook.\n",
    "        super().__init__(obj.dot())"
   ]
  },
  {
   "cell_type": "code",
   "execution_count": 105,
   "metadata": {},
   "outputs": [],
   "source": [
    "class SASToGTSAM():\n",
    "    def __init__(self, sas):\n",
    "        self.sas = sas\n",
    "        self.init = sas.initial_state\n",
    "        self.goal = sas.goal\n",
    "        self.vars = self.sas.variables\n",
    "        self.ops = self.sas.operators\n",
    "        self.mutex_groups = self.sas.mutex_group\n",
    "        self.ops_names = []\n",
    "        for op in self.ops:\n",
    "            self.ops_names.append(op.name)\n",
    "\n",
    "    def generate_string(self, cardinality, val):\n",
    "        string_list = []\n",
    "        for i in range(cardinality):\n",
    "            string_list.append(\"0\")\n",
    "        string_list[val] = \"1\"\n",
    "        string = ' '.join(string_list)\n",
    "        return string\n",
    "    \n",
    "    def generate_state(self, timestep):\n",
    "        state = []\n",
    "        for var, val in self.vars.items():\n",
    "            state_var = variables.discrete(str(var)+\"_\"+str(timestep), val)\n",
    "            state.append(state_var)\n",
    "        return state\n",
    "    \n",
    "    def generate_operator(self, timestep):\n",
    "        op_var = variables.discrete(\"op_\"+str(timestep), self.ops_names)\n",
    "        return op_var\n",
    "    \n",
    "    def generate_initial_factor(self, initial_state):\n",
    "        keys = gtsam.DiscreteKeys()\n",
    "        for key in initial_state:\n",
    "            keys.push_back(key)\n",
    "        init_values = list(self.init.values())\n",
    "        init_f = MultiValueConstraint(keys, init_values)\n",
    "        return init_f\n",
    "\n",
    "    def generate_goal_factor(self, goal_state):\n",
    "        state = list(self.vars.keys())\n",
    "        keys = gtsam.DiscreteKeys()\n",
    "        vals = []\n",
    "        for goal_var, goal_val in converter.goal.items():\n",
    "            keys.push_back(goal_state[state.index(goal_var)])\n",
    "            vals.append(goal_val)\n",
    "        goal_f = MultiValueConstraint(keys, vals)\n",
    "        return goal_f\n",
    "    \n",
    "    def generate_op_factor(self, state_t, state_tp, operator):\n",
    "        state = list(self.vars.keys())\n",
    "        keys = gtsam.DiscreteKeys()\n",
    "        vals = []\n",
    "        for pre_var, pre_val in op.precondition.items():\n",
    "            keys.push_back(state_t[state.index(pre_var)])\n",
    "            vals.append(pre_val)\n",
    "        \n",
    "        for eff_var, eff_val in op.effect.items():\n",
    "            keys.push_back(state_tp[state.index(eff_var)])\n",
    "            vals.append(eff_val)\n",
    "        \n",
    "        op_f = MultiValueConstraint(keys, vals)\n",
    "        return op_f\n",
    "        \n",
    "        # TODO: precondition/effects should be multivalue constraints\n",
    "        # state = list(self.vars.keys())\n",
    "        # preconditions = operator.precondition\n",
    "        # effects = operator.effect\n",
    "        # prevail = operator.prevail\n",
    "        # f = gtsam.DecisionTreeFactor()\n",
    "        # for pre_var, pre_val in preconditions.items():\n",
    "        #     if pre_val == -1:\n",
    "        #         continue\n",
    "        #     state_var = state_t[state.index(pre_var)]\n",
    "        #     cardinality = state_var[1]\n",
    "        #     state_f = gtsam.DecisionTreeFactor(state_var, self.generate_string(cardinality, pre_val))\n",
    "        #     f *= state_f\n",
    "        # for eff_var, eff_val in effects.items():\n",
    "        #     if eff_val == -1:\n",
    "        #         continue\n",
    "        #     state_var = state_tp[state.index(eff_var)]\n",
    "        #     cardinality = state_var[1]\n",
    "        #     state_f = gtsam.DecisionTreeFactor(state_var, self.generate_string(cardinality, eff_val))\n",
    "        #     f *= state_f\n",
    "        # if prevail:\n",
    "        #     for prev_var, prev_val in prevail.items():\n",
    "        #         if prev_val == -1:\n",
    "        #             continue\n",
    "        #         state_var_t = state_t[state.index(prev_var)]\n",
    "        #         state_var_tp = state_tp[state.index(prev_var)]\n",
    "        #         cardinality = state_var[1]\n",
    "        #         state_t_f = gtsam.DecisionTreeFactor(state_var_t, self.generate_string(cardinality, prev_val))\n",
    "        #         state_tp_f = gtsam.DecisionTreeFactor(state_var_tp, self.generate_string(cardinality, prev_val))\n",
    "        #         f *= state_t_f\n",
    "        #         f *= state_tp_f\n",
    "        # return f\n",
    "    \n",
    "\n",
    "    def valid(self, values, mutex):\n",
    "        assert len(values) == len(mutex)\n",
    "        count = 0\n",
    "        for v, m in zip(values, mutex):\n",
    "            if v == m:\n",
    "                count += 1\n",
    "            if count > 1:\n",
    "                return \"0\"\n",
    "        return \"1\"\n",
    "\n",
    "    def generate_mutex_factor(self, state_t):\n",
    "        state = list(self.vars.keys())\n",
    "        mutex_variables = []\n",
    "        mutex_values = []\n",
    "        \n",
    "        for mutex_group in self.mutex_groups:\n",
    "            var_group = []\n",
    "            val_group = []\n",
    "            for var, val in mutex_group:\n",
    "                state_var = state_t[state.index(var)]\n",
    "                var_group.append(state_var)\n",
    "                val_group.append(val)\n",
    "            mutex_variables.append(var_group)\n",
    "            mutex_values.append(val_group)\n",
    "        \n",
    "        factors = []\n",
    "        for mutex_var, mutex_val in zip(mutex_variables, mutex_values):\n",
    "            keys = gtsam.DiscreteKeys()\n",
    "            for var in mutex_var:\n",
    "                keys.push_back(var)\n",
    "            mutex = MutexConstraint(keys, mutex_val)\n",
    "            factors.append(mutex)\n",
    "        return factors"
   ]
  },
  {
   "cell_type": "code",
   "execution_count": 106,
   "metadata": {},
   "outputs": [],
   "source": [
    "sas = SAS()\n",
    "sas_dir = \"sas/block_example.sas\"\n",
    "sas.read_file(sas_dir)\n",
    "converter = SASToGTSAM(sas)"
   ]
  },
  {
   "cell_type": "code",
   "execution_count": 107,
   "metadata": {},
   "outputs": [],
   "source": [
    "class TestSASToGTSAM(GtsamTestCase):\n",
    "    \"\"\"Tests for Single Value Constraints\"\"\"\n",
    "\n",
    "    def setUp(self):\n",
    "        sas = SAS()\n",
    "        sas_dir = \"sas/block_example.sas\"\n",
    "        sas.read_file(sas_dir)\n",
    "        self.converter = SASToGTSAM(sas)\n",
    "        self.init_state = self.converter.generate_state(0)\n",
    "        self.op = self.converter.generate_operator(0)\n",
    "        self.next_state = self.converter.generate_state(1)\n",
    "\n",
    "        input = []\n",
    "        for _, vars in self.converter.vars.items():\n",
    "            input.append(list(range(len(vars))))\n",
    "        # tried this but this crashes the kernel\n",
    "        # for _, vars in self.converter.vars.items():\n",
    "        #     input.append(list(range(len(vars))))\n",
    "        self.prods = list(product(*input))\n",
    "    \n",
    "    def createVal(self, states, prod):\n",
    "        values = gtsam.DiscreteValues()\n",
    "        for state, val in zip(states, prod):\n",
    "            values[state[0]] = val\n",
    "        return values\n",
    "\n",
    "    def createOperatorVal(self, state1, state2, op):\n",
    "        state = list(converter.vars.keys())\n",
    "        values = gtsam.DiscreteValues()\n",
    "        for var, val in op.precondition.items():\n",
    "            if val == -1:\n",
    "                continue\n",
    "            values[state1[state.index(var)][0]] = val\n",
    "        for var, val in op.effect.items():\n",
    "            if val == -1:\n",
    "                continue\n",
    "            values[state2[state.index(var)][0]] = val\n",
    "        return values\n",
    "    \n",
    "    def valid(self, prod, mutex_group):\n",
    "        count = 0\n",
    "        for var, val in mutex_group:\n",
    "            if prod[var] == val:\n",
    "                count += 1\n",
    "            if count > 1:\n",
    "                return 0.0\n",
    "        return 1.0\n",
    "\n",
    "    def test_generateState(self):\n",
    "        assert len(self.init_state) == 9\n",
    "    \n",
    "    def test_generateString(self):\n",
    "        cardinality = 3\n",
    "        string = self.converter.generate_string(cardinality, 2)\n",
    "        assert string == \"0 0 1\"\n",
    "\n",
    "    def test_generateOperatorState(self):\n",
    "        # there are 32 possible operators\n",
    "        assert self.op[1] == 32\n",
    "\n",
    "    def test_generateInitial(self):\n",
    "        state = list(converter.vars.keys())\n",
    "        initial_factor = self.converter.generate_initial_factor(self.init_state)\n",
    "        total = 0.0\n",
    "        for prod in self.prods:\n",
    "            values = self.createVal(self.init_state, prod)\n",
    "            output = initial_factor(values)\n",
    "            if output == 1:\n",
    "                for var, val in self.converter.init.items():\n",
    "                    assert values[self.init_state[state.index(var)][0]] == val\n",
    "            total += output\n",
    "        assert total == 1\n",
    "\n",
    "    def test_generateGoal(self):\n",
    "        state = list(converter.vars.keys())\n",
    "        goal_factor = self.converter.generate_goal_factor(self.next_state)\n",
    "        total = 0.0\n",
    "        for prod in self.prods:\n",
    "            values = self.createVal(self.next_state, prod)\n",
    "            output = goal_factor(values)\n",
    "            if output == 1:\n",
    "                for var, val in self.converter.goal.items():\n",
    "                    assert values[self.next_state[state.index(var)][0]] == val\n",
    "            total += output\n",
    "        assert total > 1\n",
    "\n",
    "    def test_generateOperatorFactor(self):\n",
    "        for operator in converter.ops:\n",
    "            op_factor = self.converter.generate_op_factor(self.init_state, self.next_state, operator)\n",
    "            values = self.createOperatorVal(self.init_state, self.next_state, operator)\n",
    "            assert op_factor(values) == 1\n",
    "    \n",
    "    # def test_generateMutex(self):\n",
    "    #     mutex_factors = self.converter.generate_mutex_factor(self.init_state)\n",
    "    #     for prod in tqdm_notebook(self.prods, desc='possible states'):\n",
    "    #         for mutex_factor, mutex_group in zip(mutex_factors, converter.mutex_groups):\n",
    "    #             check_valid = self.valid(prod, mutex_group)\n",
    "    #             values = self.createVal(self.init_state, prod)\n",
    "    #             factor_valid = mutex_factor(values)\n",
    "    #             tree_factor = mutex_factor.toDecisionTreeFactor()\n",
    "    #             tree_valid = tree_factor(values)\n",
    "    #             assert tree_valid == factor_valid == check_valid"
   ]
  },
  {
   "cell_type": "code",
   "execution_count": 108,
   "metadata": {},
   "outputs": [],
   "source": [
    "# unittest.main(argv=[''], verbosity=2, exit=False)"
   ]
  },
  {
   "cell_type": "code",
   "execution_count": 109,
   "metadata": {},
   "outputs": [],
   "source": [
    "state_t = converter.generate_state(0)\n",
    "op_t = converter.generate_operator(0)\n",
    "state_tp = converter.generate_state(0)"
   ]
  },
  {
   "cell_type": "code",
   "execution_count": 110,
   "metadata": {},
   "outputs": [
    {
     "data": {
      "text/plain": [
       "[(0, 5), (1, 2), (2, 2), (3, 2), (4, 2), (5, 2), (6, 5), (7, 5), (8, 5)]"
      ]
     },
     "execution_count": 110,
     "metadata": {},
     "output_type": "execute_result"
    }
   ],
   "source": [
    "state_t"
   ]
  },
  {
   "cell_type": "code",
   "execution_count": 111,
   "metadata": {},
   "outputs": [
    {
     "data": {
      "text/plain": [
       "(9, 32)"
      ]
     },
     "execution_count": 111,
     "metadata": {},
     "output_type": "execute_result"
    }
   ],
   "source": [
    "op_t"
   ]
  },
  {
   "cell_type": "code",
   "execution_count": 112,
   "metadata": {},
   "outputs": [
    {
     "data": {
      "text/plain": [
       "[(10, 5),\n",
       " (11, 2),\n",
       " (12, 2),\n",
       " (13, 2),\n",
       " (14, 2),\n",
       " (15, 2),\n",
       " (16, 5),\n",
       " (17, 5),\n",
       " (18, 5)]"
      ]
     },
     "execution_count": 112,
     "metadata": {},
     "output_type": "execute_result"
    }
   ],
   "source": [
    "state_tp"
   ]
  },
  {
   "cell_type": "code",
   "execution_count": 115,
   "metadata": {},
   "outputs": [
    {
     "data": {
      "text/plain": [
       "{1: 0, 5: 0, 0: 4}"
      ]
     },
     "execution_count": 115,
     "metadata": {},
     "output_type": "execute_result"
    }
   ],
   "source": [
    "op = converter.ops[0]\n",
    "op.precondition"
   ]
  },
  {
   "cell_type": "code",
   "execution_count": 116,
   "metadata": {},
   "outputs": [
    {
     "data": {
      "text/plain": [
       "{1: 1, 5: 1, 0: 0}"
      ]
     },
     "execution_count": 116,
     "metadata": {},
     "output_type": "execute_result"
    }
   ],
   "source": [
    "op.effect"
   ]
  },
  {
   "cell_type": "code",
   "execution_count": 117,
   "metadata": {},
   "outputs": [],
   "source": [
    "def generate_op_factor(state_t, state_tp, op):\n",
    "    state = list(converter.vars.keys())\n",
    "    keys = gtsam.DiscreteKeys()\n",
    "    vals = []\n",
    "    for pre_var, pre_val in op.precondition.items():\n",
    "        keys.push_back(state_t[state.index(pre_var)])\n",
    "        vals.append(pre_val)\n",
    "    \n",
    "    for eff_var, eff_val in op.effect.items():\n",
    "        keys.push_back(state_tp[state.index(eff_var)])\n",
    "        vals.append(eff_val)\n",
    "    \n",
    "    op_f = MultiValueConstraint(keys, vals)\n",
    "    return op_f\n",
    "    "
   ]
  },
  {
   "cell_type": "code",
   "execution_count": 118,
   "metadata": {},
   "outputs": [],
   "source": [
    "op_f = generate_op_factor(state_t, state_tp, op)"
   ]
  },
  {
   "cell_type": "code",
   "execution_count": 119,
   "metadata": {},
   "outputs": [
    {
     "data": {
      "text/plain": [
       "MultiValueConstraint on 1 5 0 11 15 10 "
      ]
     },
     "execution_count": 119,
     "metadata": {},
     "output_type": "execute_result"
    }
   ],
   "source": [
    "op_f"
   ]
  },
  {
   "cell_type": "code",
   "execution_count": null,
   "metadata": {},
   "outputs": [],
   "source": [
    "def generate_op_factor(state_t, state_tp, operator):\n",
    "    # TODO: precondition/effects should be multivalue constraints\n",
    "    state = list(converter.vars.keys())\n",
    "    preconditions = operator.precondition\n",
    "    effects = operator.effect\n",
    "    prevail = operator.prevail\n",
    "    f = gtsam.DecisionTreeFactor()\n",
    "    for pre_var, pre_val in preconditions.items():\n",
    "        if pre_val == -1:\n",
    "            continue\n",
    "        state_var = state_t[state.index(pre_var)]\n",
    "        cardinality = state_var[1]\n",
    "        state_f = gtsam.DecisionTreeFactor(state_var, self.generate_string(cardinality, pre_val))\n",
    "        f *= state_f\n",
    "    for eff_var, eff_val in effects.items():\n",
    "        if eff_val == -1:\n",
    "            continue\n",
    "        state_var = state_tp[state.index(eff_var)]\n",
    "        cardinality = state_var[1]\n",
    "        state_f = gtsam.DecisionTreeFactor(state_var, self.generate_string(cardinality, eff_val))\n",
    "        f *= state_f\n",
    "    if prevail:\n",
    "        for prev_var, prev_val in prevail.items():\n",
    "            if prev_val == -1:\n",
    "                continue\n",
    "            state_var_t = state_t[state.index(prev_var)]\n",
    "            state_var_tp = state_tp[state.index(prev_var)]\n",
    "            cardinality = state_var[1]\n",
    "            state_t_f = gtsam.DecisionTreeFactor(state_var_t, self.generate_string(cardinality, prev_val))\n",
    "            state_tp_f = gtsam.DecisionTreeFactor(state_var_tp, self.generate_string(cardinality, prev_val))\n",
    "            f *= state_t_f\n",
    "            f *= state_tp_f\n",
    "    return f"
   ]
  },
  {
   "cell_type": "code",
   "execution_count": 83,
   "metadata": {},
   "outputs": [],
   "source": [
    "# def plan(k):\n",
    "#     states = []\n",
    "#     operators = []\n",
    "#     mutex_factors = []\n",
    "#     op_factors = []\n",
    "#     for i in range(k):\n",
    "#         # generate state\n",
    "#         state_t = converter.generate_state(i)\n",
    "#         # generate mutex factor for the state\n",
    "#         mutex_factor = converter.generate_mutex_factor(state_t)\n",
    "#         mutex_factors.append(mutex_factor)\n",
    "#         # generate binary key indicating if operator satisfies all preconditions and effects\n",
    "#         operators_t = converter.generate_operator(i)\n",
    "#         states.append(state_t)\n",
    "#         operators.append(operators_t)\n",
    "#     last_state = converter.generate_state(k)\n",
    "#     mutex_factor = converter.generate_mutex_factor(last_state)\n",
    "#     mutex_factors.append(mutex_factor)\n",
    "#     states.append(last_state)\n",
    "\n",
    "#     for j in range(len(states)-1):\n",
    "#         op_group = []\n",
    "#         for op_t, op in zip(operators[j], converter.ops):\n",
    "#             op_factor = converter.generate_op_factor(states[j], states[j+1], op_t, op)\n",
    "#             op_group.append(op_factor)\n",
    "#         op_factor = OrConstraint(op_group)\n",
    "#         op_factors.append(op_factor)\n",
    "\n",
    "#     initial_factor = converter.generate_initial_factor()\n",
    "#     goal_factor = converter.generate_goal_factor(states[-1])\n",
    "#     return states, initial_factor,  goal_factor, mutex_factors, op_factors"
   ]
  },
  {
   "cell_type": "code",
   "execution_count": 84,
   "metadata": {},
   "outputs": [],
   "source": [
    "# states, initial_factor,  goal_factor, mutex_factors, op_factors = plan(7)"
   ]
  },
  {
   "cell_type": "code",
   "execution_count": 85,
   "metadata": {},
   "outputs": [],
   "source": [
    "k = 2\n",
    "states = []\n",
    "operators = []\n",
    "mutex_factors = []\n",
    "op_factors = []\n",
    "for i in range(k):\n",
    "    # generate state\n",
    "    state_t = converter.generate_state(i)\n",
    "    # generate mutex factor for the state\n",
    "    mutex_factor = converter.generate_mutex_factor(state_t)\n",
    "    mutex_factors.append(mutex_factor)\n",
    "    # generate binary key indicating if operator satisfies all preconditions and effects\n",
    "    operators_t = converter.generate_operator(i)\n",
    "    states.append(state_t)\n",
    "    operators.append(operators_t)\n",
    "last_state = converter.generate_state(k)\n",
    "mutex_factor = converter.generate_mutex_factor(last_state)\n",
    "mutex_factors.append(mutex_factor)\n",
    "states.append(last_state)"
   ]
  },
  {
   "cell_type": "code",
   "execution_count": 86,
   "metadata": {},
   "outputs": [],
   "source": [
    "for j in range(len(states)-1):\n",
    "    op_group = []\n",
    "    for op in converter.ops:\n",
    "        op_factor = converter.generate_op_factor(states[j], states[j+1], op)\n",
    "        op_group.append(op_factor)\n",
    "    op_factor = OperatorConstraint(operators[j], op_group)\n",
    "    op_factors.append(op_factor)\n",
    "\n",
    "initial_factor = converter.generate_initial_factor(states[0])\n",
    "goal_factor = converter.generate_goal_factor(states[-1])"
   ]
  },
  {
   "cell_type": "code",
   "execution_count": 87,
   "metadata": {},
   "outputs": [],
   "source": [
    "# values = DiscreteValues()\n",
    "# values[0] = 4\n",
    "# values[1] = 0\n",
    "# values[2] = 0\n",
    "# values[3] = 0\n",
    "# values[4] = 0\n",
    "# values[5] = 0\n",
    "# values[6] = 4\n",
    "# values[7] = 4\n",
    "# values[8] = 4\n",
    "# #--------------\n",
    "# values[9] = 1\n",
    "# #--------------\n",
    "# values[10] = 4\n",
    "# values[11] = 0\n",
    "# values[12] = 1\n",
    "# values[13] = 0\n",
    "# values[14] = 0\n",
    "# values[15] = 1\n",
    "# values[16] = 0\n",
    "# values[17] = 4\n",
    "# values[18] = 4"
   ]
  },
  {
   "cell_type": "code",
   "execution_count": 88,
   "metadata": {},
   "outputs": [],
   "source": [
    "# operators[0]"
   ]
  },
  {
   "cell_type": "code",
   "execution_count": 89,
   "metadata": {},
   "outputs": [],
   "source": [
    "# op0 = op_group[0]\n",
    "# op1 = op_group[1]\n",
    "# op2 = op_group[2]"
   ]
  },
  {
   "cell_type": "code",
   "execution_count": 90,
   "metadata": {},
   "outputs": [],
   "source": [
    "# added = OperatorConstraint((9,3), [op0, op1, op2])"
   ]
  },
  {
   "cell_type": "code",
   "execution_count": 91,
   "metadata": {},
   "outputs": [],
   "source": [
    "# added_tree = added.toDecisionTreeFactor()"
   ]
  },
  {
   "cell_type": "code",
   "execution_count": 92,
   "metadata": {},
   "outputs": [],
   "source": [
    "# show(added_tree)"
   ]
  },
  {
   "cell_type": "code",
   "execution_count": 93,
   "metadata": {},
   "outputs": [],
   "source": [
    "graph = gtsam.DiscreteFactorGraph()"
   ]
  },
  {
   "cell_type": "code",
   "execution_count": 94,
   "metadata": {},
   "outputs": [],
   "source": [
    "for m_factor in mutex_factors:\n",
    "    for f in m_factor:\n",
    "        graph.push_back(f)"
   ]
  },
  {
   "cell_type": "code",
   "execution_count": 95,
   "metadata": {},
   "outputs": [],
   "source": [
    "for op_factor in op_factors:\n",
    "    graph.push_back(op_factor)"
   ]
  },
  {
   "cell_type": "code",
   "execution_count": 96,
   "metadata": {},
   "outputs": [],
   "source": [
    "# graph.push_back(op_factors[1])\n",
    "# graph.push_back(op_factors[43])\n",
    "# graph.push_back(op_factors[66])\n",
    "# graph.push_back(op_factors[111])\n",
    "# graph.push_back(op_factors[131])\n",
    "# graph.push_back(op_factors[179])\n",
    "graph.push_back(goal_factor)\n",
    "graph.push_back(initial_factor)"
   ]
  },
  {
   "cell_type": "code",
   "execution_count": 97,
   "metadata": {},
   "outputs": [
    {
     "name": "stdout",
     "output_type": "stream",
     "text": [
      "\n",
      "size: 19\n",
      "factor 0: MutexConstraint on 1 0 6 7 8 \n",
      "factor 1: MutexConstraint on 2 0 6 7 8 \n",
      "factor 2: MutexConstraint on 3 0 6 7 8 \n",
      "factor 3: MutexConstraint on 4 0 6 7 8 \n",
      "factor 4: MutexConstraint on 5 0 6 7 8 \n",
      "factor 5: MutexConstraint on 11 10 16 17 18 \n",
      "factor 6: MutexConstraint on 12 10 16 17 18 \n",
      "factor 7: MutexConstraint on 13 10 16 17 18 \n",
      "factor 8: MutexConstraint on 14 10 16 17 18 \n",
      "factor 9: MutexConstraint on 15 10 16 17 18 \n",
      "factor 10: MutexConstraint on 21 20 26 27 28 \n",
      "factor 11: MutexConstraint on 22 20 26 27 28 \n",
      "factor 12: MutexConstraint on 23 20 26 27 28 \n",
      "factor 13: MutexConstraint on 24 20 26 27 28 \n",
      "factor 14: MutexConstraint on 25 20 26 27 28 \n",
      "factor 15: OperatorConstraint on 9\n",
      "factor 16: OperatorConstraint on 19\n",
      "factor 17: MultiValueConstraint on 26 27 28 \n",
      "factor 18: MultiValueConstraint on 0 1 2 3 4 5 6 7 8 \n",
      "\n"
     ]
    }
   ],
   "source": [
    "print(graph)"
   ]
  },
  {
   "cell_type": "code",
   "execution_count": 98,
   "metadata": {},
   "outputs": [
    {
     "ename": "RuntimeError",
     "evalue": "An inference algorithm was called with inconsistent arguments.  The\nfactor graph, ordering, or variable index were inconsistent with each\nother, or a full elimination routine was called with an ordering that\ndoes not include all of the variables.",
     "output_type": "error",
     "traceback": [
      "\u001b[0;31m---------------------------------------------------------------------------\u001b[0m",
      "\u001b[0;31mRuntimeError\u001b[0m                              Traceback (most recent call last)",
      "\u001b[0;32m/tmp/ipykernel_2290228/1486217198.py\u001b[0m in \u001b[0;36m<module>\u001b[0;34m\u001b[0m\n\u001b[0;32m----> 1\u001b[0;31m \u001b[0mval\u001b[0m \u001b[0;34m=\u001b[0m \u001b[0mgraph\u001b[0m\u001b[0;34m.\u001b[0m\u001b[0moptimize\u001b[0m\u001b[0;34m(\u001b[0m\u001b[0;34m)\u001b[0m\u001b[0;34m\u001b[0m\u001b[0;34m\u001b[0m\u001b[0m\n\u001b[0m",
      "\u001b[0;31mRuntimeError\u001b[0m: An inference algorithm was called with inconsistent arguments.  The\nfactor graph, ordering, or variable index were inconsistent with each\nother, or a full elimination routine was called with an ordering that\ndoes not include all of the variables."
     ]
    }
   ],
   "source": [
    "val = graph.optimize()"
   ]
  },
  {
   "cell_type": "code",
   "execution_count": 51,
   "metadata": {},
   "outputs": [
    {
     "name": "stdout",
     "output_type": "stream",
     "text": [
      "\n",
      "size: 19\n",
      "factor 0: MutexConstraint on 1 0 6 7 8 \n",
      "factor 1: MutexConstraint on 2 0 6 7 8 \n",
      "factor 2: MutexConstraint on 3 0 6 7 8 \n",
      "factor 3: MutexConstraint on 4 0 6 7 8 \n",
      "factor 4: MutexConstraint on 5 0 6 7 8 \n",
      "factor 5: MutexConstraint on 11 10 16 17 18 \n",
      "factor 6: MutexConstraint on 12 10 16 17 18 \n",
      "factor 7: MutexConstraint on 13 10 16 17 18 \n",
      "factor 8: MutexConstraint on 14 10 16 17 18 \n",
      "factor 9: MutexConstraint on 15 10 16 17 18 \n",
      "factor 10: MutexConstraint on 21 20 26 27 28 \n",
      "factor 11: MutexConstraint on 22 20 26 27 28 \n",
      "factor 12: MutexConstraint on 23 20 26 27 28 \n",
      "factor 13: MutexConstraint on 24 20 26 27 28 \n",
      "factor 14: MutexConstraint on 25 20 26 27 28 \n",
      "factor 15: OperatorConstraint on 9\n",
      "factor 16: OperatorConstraint on 19\n",
      "factor 17: MultiValueConstraint on 26 27 28 \n",
      "factor 18: MultiValueConstraint on 0 1 2 3 4 5 6 7 8 \n",
      "\n"
     ]
    }
   ],
   "source": [
    "print(graph)"
   ]
  },
  {
   "cell_type": "code",
   "execution_count": null,
   "metadata": {},
   "outputs": [],
   "source": [
    "# print(graph)"
   ]
  },
  {
   "cell_type": "code",
   "execution_count": null,
   "metadata": {},
   "outputs": [],
   "source": [
    "graph(val)"
   ]
  },
  {
   "cell_type": "code",
   "execution_count": null,
   "metadata": {},
   "outputs": [],
   "source": [
    "a = (0, 2)\n",
    "b = (1, 2)\n",
    "c = (2, 4)"
   ]
  },
  {
   "cell_type": "code",
   "execution_count": null,
   "metadata": {},
   "outputs": [],
   "source": [
    "f_and = gtsam.DecisionTreeFactor([a, b], \"0 0 0 1\")\n",
    "f_or = gtsam.DecisionTreeFactor([a, b], \"0 1 1 1\")\n",
    "f_true = gtsam.DecisionTreeFactor([a, b], \"0 0 0 0\")\n",
    "f_false = gtsam.DecisionTreeFactor([a, b], \"1 1 1 1\")"
   ]
  },
  {
   "cell_type": "code",
   "execution_count": null,
   "metadata": {},
   "outputs": [],
   "source": [
    "show(f_and)"
   ]
  },
  {
   "cell_type": "code",
   "execution_count": null,
   "metadata": {},
   "outputs": [],
   "source": [
    "add_constraint = OperatorConstraint(c, [f_and, f_or, f_true, f_false])"
   ]
  },
  {
   "cell_type": "code",
   "execution_count": null,
   "metadata": {},
   "outputs": [],
   "source": [
    "show(add_constraint.toDecisionTreeFactor())"
   ]
  },
  {
   "cell_type": "code",
   "execution_count": null,
   "metadata": {},
   "outputs": [],
   "source": [
    "or_constraint = OrConstraint([f_and, f_or])"
   ]
  },
  {
   "cell_type": "code",
   "execution_count": null,
   "metadata": {},
   "outputs": [],
   "source": [
    "show(or_constraint.toDecisionTreeFactor())"
   ]
  },
  {
   "cell_type": "code",
   "execution_count": null,
   "metadata": {},
   "outputs": [],
   "source": [
    "help(DecisionTreeFactor)"
   ]
  },
  {
   "cell_type": "code",
   "execution_count": null,
   "metadata": {},
   "outputs": [],
   "source": [
    "combined.toDecisionTreeFactor()"
   ]
  },
  {
   "cell_type": "code",
   "execution_count": null,
   "metadata": {},
   "outputs": [],
   "source": [
    "f_or.cardinality"
   ]
  },
  {
   "cell_type": "code",
   "execution_count": null,
   "metadata": {},
   "outputs": [],
   "source": [
    "f_and * f_or"
   ]
  },
  {
   "cell_type": "code",
   "execution_count": null,
   "metadata": {},
   "outputs": [],
   "source": [
    "for val in f_and.enumerate():\n",
    "    print(val)"
   ]
  },
  {
   "cell_type": "code",
   "execution_count": null,
   "metadata": {},
   "outputs": [],
   "source": [
    "values = gtsam.DiscreteValues()\n",
    "values[0] = 1\n",
    "values[1] = 0\n",
    "values[2] = 0"
   ]
  },
  {
   "cell_type": "code",
   "execution_count": null,
   "metadata": {},
   "outputs": [],
   "source": [
    "values.items"
   ]
  },
  {
   "cell_type": "code",
   "execution_count": null,
   "metadata": {},
   "outputs": [],
   "source": [
    "or_f = OrConstraint([f_and, f_or])"
   ]
  },
  {
   "cell_type": "code",
   "execution_count": null,
   "metadata": {},
   "outputs": [],
   "source": [
    "or_f_tree = or_f.toDecisionTreeFactor()\n",
    "or_f_tree"
   ]
  },
  {
   "cell_type": "code",
   "execution_count": null,
   "metadata": {},
   "outputs": [],
   "source": [
    "or_f_tree * f_or"
   ]
  },
  {
   "cell_type": "code",
   "execution_count": null,
   "metadata": {},
   "outputs": [],
   "source": [
    "key_set = set()\n"
   ]
  },
  {
   "cell_type": "code",
   "execution_count": null,
   "metadata": {},
   "outputs": [],
   "source": [
    "op_var = [a,b,c]\n",
    "input = []\n",
    "for var in op_var:\n",
    "    input.append(list(range(var[1])))\n",
    "prods = list(product(*input))"
   ]
  },
  {
   "cell_type": "code",
   "execution_count": null,
   "metadata": {},
   "outputs": [],
   "source": [
    "prods"
   ]
  },
  {
   "cell_type": "code",
   "execution_count": null,
   "metadata": {},
   "outputs": [],
   "source": [
    "converter.mutex_groups"
   ]
  },
  {
   "cell_type": "code",
   "execution_count": null,
   "metadata": {},
   "outputs": [],
   "source": [
    "state_t = converter.generate_state(0)"
   ]
  },
  {
   "cell_type": "code",
   "execution_count": null,
   "metadata": {},
   "outputs": [],
   "source": [
    "state_t"
   ]
  },
  {
   "cell_type": "code",
   "execution_count": null,
   "metadata": {},
   "outputs": [],
   "source": [
    "state = list(converter.vars.keys())"
   ]
  },
  {
   "cell_type": "code",
   "execution_count": null,
   "metadata": {},
   "outputs": [],
   "source": [
    "state"
   ]
  },
  {
   "cell_type": "code",
   "execution_count": null,
   "metadata": {},
   "outputs": [],
   "source": [
    "prods = list(product(*input))"
   ]
  },
  {
   "cell_type": "code",
   "execution_count": null,
   "metadata": {},
   "outputs": [],
   "source": [
    "len(prods)"
   ]
  },
  {
   "cell_type": "code",
   "execution_count": null,
   "metadata": {},
   "outputs": [],
   "source": [
    "values = DiscreteValues()\n",
    "values[]"
   ]
  },
  {
   "cell_type": "code",
   "execution_count": null,
   "metadata": {},
   "outputs": [],
   "source": []
  }
 ],
 "metadata": {
  "kernelspec": {
   "display_name": "Python 3 (ipykernel)",
   "language": "python",
   "name": "python3"
  },
  "language_info": {
   "codemirror_mode": {
    "name": "ipython",
    "version": 3
   },
   "file_extension": ".py",
   "mimetype": "text/x-python",
   "name": "python",
   "nbconvert_exporter": "python",
   "pygments_lexer": "ipython3",
   "version": "3.9.7"
  }
 },
 "nbformat": 4,
 "nbformat_minor": 2
}
