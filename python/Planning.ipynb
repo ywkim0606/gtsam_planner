{
 "cells": [
  {
   "cell_type": "markdown",
   "metadata": {},
   "source": [
    "# Planning Notebook"
   ]
  },
  {
   "cell_type": "code",
   "execution_count": 14,
   "metadata": {},
   "outputs": [],
   "source": [
    "import math\n",
    "import unittest\n",
    "import numpy as np\n",
    "from itertools import product\n",
    "\n",
    "# import gtsam\n",
    "import gtsam\n",
    "from gtsam import *\n",
    "from gtsam.utils.test_case import GtsamTestCase\n",
    "\n",
    "# import gtbook\n",
    "import gtbook\n",
    "from gtbook.display import *\n",
    "from gtbook.discrete import *\n",
    "\n",
    "# import local package\n",
    "import gtsam_example\n",
    "from gtsam_example import SingleValueConstraint\n",
    "\n",
    "# import parser\n",
    "import SASParser\n",
    "from SASParser import SAS, Operator\n",
    "\n",
    "variables = Variables()\n",
    "def pretty(obj): \n",
    "    return gtbook.display.pretty(obj, variables)\n",
    "\n",
    "import graphviz\n",
    "class show(graphviz.Source):\n",
    "    \"\"\" Display an object with a dot method as a graph.\"\"\"\n",
    "\n",
    "    def __init__(self, obj):\n",
    "        \"\"\"Construct from object with 'dot' method.\"\"\"\n",
    "        # This small class takes an object, calls its dot function, and uses the\n",
    "        # resulting string to initialize a graphviz.Source instance. This in turn\n",
    "        # has a _repr_mimebundle_ method, which then renders it in the notebook.\n",
    "        super().__init__(obj.dot())"
   ]
  },
  {
   "cell_type": "code",
   "execution_count": 15,
   "metadata": {},
   "outputs": [],
   "source": [
    "class SASToGTSAM():\n",
    "    def __init__(self, sas):\n",
    "        self.sas = sas\n",
    "        self.init = sas.initial_state\n",
    "        self.goal = sas.goal\n",
    "        self.vars = self.sas.variables\n",
    "        self.ops = self.sas.operators\n",
    "        self.mutex_groups = self.sas.mutex_group\n",
    "        self.ops_names = []\n",
    "        for op in self.ops:\n",
    "            self.ops_names.append(op.name)\n",
    "\n",
    "    def generate_string(self, cardinality, val):\n",
    "        string_list = []\n",
    "        for i in range(cardinality):\n",
    "            string_list.append(\"0\")\n",
    "        string_list[val] = \"1\"\n",
    "        string = ' '.join(string_list)\n",
    "        return string\n",
    "    \n",
    "    def generate_state(self, timestep):\n",
    "        state = []\n",
    "        for var, val in self.vars.items():\n",
    "            state_var = variables.discrete(str(var)+\"_\"+str(timestep), val)\n",
    "            state.append(state_var)\n",
    "        return state\n",
    "    \n",
    "    def generate_operator(self, timestep):\n",
    "        operators = []\n",
    "        for op in self.ops:\n",
    "            op_var = variables.binary(op.name+\"_\"+str(timestep))\n",
    "            operators.append(op_var)\n",
    "        return operators\n",
    "    \n",
    "    def generate_initial_factor(self):\n",
    "        initial_state = self.generate_state(0)\n",
    "        init_f = gtsam.DecisionTreeFactor()\n",
    "        for i, var_val in enumerate(self.init.items()):\n",
    "            single_f = SingleValueConstraint(initial_state[i], var_val[1])\n",
    "            f = single_f.toDecisionTreeFactor()\n",
    "            init_f *= f\n",
    "        return init_f\n",
    "\n",
    "    def generate_goal_factor(self, goal_state):\n",
    "        state = list(self.vars.keys())\n",
    "        goal_f = gtsam.DecisionTreeFactor()\n",
    "        for goal_var, goal_val in self.goal.items():\n",
    "            state_var = goal_state[state.index(goal_var)]\n",
    "            single_f = SingleValueConstraint(state_var, goal_val)\n",
    "            f = single_f.toDecisionTreeFactor()\n",
    "            goal_f *= f\n",
    "        return goal_f\n",
    "\n",
    "    def generate_op_factor(self, state_t, state_tp, op_t, operator):\n",
    "        state = list(self.vars.keys())\n",
    "        preconditions = operator.precondition\n",
    "        effects = operator.effect\n",
    "        prevail = operator.prevail\n",
    "        f = gtsam.DecisionTreeFactor(op_t, self.generate_string(2, 1))\n",
    "        for pre_var, pre_val in preconditions.items():\n",
    "            state_var = state_t[state.index(pre_var)]\n",
    "            cardinality = state_var[1]\n",
    "            state_f = gtsam.DecisionTreeFactor(state_var, self.generate_string(cardinality, pre_val))\n",
    "            f *= state_f\n",
    "        for eff_var, eff_val in effects.items():\n",
    "            state_var = state_tp[state.index(eff_var)]\n",
    "            cardinality = state_var[1]\n",
    "            state_f = gtsam.DecisionTreeFactor(state_var, self.generate_string(cardinality, eff_val))\n",
    "            f *= state_f\n",
    "        if prevail:\n",
    "            for prev_var, prev_val in prevail.items():\n",
    "                state_var_t = state_t[state.index(prev_var)]\n",
    "                state_var_tp = state_tp[state.index(prev_var)]\n",
    "                cardinality = state_var[1]\n",
    "                state_t_f = gtsam.DecisionTreeFactor(state_var_t, self.generate_string(cardinality, prev_val))\n",
    "                state_tp_f = gtsam.DecisionTreeFactor(state_var_tp, self.generate_string(cardinality, prev_val))\n",
    "                f *= state_t_f\n",
    "                f *= state_tp_f\n",
    "        return f\n",
    "\n",
    "    def valid(self, values, mutex):\n",
    "        assert len(values) == len(mutex)\n",
    "        count = 0\n",
    "        for v, m in zip(values, mutex):\n",
    "            if v == m:\n",
    "                count += 1\n",
    "            if count > 1:\n",
    "                return \"0\"\n",
    "        return \"1\"\n",
    "\n",
    "    def generate_mutex_factor(self, state_t):\n",
    "        state = list(self.vars.keys())\n",
    "        mutex_variables = []\n",
    "        mutex_values = []\n",
    "        \n",
    "        for mutex_group in self.mutex_groups:\n",
    "            var_group = []\n",
    "            val_group = []\n",
    "            for var, val in mutex_group:\n",
    "                state_var = state_t[state.index(var)]\n",
    "                var_group.append(state_var)\n",
    "                val_group.append(val)\n",
    "            mutex_variables.append(var_group)\n",
    "            mutex_values.append(val_group)\n",
    "        \n",
    "        f = gtsam.DecisionTreeFactor()\n",
    "        for mutex_var, mutex_val in zip(mutex_variables, mutex_values):\n",
    "            input = []\n",
    "            for var in mutex_var:\n",
    "                input.append(list(range(var[1])))\n",
    "            prods = list(product(*input))\n",
    "            mutex_string_list = []\n",
    "            for prod in prods:\n",
    "                is_valid = self.valid(prod, mutex_val)\n",
    "                mutex_string_list.append(is_valid)\n",
    "            mutex_string = ' '.join(mutex_string_list)\n",
    "            f = f*gtsam.DecisionTreeFactor(mutex_var, mutex_string)\n",
    "        return f"
   ]
  },
  {
   "cell_type": "code",
   "execution_count": 16,
   "metadata": {},
   "outputs": [],
   "source": [
    "sas = SAS()\n",
    "sas_dir = \"sas/block_example.sas\"\n",
    "sas.read_file(sas_dir)\n",
    "converter = SASToGTSAM(sas)"
   ]
  },
  {
   "cell_type": "code",
   "execution_count": 17,
   "metadata": {},
   "outputs": [],
   "source": [
    "def plan(k):\n",
    "    if k < 1:\n",
    "        return \"There should be at least one state\"\n",
    "    states = []\n",
    "    operators = []\n",
    "    mutex_factors = []\n",
    "    op_factors = []\n",
    "    for i in range(k-1):\n",
    "        state_t = converter.generate_state(i)\n",
    "        operators_t = converter.generate_operator(i)\n",
    "        states.append(state_t)\n",
    "        operators.append(operators_t)\n",
    "    last_state = converter.generate_state(k-1)\n",
    "    states.append(last_state)\n",
    "    for j in range(len(states)-1):\n",
    "        mutex_factor = converter.generate_mutex_factor(states[j])\n",
    "        mutex_factors.append(mutex_factor)\n",
    "        for op_t, op in zip(operators[j], converter.ops):\n",
    "            op_factor = converter.generate_op_factor(states[j], states[j+1], op_t, op)\n",
    "            op_factors.append(op_factor)\n",
    "    last_mutex_factor = converter.generate_mutex_factor(states[-1])\n",
    "    mutex_factors.append(last_mutex_factor)\n",
    "    initial_factor = converter.generate_initial_factor()\n",
    "    goal_factor = converter.generate_goal_factor(states[-1])\n",
    "    return states, initial_factor,  goal_factor, mutex_factors, op_factors"
   ]
  },
  {
   "cell_type": "code",
   "execution_count": 18,
   "metadata": {},
   "outputs": [],
   "source": [
    "states, initial_factor,  goal_factor, mutex_factors, op_factors = plan(15)"
   ]
  },
  {
   "cell_type": "code",
   "execution_count": 19,
   "metadata": {},
   "outputs": [],
   "source": [
    "graph = DiscreteFactorGraph()"
   ]
  },
  {
   "cell_type": "code",
   "execution_count": 20,
   "metadata": {},
   "outputs": [],
   "source": [
    "for mutex_factor in mutex_factors:\n",
    "    graph.push_back(mutex_factor)"
   ]
  },
  {
   "cell_type": "code",
   "execution_count": 21,
   "metadata": {},
   "outputs": [],
   "source": [
    "for op_factor in op_factors:\n",
    "    graph.push_back(op_factor)"
   ]
  },
  {
   "cell_type": "code",
   "execution_count": 22,
   "metadata": {},
   "outputs": [],
   "source": [
    "graph.push_back(goal_factor)\n",
    "graph.push_back(initial_factor)"
   ]
  },
  {
   "cell_type": "code",
   "execution_count": 24,
   "metadata": {},
   "outputs": [],
   "source": [
    "val = graph.optimize()"
   ]
  },
  {
   "cell_type": "code",
   "execution_count": 25,
   "metadata": {},
   "outputs": [
    {
     "data": {
      "text/plain": [
       "0.0"
      ]
     },
     "execution_count": 25,
     "metadata": {},
     "output_type": "execute_result"
    }
   ],
   "source": [
    "graph(val)"
   ]
  },
  {
   "cell_type": "code",
   "execution_count": null,
   "metadata": {},
   "outputs": [],
   "source": []
  }
 ],
 "metadata": {
  "kernelspec": {
   "display_name": "Python 3 (ipykernel)",
   "language": "python",
   "name": "python3"
  },
  "language_info": {
   "codemirror_mode": {
    "name": "ipython",
    "version": 3
   },
   "file_extension": ".py",
   "mimetype": "text/x-python",
   "name": "python",
   "nbconvert_exporter": "python",
   "pygments_lexer": "ipython3",
   "version": "3.9.7"
  }
 },
 "nbformat": 4,
 "nbformat_minor": 2
}
