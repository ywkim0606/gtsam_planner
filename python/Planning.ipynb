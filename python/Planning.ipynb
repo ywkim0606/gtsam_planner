{
 "cells": [
  {
   "cell_type": "markdown",
   "metadata": {},
   "source": [
    "# Planning Notebook"
   ]
  },
  {
   "cell_type": "code",
   "execution_count": 1,
   "metadata": {},
   "outputs": [],
   "source": [
    "import math\n",
    "import unittest\n",
    "import numpy as np\n",
    "from itertools import product\n",
    "import tqdm\n",
    "from tqdm import tqdm_notebook\n",
    "\n",
    "# import gtsam\n",
    "import gtsam\n",
    "from gtsam import *\n",
    "from gtsam.utils.test_case import GtsamTestCase\n",
    "\n",
    "# import gtbook\n",
    "import gtbook\n",
    "from gtbook.display import *\n",
    "from gtbook.discrete import *\n",
    "\n",
    "# import local package\n",
    "import gtsam_planner\n",
    "from gtsam_planner import *\n",
    "\n",
    "# import parser\n",
    "import SASParser\n",
    "from SASParser import SAS, Operator\n",
    "\n",
    "variables = Variables()\n",
    "def pretty(obj): \n",
    "    return gtbook.display.pretty(obj, variables)\n",
    "\n",
    "import graphviz\n",
    "class show(graphviz.Source):\n",
    "    \"\"\" Display an object with a dot method as a graph.\"\"\"\n",
    "\n",
    "    def __init__(self, obj):\n",
    "        \"\"\"Construct from object with 'dot' method.\"\"\"\n",
    "        # This small class takes an object, calls its dot function, and uses the\n",
    "        # resulting string to initialize a graphviz.Source instance. This in turn\n",
    "        # has a _repr_mimebundle_ method, which then renders it in the notebook.\n",
    "        super().__init__(obj.dot())"
   ]
  },
  {
   "cell_type": "code",
   "execution_count": 2,
   "metadata": {},
   "outputs": [],
   "source": [
    "class SASToGTSAM():\n",
    "    def __init__(self, sas):\n",
    "        self.sas = sas\n",
    "        self.init = sas.initial_state\n",
    "        self.goal = sas.goal\n",
    "        self.vars = self.sas.variables\n",
    "        self.ops = self.sas.operators\n",
    "        self.mutex_groups = self.sas.mutex_group\n",
    "        # self.ops_names = [\"null\"]\n",
    "        self.ops_names = []\n",
    "        for op in self.ops:\n",
    "            self.ops_names.append(op.name)\n",
    "    \n",
    "    def generate_state(self, timestep):\n",
    "        state = []\n",
    "        for var, val in self.vars.items():\n",
    "            state_var = variables.discrete(str(var)+\"_\"+str(timestep), val)\n",
    "            state.append(state_var)\n",
    "        return state\n",
    "    \n",
    "    def generate_operator_key(self, timestep):\n",
    "        op_var = variables.discrete(\"op_\"+str(timestep), self.ops_names)\n",
    "        return op_var\n",
    "    \n",
    "    def generate_initial_factor(self, initial_state):\n",
    "        keys = gtsam.DiscreteKeys()\n",
    "        for key in initial_state:\n",
    "            keys.push_back(key)\n",
    "        init_values = list(self.init.values())\n",
    "        init_f = gtsam_planner.MultiValueConstraint(keys, init_values)\n",
    "        return init_f\n",
    "\n",
    "    def generate_goal_factor(self, goal_state):\n",
    "        state = list(self.vars.keys())\n",
    "        keys = gtsam.DiscreteKeys()\n",
    "        vals = []\n",
    "        for goal_var, goal_val in self.goal.items():\n",
    "            keys.push_back(goal_state[state.index(goal_var)])\n",
    "            vals.append(goal_val)\n",
    "        goal_f = gtsam_planner.MultiValueConstraint(keys, vals)\n",
    "        return goal_f\n",
    "    \n",
    "    def generate_op_constraint(self, state_t, state_tp, operator):\n",
    "        state = list(self.vars.keys())\n",
    "        keys = gtsam.DiscreteKeys()\n",
    "        vals = []\n",
    "        for pre_var, pre_val in operator.precondition.items():\n",
    "            if pre_val == -1:\n",
    "                continue\n",
    "            keys.push_back(state_t[state.index(pre_var)])\n",
    "            vals.append(pre_val)\n",
    "        \n",
    "        for eff_var, eff_val in operator.effect.items():\n",
    "            if eff_val == -1:\n",
    "                continue\n",
    "            keys.push_back(state_tp[state.index(eff_var)])\n",
    "            vals.append(eff_val)\n",
    "        \n",
    "        op_f = gtsam_planner.MultiValueConstraint(keys, vals)\n",
    "        return op_f\n",
    "    \n",
    "    def generate_null_constraint(self, state_t, state_tp):\n",
    "        \"\"\"\n",
    "        true if state_t and state_tp is same\n",
    "        false otherwise\n",
    "        \"\"\"\n",
    "        keys = gtsam.DiscreteKeys()\n",
    "        for key in (state_t+state_tp):\n",
    "            keys.push_back(key)\n",
    "        null_constraint = gtsam_planner.NullOperatorConstraint(keys)\n",
    "        return null_constraint        \n",
    "\n",
    "    def generate_mutex_factor(self, state_t):\n",
    "        state = list(self.vars.keys())\n",
    "        mutex_variables = []\n",
    "        mutex_values = []\n",
    "        \n",
    "        for mutex_group in self.mutex_groups:\n",
    "            var_group = []\n",
    "            val_group = []\n",
    "            for var, val in mutex_group:\n",
    "                state_var = state_t[state.index(var)]\n",
    "                var_group.append(state_var)\n",
    "                val_group.append(val)\n",
    "            mutex_variables.append(var_group)\n",
    "            mutex_values.append(val_group)\n",
    "        \n",
    "        factors = []\n",
    "        for mutex_var, mutex_val in zip(mutex_variables, mutex_values):\n",
    "            keys = gtsam.DiscreteKeys()\n",
    "            for var in mutex_var:\n",
    "                keys.push_back(var)\n",
    "            mutex = gtsam_planner.MutexConstraint(keys, mutex_val)\n",
    "            factors.append(mutex)\n",
    "        return factors\n",
    "    \n",
    "    def generate_op_factor(self, state_t, state_tp, op_key):\n",
    "        op_consts = []\n",
    "        for op in self.ops:\n",
    "            op_const = self.generate_op_constraint(state_t, state_tp, op)\n",
    "            op_consts.append(op_const)\n",
    "        keys = gtsam.DiscreteKeys()\n",
    "        for key in state_t + state_tp:\n",
    "            keys.push_back(key)\n",
    "        keys.push_back(op_key)\n",
    "        op_factor = gtsam_planner.OperatorConstraint(keys, op_consts)\n",
    "        return op_factor"
   ]
  },
  {
   "cell_type": "code",
   "execution_count": 3,
   "metadata": {},
   "outputs": [],
   "source": [
    "sas = SAS()\n",
    "sas_dir = \"sas/block_example.sas\"\n",
    "sas.read_file(sas_dir)\n",
    "converter = SASToGTSAM(sas)"
   ]
  },
  {
   "cell_type": "code",
   "execution_count": 4,
   "metadata": {},
   "outputs": [
    {
     "data": {
      "text/plain": [
       "(0, 32)"
      ]
     },
     "execution_count": 4,
     "metadata": {},
     "output_type": "execute_result"
    }
   ],
   "source": [
    "converter.generate_operator_key(0)"
   ]
  },
  {
   "cell_type": "code",
   "execution_count": 5,
   "metadata": {},
   "outputs": [],
   "source": [
    "# state_t = [(2, 2), (3, 2), (4, 4)]\n",
    "# state_tp = [(5, 2), (6, 2), (7, 4)]\n",
    "# null_constraint = converter.generate_op_factor(state_t, state_tp)"
   ]
  },
  {
   "cell_type": "code",
   "execution_count": 6,
   "metadata": {},
   "outputs": [],
   "source": [
    "# tree = null_constraint.toDecisionTreeFactor()"
   ]
  },
  {
   "cell_type": "code",
   "execution_count": 7,
   "metadata": {},
   "outputs": [],
   "source": [
    "# show(tree)"
   ]
  },
  {
   "cell_type": "code",
   "execution_count": 8,
   "metadata": {},
   "outputs": [],
   "source": [
    "class TestSASToGTSAM(GtsamTestCase):\n",
    "    \"\"\"Tests for Single Value Constraints\"\"\"\n",
    "\n",
    "    def setUp(self):\n",
    "        sas = SAS()\n",
    "        sas_dir = \"sas/block_example.sas\"\n",
    "        sas.read_file(sas_dir)\n",
    "        self.converter = SASToGTSAM(sas)\n",
    "        self.init_state = self.converter.generate_state(0)\n",
    "        self.next_state = self.converter.generate_state(1)\n",
    "        self.op_key = self.converter.generate_operator_key(0)\n",
    "\n",
    "        input = []\n",
    "        for _, vars in self.converter.vars.items():\n",
    "            input.append(list(range(len(vars))))\n",
    "        # tried this but this crashes the kernel\n",
    "        # for _, vars in self.converter.vars.items():\n",
    "        #     input.append(list(range(len(vars))))\n",
    "        self.prods = list(product(*input))\n",
    "    \n",
    "    def createVal(self, states, prod):\n",
    "        values = gtsam.DiscreteValues()\n",
    "        for state, val in zip(states, prod):\n",
    "            values[state[0]] = val\n",
    "        return values\n",
    "\n",
    "    def createOperatorVal(self, state1, state2, op):\n",
    "        state = list(converter.vars.keys())\n",
    "        values = gtsam.DiscreteValues()\n",
    "        for var, val in op.precondition.items():\n",
    "            if val == -1:\n",
    "                continue\n",
    "            values[state1[state.index(var)][0]] = val\n",
    "        for var, val in op.effect.items():\n",
    "            if val == -1:\n",
    "                continue\n",
    "            values[state2[state.index(var)][0]] = val\n",
    "        return values\n",
    "    \n",
    "    def valid(self, prod, mutex_group):\n",
    "        count = 0\n",
    "        for var, val in mutex_group:\n",
    "            if prod[var] == val:\n",
    "                count += 1\n",
    "            if count > 1:\n",
    "                return 0.0\n",
    "        return 1.0\n",
    "\n",
    "    def test_generateState(self):\n",
    "        assert len(self.init_state) == 9\n",
    "\n",
    "    def test_generateOperatorState(self):\n",
    "        # there are 32 possible operators\n",
    "        assert self.op_key[1] == 32\n",
    "\n",
    "    def test_generateInitial(self):\n",
    "        state = list(converter.vars.keys())\n",
    "        initial_factor = self.converter.generate_initial_factor(self.init_state)\n",
    "        total = 0.0\n",
    "        for prod in self.prods:\n",
    "            values = self.createVal(self.init_state, prod)\n",
    "            output = initial_factor(values)\n",
    "            if output == 1:\n",
    "                for var, val in self.converter.init.items():\n",
    "                    assert values[self.init_state[state.index(var)][0]] == val\n",
    "            total += output\n",
    "        assert total == 1\n",
    "\n",
    "    def test_generateGoal(self):\n",
    "        state = list(converter.vars.keys())\n",
    "        goal_factor = self.converter.generate_goal_factor(self.next_state)\n",
    "        total = 0.0\n",
    "        for prod in self.prods:\n",
    "            values = self.createVal(self.next_state, prod)\n",
    "            output = goal_factor(values)\n",
    "            if output == 1:\n",
    "                for var, val in self.converter.goal.items():\n",
    "                    assert values[self.next_state[state.index(var)][0]] == val\n",
    "            total += output\n",
    "        assert total > 1\n",
    "\n",
    "    def test_generateOperatorConstraint(self):\n",
    "        for operator in converter.ops:\n",
    "            op_factor = self.converter.generate_op_constraint(self.init_state, self.next_state, operator)\n",
    "            values = self.createOperatorVal(self.init_state, self.next_state, operator)\n",
    "            assert op_factor(values) == 1.0\n",
    "    \n",
    "    # def test_generateMutex(self):\n",
    "    #     mutex_factors = self.converter.generate_mutex_factor(self.init_state)\n",
    "    #     for prod in tqdm_notebook(self.prods, desc='possible states'):\n",
    "    #         for mutex_factor, mutex_group in zip(mutex_factors, converter.mutex_groups):\n",
    "    #             check_valid = self.valid(prod, mutex_group)\n",
    "    #             values = self.createVal(self.init_state, prod)\n",
    "    #             factor_valid = mutex_factor(values)\n",
    "    #             tree_factor = mutex_factor.toDecisionTreeFactor()\n",
    "    #             tree_valid = tree_factor(values)\n",
    "    #             assert tree_valid == factor_valid == check_valid\n",
    "\n",
    "    # def test_generateOperatorFactor(self):\n",
    "        "
   ]
  },
  {
   "cell_type": "code",
   "execution_count": 9,
   "metadata": {},
   "outputs": [],
   "source": [
    "# unittest.main(argv=[''], verbosity=2, exit=False)"
   ]
  },
  {
   "cell_type": "code",
   "execution_count": 10,
   "metadata": {},
   "outputs": [],
   "source": [
    "# state_t = converter.generate_state(0)\n",
    "# op_t = converter.generate_operator(0)\n",
    "# state_tp = converter.generate_state(0)"
   ]
  },
  {
   "cell_type": "code",
   "execution_count": 11,
   "metadata": {},
   "outputs": [],
   "source": [
    "# def plan(k):\n",
    "#     states = []\n",
    "#     operators = []\n",
    "#     mutex_factors = []\n",
    "#     op_factors = []\n",
    "#     for i in range(k):\n",
    "#         # generate state\n",
    "#         state_t = converter.generate_state(i)\n",
    "#         # generate mutex factor for the state\n",
    "#         mutex_factor = converter.generate_mutex_factor(state_t)\n",
    "#         mutex_factors.append(mutex_factor)\n",
    "#         # generate binary key indicating if operator satisfies all preconditions and effects\n",
    "#         operators_t = converter.generate_operator(i)\n",
    "#         states.append(state_t)\n",
    "#         operators.append(operators_t)\n",
    "#     last_state = converter.generate_state(k)\n",
    "#     mutex_factor = converter.generate_mutex_factor(last_state)\n",
    "#     mutex_factors.append(mutex_factor)\n",
    "#     states.append(last_state)\n",
    "\n",
    "#     for j in range(len(states)-1):\n",
    "#         op_group = []\n",
    "#         for op_t, op in zip(operators[j], converter.ops):\n",
    "#             op_factor = converter.generate_op_factor(states[j], states[j+1], op_t, op)\n",
    "#             op_group.append(op_factor)\n",
    "#         op_factor = OrConstraint(op_group)\n",
    "#         op_factors.append(op_factor)\n",
    "\n",
    "#     initial_factor = converter.generate_initial_factor()\n",
    "#     goal_factor = converter.generate_goal_factor(states[-1])\n",
    "#     return states, initial_factor,  goal_factor, mutex_factors, op_factors"
   ]
  },
  {
   "cell_type": "code",
   "execution_count": 12,
   "metadata": {},
   "outputs": [],
   "source": [
    "# states, initial_factor,  goal_factor, mutex_factors, op_factors = plan(7)"
   ]
  },
  {
   "cell_type": "code",
   "execution_count": 13,
   "metadata": {},
   "outputs": [],
   "source": [
    "k = 2\n",
    "states = []\n",
    "mutex_factors = []\n",
    "op_factors = []\n",
    "for i in range(k):\n",
    "    # generate state\n",
    "    state = converter.generate_state(i)\n",
    "    states.append(state)\n",
    "    # generate factorized mutex group for the state\n",
    "    mutex_group = converter.generate_mutex_factor(state)\n",
    "    mutex_factors.append(mutex_group)"
   ]
  },
  {
   "cell_type": "code",
   "execution_count": 14,
   "metadata": {},
   "outputs": [],
   "source": [
    "for j in range(len(states)-1):\n",
    "    operators_t = converter.generate_operator_key(j)\n",
    "    op_factor = converter.generate_op_factor(states[j], states[j+1], operators_t)\n",
    "    op_factors.append(op_factor)\n",
    "initial_factor = converter.generate_initial_factor(states[0])\n",
    "goal_factor = converter.generate_goal_factor(states[-1])"
   ]
  },
  {
   "cell_type": "code",
   "execution_count": 15,
   "metadata": {},
   "outputs": [],
   "source": [
    "op_f = op_factors[0]"
   ]
  },
  {
   "cell_type": "code",
   "execution_count": 16,
   "metadata": {},
   "outputs": [
    {
     "ename": "ValueError",
     "evalue": "DecisionTreeFactor::combine: invalid number of frontal keys 19, nr.keys=0",
     "output_type": "error",
     "traceback": [
      "\u001b[0;31m---------------------------------------------------------------------------\u001b[0m",
      "\u001b[0;31mValueError\u001b[0m                                Traceback (most recent call last)",
      "\u001b[0;32m/tmp/ipykernel_365047/3270596053.py\u001b[0m in \u001b[0;36m<module>\u001b[0;34m\u001b[0m\n\u001b[0;32m----> 1\u001b[0;31m \u001b[0mtree\u001b[0m \u001b[0;34m=\u001b[0m \u001b[0mop_f\u001b[0m\u001b[0;34m.\u001b[0m\u001b[0mtoDecisionTreeFactor\u001b[0m\u001b[0;34m(\u001b[0m\u001b[0;34m)\u001b[0m\u001b[0;34m\u001b[0m\u001b[0;34m\u001b[0m\u001b[0m\n\u001b[0m",
      "\u001b[0;31mValueError\u001b[0m: DecisionTreeFactor::combine: invalid number of frontal keys 19, nr.keys=0"
     ]
    }
   ],
   "source": [
    "tree = op_f.toDecisionTreeFactor()"
   ]
  },
  {
   "cell_type": "code",
   "execution_count": 17,
   "metadata": {},
   "outputs": [
    {
     "data": {
      "image/svg+xml": "<?xml version=\"1.0\" encoding=\"UTF-8\" standalone=\"no\"?>\n<!DOCTYPE svg PUBLIC \"-//W3C//DTD SVG 1.1//EN\"\n \"http://www.w3.org/Graphics/SVG/1.1/DTD/svg11.dtd\">\n<!-- Generated by graphviz version 2.43.0 (0)\n -->\n<!-- Title: G Pages: 1 -->\n<svg width=\"62pt\" height=\"33pt\"\n viewBox=\"0.00 0.00 62.00 33.00\" xmlns=\"http://www.w3.org/2000/svg\" xmlns:xlink=\"http://www.w3.org/1999/xlink\">\n<g id=\"graph0\" class=\"graph\" transform=\"scale(1 1) rotate(0) translate(4 29)\">\n<title>G</title>\n<polygon fill=\"white\" stroke=\"transparent\" points=\"-4,4 -4,-29 58,-29 58,4 -4,4\"/>\n<!-- 0x555842f54fd0 -->\n<g id=\"node1\" class=\"node\">\n<title>0x555842f54fd0</title>\n<polygon fill=\"none\" stroke=\"black\" points=\"54,-25 0,-25 0,0 54,0 54,-25\"/>\n<text text-anchor=\"middle\" x=\"27\" y=\"-8.8\" font-family=\"Times,serif\" font-size=\"14.00\"> &#160;&#160;1</text>\n</g>\n</g>\n</svg>\n",
      "text/plain": [
       "<__main__.show at 0x7f3e3b920100>"
      ]
     },
     "execution_count": 17,
     "metadata": {},
     "output_type": "execute_result"
    }
   ],
   "source": [
    "show(tree)"
   ]
  },
  {
   "cell_type": "code",
   "execution_count": 29,
   "metadata": {},
   "outputs": [],
   "source": [
    "# k = 2\n",
    "# states = []\n",
    "# operators = []\n",
    "# mutex_factors = []\n",
    "# op_factors = []\n",
    "# for i in range(k):\n",
    "#     # generate state\n",
    "#     state_t = converter.generate_state(i)\n",
    "#     # generate mutex factor for the state\n",
    "#     mutex_factor = converter.generate_mutex_factor(state_t)\n",
    "#     mutex_factors.append(mutex_factor)\n",
    "#     # generate binary key indicating if operator satisfies all preconditions and effects\n",
    "#     operators_t = converter.generate_operator(i)\n",
    "#     states.append(state_t)\n",
    "#     operators.append(operators_t)\n",
    "# last_state = converter.generate_state(k)\n",
    "# mutex_factor = converter.generate_mutex_factor(last_state)\n",
    "# mutex_factors.append(mutex_factor)\n",
    "# states.append(last_state)"
   ]
  },
  {
   "cell_type": "code",
   "execution_count": 30,
   "metadata": {},
   "outputs": [],
   "source": [
    "# for j in range(len(states)-1):\n",
    "#     op_group = []\n",
    "#     for op in converter.ops:\n",
    "#         op_factor = converter.generate_op_factor(states[j], states[j+1], op)\n",
    "#         op_group.append(op_factor)\n",
    "#     op_factor = OperatorConstraint(operators[j], op_group)\n",
    "#     op_factors.append(op_factor)\n",
    "\n",
    "# initial_factor = converter.generate_initial_factor(states[0])\n",
    "# goal_factor = converter.generate_goal_factor(states[-1])"
   ]
  },
  {
   "cell_type": "code",
   "execution_count": 31,
   "metadata": {},
   "outputs": [],
   "source": [
    "# values = gtsam.DiscreteValues()\n",
    "# values[0] = 4\n",
    "# values[1] = 0\n",
    "# values[2] = 0\n",
    "# values[3] = 0\n",
    "# values[4] = 0\n",
    "# values[5] = 0\n",
    "# values[6] = 4\n",
    "# values[7] = 4\n",
    "# values[8] = 4\n",
    "# #--------------\n",
    "# values[9] = 4\n",
    "# values[10] = 0\n",
    "# values[11] = 1\n",
    "# values[12] = 0\n",
    "# values[13] = 0\n",
    "# values[14] = 1\n",
    "# values[15] = 0\n",
    "# values[16] = 4\n",
    "# values[17] = 4\n",
    "# #--------------\n",
    "# values[18] = 1"
   ]
  },
  {
   "cell_type": "code",
   "execution_count": 109,
   "metadata": {},
   "outputs": [],
   "source": [
    "graph = gtsam.DiscreteFactorGraph()"
   ]
  },
  {
   "cell_type": "code",
   "execution_count": 110,
   "metadata": {},
   "outputs": [],
   "source": [
    "for m_factor in mutex_factors:\n",
    "    for f in m_factor:\n",
    "        graph.push_back(f)"
   ]
  },
  {
   "cell_type": "code",
   "execution_count": 111,
   "metadata": {},
   "outputs": [],
   "source": [
    "for op_factor in op_factors:\n",
    "    graph.push_back(op_factor)"
   ]
  },
  {
   "cell_type": "code",
   "execution_count": 112,
   "metadata": {},
   "outputs": [],
   "source": [
    "graph.push_back(goal_factor)\n",
    "graph.push_back(initial_factor)"
   ]
  },
  {
   "cell_type": "code",
   "execution_count": 113,
   "metadata": {},
   "outputs": [
    {
     "name": "stdout",
     "output_type": "stream",
     "text": [
      "\n",
      "size: 43\n",
      "factor 0: MutexConstraint on 2 1 7 8 9 \n",
      "factor 1: MutexConstraint on 3 1 7 8 9 \n",
      "factor 2: MutexConstraint on 4 1 7 8 9 \n",
      "factor 3: MutexConstraint on 5 1 7 8 9 \n",
      "factor 4: MutexConstraint on 6 1 7 8 9 \n",
      "factor 5: MutexConstraint on 11 10 16 17 18 \n",
      "factor 6: MutexConstraint on 12 10 16 17 18 \n",
      "factor 7: MutexConstraint on 13 10 16 17 18 \n",
      "factor 8: MutexConstraint on 14 10 16 17 18 \n",
      "factor 9: MutexConstraint on 15 10 16 17 18 \n",
      "factor 10: MutexConstraint on 20 19 25 26 27 \n",
      "factor 11: MutexConstraint on 21 19 25 26 27 \n",
      "factor 12: MutexConstraint on 22 19 25 26 27 \n",
      "factor 13: MutexConstraint on 23 19 25 26 27 \n",
      "factor 14: MutexConstraint on 24 19 25 26 27 \n",
      "factor 15: MutexConstraint on 29 28 34 35 36 \n",
      "factor 16: MutexConstraint on 30 28 34 35 36 \n",
      "factor 17: MutexConstraint on 31 28 34 35 36 \n",
      "factor 18: MutexConstraint on 32 28 34 35 36 \n",
      "factor 19: MutexConstraint on 33 28 34 35 36 \n",
      "factor 20: MutexConstraint on 38 37 43 44 45 \n",
      "factor 21: MutexConstraint on 39 37 43 44 45 \n",
      "factor 22: MutexConstraint on 40 37 43 44 45 \n",
      "factor 23: MutexConstraint on 41 37 43 44 45 \n",
      "factor 24: MutexConstraint on 42 37 43 44 45 \n",
      "factor 25: MutexConstraint on 47 46 52 53 54 \n",
      "factor 26: MutexConstraint on 48 46 52 53 54 \n",
      "factor 27: MutexConstraint on 49 46 52 53 54 \n",
      "factor 28: MutexConstraint on 50 46 52 53 54 \n",
      "factor 29: MutexConstraint on 51 46 52 53 54 \n",
      "factor 30: MutexConstraint on 56 55 61 62 63 \n",
      "factor 31: MutexConstraint on 57 55 61 62 63 \n",
      "factor 32: MutexConstraint on 58 55 61 62 63 \n",
      "factor 33: MutexConstraint on 59 55 61 62 63 \n",
      "factor 34: MutexConstraint on 60 55 61 62 63 \n",
      "factor 35: OperatorConstraint on 64\n",
      "factor 36: OperatorConstraint on 65\n",
      "factor 37: OperatorConstraint on 66\n",
      "factor 38: OperatorConstraint on 67\n",
      "factor 39: OperatorConstraint on 68\n",
      "factor 40: OperatorConstraint on 69\n",
      "factor 41: MultiValueConstraint on 61 62 63 \n",
      "factor 42: MultiValueConstraint on 1 2 3 4 5 6 7 8 9 \n"
     ]
    }
   ],
   "source": [
    "graph.print()"
   ]
  },
  {
   "cell_type": "code",
   "execution_count": 114,
   "metadata": {},
   "outputs": [],
   "source": [
    "val = graph.optimize()"
   ]
  },
  {
   "cell_type": "code",
   "execution_count": 115,
   "metadata": {},
   "outputs": [],
   "source": [
    "op_list = [val[64], val[65], val[66], val[67], val[68], val[69]]"
   ]
  },
  {
   "cell_type": "code",
   "execution_count": 116,
   "metadata": {},
   "outputs": [
    {
     "name": "stdout",
     "output_type": "stream",
     "text": [
      "pick-up c\n",
      "put-down c\n",
      "pick-up c\n",
      "put-down c\n",
      "pick-up d\n",
      "stack d c\n"
     ]
    }
   ],
   "source": [
    "for op in op_list:\n",
    "    print(converter.ops_names[op])"
   ]
  },
  {
   "cell_type": "code",
   "execution_count": 117,
   "metadata": {},
   "outputs": [
    {
     "data": {
      "text/plain": [
       "1.0"
      ]
     },
     "execution_count": 117,
     "metadata": {},
     "output_type": "execute_result"
    }
   ],
   "source": [
    "graph(val)"
   ]
  },
  {
   "cell_type": "code",
   "execution_count": null,
   "metadata": {},
   "outputs": [],
   "source": []
  }
 ],
 "metadata": {
  "kernelspec": {
   "display_name": "Python 3 (ipykernel)",
   "language": "python",
   "name": "python3"
  },
  "language_info": {
   "codemirror_mode": {
    "name": "ipython",
    "version": 3
   },
   "file_extension": ".py",
   "mimetype": "text/x-python",
   "name": "python",
   "nbconvert_exporter": "python",
   "pygments_lexer": "ipython3",
   "version": "3.9.7"
  }
 },
 "nbformat": 4,
 "nbformat_minor": 2
}
