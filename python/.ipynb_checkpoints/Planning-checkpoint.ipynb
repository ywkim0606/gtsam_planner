{
 "cells": [
  {
   "cell_type": "markdown",
   "metadata": {},
   "source": [
    "# Planning Notebook"
   ]
  },
  {
   "cell_type": "code",
   "execution_count": 68,
   "metadata": {},
   "outputs": [],
   "source": [
    "import math\n",
    "import unittest\n",
    "import numpy as np\n",
    "\n",
    "# import gtsam\n",
    "import gtsam\n",
    "from gtsam import *\n",
    "from gtsam.utils.test_case import GtsamTestCase\n",
    "\n",
    "# import gtbook\n",
    "import gtbook\n",
    "from gtbook.display import *\n",
    "from gtbook.discrete import *\n",
    "\n",
    "# import local package\n",
    "import gtsam_example\n",
    "from gtsam_example import SingleValueConstraint\n",
    "\n",
    "# import parser\n",
    "import SASParser\n",
    "from SASParser import SAS, Operator\n",
    "\n",
    "variables = Variables()\n",
    "def pretty(obj): \n",
    "    return gtbook.display.pretty(obj, variables)\n",
    "\n",
    "import graphviz\n",
    "class show(graphviz.Source):\n",
    "    \"\"\" Display an object with a dot method as a graph.\"\"\"\n",
    "\n",
    "    def __init__(self, obj):\n",
    "        \"\"\"Construct from object with 'dot' method.\"\"\"\n",
    "        # This small class takes an object, calls its dot function, and uses the\n",
    "        # resulting string to initialize a graphviz.Source instance. This in turn\n",
    "        # has a _repr_mimebundle_ method, which then renders it in the notebook.\n",
    "        super().__init__(obj.dot())"
   ]
  },
  {
   "cell_type": "code",
   "execution_count": 53,
   "metadata": {},
   "outputs": [],
   "source": [
    "# class Planner():\n",
    "#     def __init__(self, sas, sas_dir):\n",
    "#         self.sas = sas.read_file(sas_dir)"
   ]
  },
  {
   "cell_type": "code",
   "execution_count": 54,
   "metadata": {},
   "outputs": [],
   "source": [
    "output_dir = \"sas/block_example.sas\"\n",
    "sas = SAS()\n",
    "sas.read_file(output_dir)"
   ]
  },
  {
   "cell_type": "code",
   "execution_count": 55,
   "metadata": {},
   "outputs": [],
   "source": [
    "def generate_state(vars, timestep):\n",
    "    state = []\n",
    "    for var, val in vars.items():\n",
    "        state_var = variables.discrete(str(var)+\"_\"+str(timestep), val)\n",
    "        state.append(state_var)\n",
    "    return state"
   ]
  },
  {
   "cell_type": "code",
   "execution_count": 56,
   "metadata": {},
   "outputs": [],
   "source": [
    "def generate_operator(ops, timestep):\n",
    "    operators = []\n",
    "    for op in ops:\n",
    "        op_var = variables.binary(op.name+\"_\"+str(timestep))\n",
    "        operators.append(op_var)\n",
    "    return operators"
   ]
  },
  {
   "cell_type": "code",
   "execution_count": 57,
   "metadata": {},
   "outputs": [],
   "source": [
    "vars = sas.variables\n",
    "ops = sas.operators\n",
    "ops_names = []\n",
    "for op in ops:\n",
    "    ops_names.append(op.name)\n"
   ]
  },
  {
   "cell_type": "code",
   "execution_count": 58,
   "metadata": {},
   "outputs": [
    {
     "data": {
      "text/plain": [
       "['pick-up a',\n",
       " 'pick-up b',\n",
       " 'pick-up c',\n",
       " 'pick-up d',\n",
       " 'put-down a',\n",
       " 'put-down b',\n",
       " 'put-down c',\n",
       " 'put-down d',\n",
       " 'stack a b',\n",
       " 'stack a c',\n",
       " 'stack a d',\n",
       " 'stack b a',\n",
       " 'stack b c',\n",
       " 'stack b d',\n",
       " 'stack c a',\n",
       " 'stack c b',\n",
       " 'stack c d',\n",
       " 'stack d a',\n",
       " 'stack d b',\n",
       " 'stack d c',\n",
       " 'unstack a b',\n",
       " 'unstack a c',\n",
       " 'unstack a d',\n",
       " 'unstack b a',\n",
       " 'unstack b c',\n",
       " 'unstack b d',\n",
       " 'unstack c a',\n",
       " 'unstack c b',\n",
       " 'unstack c d',\n",
       " 'unstack d a',\n",
       " 'unstack d b',\n",
       " 'unstack d c']"
      ]
     },
     "execution_count": 58,
     "metadata": {},
     "output_type": "execute_result"
    }
   ],
   "source": [
    "ops_names"
   ]
  },
  {
   "cell_type": "code",
   "execution_count": 59,
   "metadata": {},
   "outputs": [
    {
     "data": {
      "text/plain": [
       "{0: ['Atom holding(a)',\n",
       "  'Atom on(a, b)',\n",
       "  'Atom on(a, c)',\n",
       "  'Atom on(a, d)',\n",
       "  'Atom ontable(a)'],\n",
       " 1: ['Atom clear(a)', 'NegatedAtom clear(a)'],\n",
       " 2: ['Atom clear(b)', 'NegatedAtom clear(b)'],\n",
       " 3: ['Atom clear(c)', 'NegatedAtom clear(c)'],\n",
       " 4: ['Atom clear(d)', 'NegatedAtom clear(d)'],\n",
       " 5: ['Atom handempty()', 'NegatedAtom handempty()'],\n",
       " 6: ['Atom holding(b)',\n",
       "  'Atom on(b, a)',\n",
       "  'Atom on(b, c)',\n",
       "  'Atom on(b, d)',\n",
       "  'Atom ontable(b)'],\n",
       " 7: ['Atom holding(c)',\n",
       "  'Atom on(c, a)',\n",
       "  'Atom on(c, b)',\n",
       "  'Atom on(c, d)',\n",
       "  'Atom ontable(c)'],\n",
       " 8: ['Atom holding(d)',\n",
       "  'Atom on(d, a)',\n",
       "  'Atom on(d, b)',\n",
       "  'Atom on(d, c)',\n",
       "  'Atom ontable(d)']}"
      ]
     },
     "execution_count": 59,
     "metadata": {},
     "output_type": "execute_result"
    }
   ],
   "source": [
    "vars"
   ]
  },
  {
   "cell_type": "code",
   "execution_count": 60,
   "metadata": {},
   "outputs": [],
   "source": [
    "gen_state = generate_state(vars, 0)\n",
    "gen_ops = generate_operator(ops, 0)"
   ]
  },
  {
   "cell_type": "code",
   "execution_count": 61,
   "metadata": {},
   "outputs": [
    {
     "data": {
      "text/plain": [
       "[(0, 5), (1, 2), (2, 2), (3, 2), (4, 2), (5, 2), (6, 5), (7, 5), (8, 5)]"
      ]
     },
     "execution_count": 61,
     "metadata": {},
     "output_type": "execute_result"
    }
   ],
   "source": [
    "gen_state"
   ]
  },
  {
   "cell_type": "code",
   "execution_count": 62,
   "metadata": {},
   "outputs": [
    {
     "name": "stdout",
     "output_type": "stream",
     "text": [
      "0\n",
      "1\n",
      "2\n",
      "3\n",
      "4\n",
      "5\n",
      "6\n",
      "7\n",
      "8\n"
     ]
    }
   ],
   "source": [
    "for key, val in gen_state:\n",
    "    print(key)"
   ]
  },
  {
   "cell_type": "code",
   "execution_count": 63,
   "metadata": {},
   "outputs": [],
   "source": [
    "op = ops[0]"
   ]
  },
  {
   "cell_type": "code",
   "execution_count": 64,
   "metadata": {},
   "outputs": [
    {
     "data": {
      "text/plain": [
       "'pick-up a'"
      ]
     },
     "execution_count": 64,
     "metadata": {},
     "output_type": "execute_result"
    }
   ],
   "source": [
    "op.name"
   ]
  },
  {
   "cell_type": "code",
   "execution_count": 65,
   "metadata": {},
   "outputs": [],
   "source": [
    "pre = op.precondition"
   ]
  },
  {
   "cell_type": "code",
   "execution_count": 66,
   "metadata": {},
   "outputs": [
    {
     "data": {
      "text/plain": [
       "{1: 0, 5: 0, 0: 4}"
      ]
     },
     "execution_count": 66,
     "metadata": {},
     "output_type": "execute_result"
    }
   ],
   "source": [
    "pre"
   ]
  },
  {
   "cell_type": "code",
   "execution_count": 67,
   "metadata": {},
   "outputs": [
    {
     "name": "stdout",
     "output_type": "stream",
     "text": [
      "['Atom clear(a)', 'NegatedAtom clear(a)']\n",
      "0\n",
      "[(1, 2)]\n",
      "['Atom handempty()', 'NegatedAtom handempty()']\n",
      "0\n",
      "[(5, 2)]\n",
      "['Atom holding(a)', 'Atom on(a, b)', 'Atom on(a, c)', 'Atom on(a, d)', 'Atom ontable(a)']\n",
      "4\n",
      "[(0, 5)]\n"
     ]
    }
   ],
   "source": [
    "for key, val in pre.items():\n",
    "    # print(key, val)\n",
    "    print(vars[key])\n",
    "    print(val)\n",
    "    print([item for item in gen_state if item[0] == key])"
   ]
  },
  {
   "cell_type": "code",
   "execution_count": null,
   "metadata": {},
   "outputs": [],
   "source": [
    "def generate_string(cardinality, val):\n",
    "    string_list = []\n",
    "    for i in range(cardinality):\n",
    "        string_list.append(\"0\")\n",
    "    string_list[val] = \"1\"\n",
    "    string = ' '.join(string_list)\n",
    "    return string\n",
    "    "
   ]
  },
  {
   "cell_type": "code",
   "execution_count": null,
   "metadata": {},
   "outputs": [],
   "source": [
    "DiscreteTreeFactor()"
   ]
  },
  {
   "cell_type": "code",
   "execution_count": null,
   "metadata": {},
   "outputs": [],
   "source": [
    "def generate_string():\n",
    "    # if cardinality = 5: \"0 0 0 0 0\""
   ]
  },
  {
   "cell_type": "code",
   "execution_count": 122,
   "metadata": {},
   "outputs": [
    {
     "name": "stdout",
     "output_type": "stream",
     "text": [
      "1 0\n",
      "5 0\n",
      "0 4\n"
     ]
    }
   ],
   "source": [
    "for key, val in pre.items():\n",
    "    DecisionTreeFactor()"
   ]
  },
  {
   "cell_type": "code",
   "execution_count": 113,
   "metadata": {},
   "outputs": [
    {
     "data": {
      "text/plain": [
       "{1: 1, 5: 1, 0: 0}"
      ]
     },
     "execution_count": 113,
     "metadata": {},
     "output_type": "execute_result"
    }
   ],
   "source": [
    "op.effect"
   ]
  },
  {
   "cell_type": "code",
   "execution_count": 115,
   "metadata": {},
   "outputs": [
    {
     "data": {
      "text/plain": [
       "{}"
      ]
     },
     "execution_count": 115,
     "metadata": {},
     "output_type": "execute_result"
    }
   ],
   "source": [
    "op.prevail"
   ]
  },
  {
   "cell_type": "code",
   "execution_count": 118,
   "metadata": {},
   "outputs": [
    {
     "name": "stdout",
     "output_type": "stream",
     "text": [
      "False\n"
     ]
    }
   ],
   "source": [
    "if op.prevail:\n",
    "    print(True)\n",
    "else:\n",
    "    print(False)"
   ]
  },
  {
   "cell_type": "code",
   "execution_count": 78,
   "metadata": {},
   "outputs": [],
   "source": [
    "values = DiscreteValues()\n",
    "values[gen_state[0][0]] = 4"
   ]
  },
  {
   "cell_type": "code",
   "execution_count": 53,
   "metadata": {},
   "outputs": [],
   "source": [
    "op = ops[0]"
   ]
  },
  {
   "cell_type": "code",
   "execution_count": 54,
   "metadata": {},
   "outputs": [
    {
     "data": {
      "text/plain": [
       "'pick-up a'"
      ]
     },
     "execution_count": 54,
     "metadata": {},
     "output_type": "execute_result"
    }
   ],
   "source": [
    "op.name"
   ]
  },
  {
   "cell_type": "code",
   "execution_count": 47,
   "metadata": {},
   "outputs": [],
   "source": [
    "state = generate_state(var, 0)"
   ]
  },
  {
   "cell_type": "code",
   "execution_count": 48,
   "metadata": {},
   "outputs": [
    {
     "data": {
      "text/plain": [
       "[(0, 5), (1, 2), (2, 2), (3, 2), (4, 2), (5, 2), (6, 5), (7, 5), (8, 5)]"
      ]
     },
     "execution_count": 48,
     "metadata": {},
     "output_type": "execute_result"
    }
   ],
   "source": [
    "state"
   ]
  },
  {
   "cell_type": "code",
   "execution_count": 9,
   "metadata": {},
   "outputs": [],
   "source": [
    "var = sas.variables"
   ]
  },
  {
   "cell_type": "code",
   "execution_count": 24,
   "metadata": {},
   "outputs": [
    {
     "name": "stdout",
     "output_type": "stream",
     "text": [
      "0 ['Atom holding(a)', 'Atom on(a, b)', 'Atom on(a, c)', 'Atom on(a, d)', 'Atom ontable(a)']\n",
      "1 ['Atom clear(a)', 'NegatedAtom clear(a)']\n",
      "2 ['Atom clear(b)', 'NegatedAtom clear(b)']\n",
      "3 ['Atom clear(c)', 'NegatedAtom clear(c)']\n",
      "4 ['Atom clear(d)', 'NegatedAtom clear(d)']\n",
      "5 ['Atom handempty()', 'NegatedAtom handempty()']\n",
      "6 ['Atom holding(b)', 'Atom on(b, a)', 'Atom on(b, c)', 'Atom on(b, d)', 'Atom ontable(b)']\n",
      "7 ['Atom holding(c)', 'Atom on(c, a)', 'Atom on(c, b)', 'Atom on(c, d)', 'Atom ontable(c)']\n",
      "8 ['Atom holding(d)', 'Atom on(d, a)', 'Atom on(d, b)', 'Atom on(d, c)', 'Atom ontable(d)']\n"
     ]
    }
   ],
   "source": [
    "for key, val in var.items():\n",
    "    print(key, val)"
   ]
  },
  {
   "cell_type": "code",
   "execution_count": 18,
   "metadata": {},
   "outputs": [],
   "source": [
    "keys = list(var.keys())\n",
    "values = list(var.values())"
   ]
  },
  {
   "cell_type": "code",
   "execution_count": null,
   "metadata": {},
   "outputs": [],
   "source": []
  },
  {
   "cell_type": "code",
   "execution_count": 6,
   "metadata": {},
   "outputs": [
    {
     "data": {
      "text/plain": [
       "{0: 5, 1: 2, 2: 2, 3: 2, 4: 2, 5: 2, 6: 5, 7: 5, 8: 5}"
      ]
     },
     "execution_count": 6,
     "metadata": {},
     "output_type": "execute_result"
    }
   ],
   "source": [
    "sas.var_cardinalities"
   ]
  },
  {
   "cell_type": "code",
   "execution_count": 20,
   "metadata": {},
   "outputs": [],
   "source": [
    "dis = variables.discrete(keys[0], values[0])"
   ]
  },
  {
   "cell_type": "code",
   "execution_count": 23,
   "metadata": {},
   "outputs": [
    {
     "data": {
      "text/plain": [
       "tuple"
      ]
     },
     "execution_count": 23,
     "metadata": {},
     "output_type": "execute_result"
    }
   ],
   "source": [
    "type(dis)"
   ]
  },
  {
   "cell_type": "code",
   "execution_count": 95,
   "metadata": {},
   "outputs": [],
   "source": [
    "var1 = variables.discrete(\"var1\", [0, 1, 2, 3, 4])\n",
    "single1 = SingleValueConstraint(var1, 4)"
   ]
  },
  {
   "cell_type": "code",
   "execution_count": 96,
   "metadata": {},
   "outputs": [],
   "source": [
    "single1_tree = single1.toDecisionTreeFactor()"
   ]
  },
  {
   "cell_type": "code",
   "execution_count": 97,
   "metadata": {},
   "outputs": [
    {
     "data": {
      "text/plain": [
       "1.0"
      ]
     },
     "execution_count": 97,
     "metadata": {},
     "output_type": "execute_result"
    }
   ],
   "source": [
    "values = DiscreteValues()\n",
    "values[var1[0]] = 4\n",
    "single1_tree(values)"
   ]
  },
  {
   "cell_type": "code",
   "execution_count": 98,
   "metadata": {},
   "outputs": [
    {
     "data": {
      "text/plain": [
       "1.0"
      ]
     },
     "execution_count": 98,
     "metadata": {},
     "output_type": "execute_result"
    }
   ],
   "source": [
    "single1(values) "
   ]
  },
  {
   "cell_type": "code",
   "execution_count": 100,
   "metadata": {},
   "outputs": [
    {
     "data": {
      "image/svg+xml": [
       "<?xml version=\"1.0\" encoding=\"UTF-8\" standalone=\"no\"?>\n",
       "<!DOCTYPE svg PUBLIC \"-//W3C//DTD SVG 1.1//EN\"\n",
       " \"http://www.w3.org/Graphics/SVG/1.1/DTD/svg11.dtd\">\n",
       "<!-- Generated by graphviz version 2.43.0 (0)\n",
       " -->\n",
       "<!-- Title: G Pages: 1 -->\n",
       "<svg width=\"350pt\" height=\"114pt\"\n",
       " viewBox=\"0.00 0.00 350.00 114.50\" xmlns=\"http://www.w3.org/2000/svg\" xmlns:xlink=\"http://www.w3.org/1999/xlink\">\n",
       "<g id=\"graph0\" class=\"graph\" transform=\"scale(1 1) rotate(0) translate(4 110.5)\">\n",
       "<title>G</title>\n",
       "<polygon fill=\"white\" stroke=\"transparent\" points=\"-4,4 -4,-110.5 346,-110.5 346,4 -4,4\"/>\n",
       "<!-- 0x5640b754d1b0 -->\n",
       "<g id=\"node1\" class=\"node\">\n",
       "<title>0x5640b754d1b0</title>\n",
       "<ellipse fill=\"none\" stroke=\"black\" cx=\"171\" cy=\"-83.75\" rx=\"23\" ry=\"23\"/>\n",
       "<text text-anchor=\"middle\" x=\"171\" y=\"-80.05\" font-family=\"Times,serif\" font-size=\"14.00\">41</text>\n",
       "</g>\n",
       "<!-- 0x5640b75498c0 -->\n",
       "<g id=\"node2\" class=\"node\">\n",
       "<title>0x5640b75498c0</title>\n",
       "<polygon fill=\"none\" stroke=\"black\" points=\"54,-25 0,-25 0,0 54,0 54,-25\"/>\n",
       "<text text-anchor=\"middle\" x=\"27\" y=\"-8.8\" font-family=\"Times,serif\" font-size=\"14.00\"> &#160;&#160;0</text>\n",
       "</g>\n",
       "<!-- 0x5640b754d1b0&#45;&gt;0x5640b75498c0 -->\n",
       "<g id=\"edge1\" class=\"edge\">\n",
       "<title>0x5640b754d1b0&#45;&gt;0x5640b75498c0</title>\n",
       "<path fill=\"none\" stroke=\"black\" d=\"M150.67,-72.97C127.23,-61.7 88.35,-43 60.44,-29.58\"/>\n",
       "<polygon fill=\"black\" stroke=\"black\" points=\"61.59,-26.25 51.06,-25.07 58.56,-32.56 61.59,-26.25\"/>\n",
       "</g>\n",
       "<!-- 0x5640b75290e0 -->\n",
       "<g id=\"node3\" class=\"node\">\n",
       "<title>0x5640b75290e0</title>\n",
       "<polygon fill=\"none\" stroke=\"black\" points=\"126,-25 72,-25 72,0 126,0 126,-25\"/>\n",
       "<text text-anchor=\"middle\" x=\"99\" y=\"-8.8\" font-family=\"Times,serif\" font-size=\"14.00\"> &#160;&#160;0</text>\n",
       "</g>\n",
       "<!-- 0x5640b754d1b0&#45;&gt;0x5640b75290e0 -->\n",
       "<g id=\"edge2\" class=\"edge\">\n",
       "<title>0x5640b754d1b0&#45;&gt;0x5640b75290e0</title>\n",
       "<path fill=\"none\" stroke=\"black\" d=\"M155.02,-67.38C144.25,-57.02 129.97,-43.29 118.53,-32.28\"/>\n",
       "<polygon fill=\"black\" stroke=\"black\" points=\"120.77,-29.58 111.13,-25.17 115.91,-34.62 120.77,-29.58\"/>\n",
       "</g>\n",
       "<!-- 0x5640b7228770 -->\n",
       "<g id=\"node4\" class=\"node\">\n",
       "<title>0x5640b7228770</title>\n",
       "<polygon fill=\"none\" stroke=\"black\" points=\"198,-25 144,-25 144,0 198,0 198,-25\"/>\n",
       "<text text-anchor=\"middle\" x=\"171\" y=\"-8.8\" font-family=\"Times,serif\" font-size=\"14.00\"> &#160;&#160;0</text>\n",
       "</g>\n",
       "<!-- 0x5640b754d1b0&#45;&gt;0x5640b7228770 -->\n",
       "<g id=\"edge3\" class=\"edge\">\n",
       "<title>0x5640b754d1b0&#45;&gt;0x5640b7228770</title>\n",
       "<path fill=\"none\" stroke=\"black\" d=\"M171,-60.84C171,-52.67 171,-43.4 171,-35.24\"/>\n",
       "<polygon fill=\"black\" stroke=\"black\" points=\"174.5,-35.01 171,-25.01 167.5,-35.01 174.5,-35.01\"/>\n",
       "</g>\n",
       "<!-- 0x5640b754ec60 -->\n",
       "<g id=\"node5\" class=\"node\">\n",
       "<title>0x5640b754ec60</title>\n",
       "<polygon fill=\"none\" stroke=\"black\" points=\"270,-25 216,-25 216,0 270,0 270,-25\"/>\n",
       "<text text-anchor=\"middle\" x=\"243\" y=\"-8.8\" font-family=\"Times,serif\" font-size=\"14.00\"> &#160;&#160;0</text>\n",
       "</g>\n",
       "<!-- 0x5640b754d1b0&#45;&gt;0x5640b754ec60 -->\n",
       "<g id=\"edge4\" class=\"edge\">\n",
       "<title>0x5640b754d1b0&#45;&gt;0x5640b754ec60</title>\n",
       "<path fill=\"none\" stroke=\"black\" d=\"M186.98,-67.38C197.75,-57.02 212.03,-43.29 223.47,-32.28\"/>\n",
       "<polygon fill=\"black\" stroke=\"black\" points=\"226.09,-34.62 230.87,-25.17 221.23,-29.58 226.09,-34.62\"/>\n",
       "</g>\n",
       "<!-- 0x5640b754d1f0 -->\n",
       "<g id=\"node6\" class=\"node\">\n",
       "<title>0x5640b754d1f0</title>\n",
       "<polygon fill=\"none\" stroke=\"black\" points=\"342,-25 288,-25 288,0 342,0 342,-25\"/>\n",
       "<text text-anchor=\"middle\" x=\"315\" y=\"-8.8\" font-family=\"Times,serif\" font-size=\"14.00\"> &#160;&#160;1</text>\n",
       "</g>\n",
       "<!-- 0x5640b754d1b0&#45;&gt;0x5640b754d1f0 -->\n",
       "<g id=\"edge5\" class=\"edge\">\n",
       "<title>0x5640b754d1b0&#45;&gt;0x5640b754d1f0</title>\n",
       "<path fill=\"none\" stroke=\"black\" d=\"M191.33,-72.97C214.77,-61.7 253.65,-43 281.56,-29.58\"/>\n",
       "<polygon fill=\"black\" stroke=\"black\" points=\"283.44,-32.56 290.94,-25.07 280.41,-26.25 283.44,-32.56\"/>\n",
       "</g>\n",
       "</g>\n",
       "</svg>\n"
      ],
      "text/plain": [
       "<__main__.show at 0x7fef74280970>"
      ]
     },
     "execution_count": 100,
     "metadata": {},
     "output_type": "execute_result"
    }
   ],
   "source": [
    "show(single1_tree)"
   ]
  },
  {
   "cell_type": "code",
   "execution_count": null,
   "metadata": {},
   "outputs": [],
   "source": []
  }
 ],
 "metadata": {
  "kernelspec": {
   "display_name": "Python 3 (ipykernel)",
   "language": "python",
   "name": "python3"
  },
  "language_info": {
   "codemirror_mode": {
    "name": "ipython",
    "version": 3
   },
   "file_extension": ".py",
   "mimetype": "text/x-python",
   "name": "python",
   "nbconvert_exporter": "python",
   "pygments_lexer": "ipython3",
   "version": "3.9.7"
  }
 },
 "nbformat": 4,
 "nbformat_minor": 2
}
