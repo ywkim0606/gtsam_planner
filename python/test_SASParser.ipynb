{
 "cells": [
  {
   "cell_type": "code",
   "execution_count": 1,
   "id": "4842f555",
   "metadata": {},
   "outputs": [],
   "source": [
    "import sys\n",
    "import re\n",
    "import copy\n",
    "from collections import defaultdict\n",
    "from abc import ABC, abstractmethod\n",
    "import SASParser\n",
    "from SASParser import SAS, Operator"
   ]
  },
  {
   "cell_type": "code",
   "execution_count": 33,
   "id": "9f9c712b",
   "metadata": {},
   "outputs": [],
   "source": [
    "output_dir = \"sas/block_example.sas\"\n",
    "sas = SAS()"
   ]
  },
  {
   "cell_type": "code",
   "execution_count": 34,
   "id": "3576b4f7",
   "metadata": {},
   "outputs": [],
   "source": [
    "sas.read_file(output_dir)"
   ]
  },
  {
   "cell_type": "code",
   "execution_count": 35,
   "id": "bc862597",
   "metadata": {},
   "outputs": [
    {
     "data": {
      "text/plain": [
       "{0: 4, 1: 0, 2: 0, 3: 0, 4: 0, 5: 0, 6: 4, 7: 4, 8: 4}"
      ]
     },
     "execution_count": 35,
     "metadata": {},
     "output_type": "execute_result"
    }
   ],
   "source": [
    "sas.initial_state"
   ]
  },
  {
   "cell_type": "code",
   "execution_count": 36,
   "id": "55ad7d76",
   "metadata": {},
   "outputs": [
    {
     "data": {
      "text/plain": [
       "{6: 1, 7: 2, 8: 3}"
      ]
     },
     "execution_count": 36,
     "metadata": {},
     "output_type": "execute_result"
    }
   ],
   "source": [
    "sas.goal"
   ]
  },
  {
   "cell_type": "code",
   "execution_count": 37,
   "id": "93de7508",
   "metadata": {},
   "outputs": [
    {
     "data": {
      "text/plain": [
       "{0: 5, 1: 2, 2: 2, 3: 2, 4: 2, 5: 2, 6: 5, 7: 5, 8: 5}"
      ]
     },
     "execution_count": 37,
     "metadata": {},
     "output_type": "execute_result"
    }
   ],
   "source": [
    "sas.var_cardinalities"
   ]
  },
  {
   "cell_type": "code",
   "execution_count": 38,
   "id": "079a26f6",
   "metadata": {},
   "outputs": [
    {
     "data": {
      "text/plain": [
       "{0: ['Atom holding(a)',\n",
       "  'Atom on(a, b)',\n",
       "  'Atom on(a, c)',\n",
       "  'Atom on(a, d)',\n",
       "  'Atom ontable(a)'],\n",
       " 1: ['Atom clear(a)', 'NegatedAtom clear(a)'],\n",
       " 2: ['Atom clear(b)', 'NegatedAtom clear(b)'],\n",
       " 3: ['Atom clear(c)', 'NegatedAtom clear(c)'],\n",
       " 4: ['Atom clear(d)', 'NegatedAtom clear(d)'],\n",
       " 5: ['Atom handempty()', 'NegatedAtom handempty()'],\n",
       " 6: ['Atom holding(b)',\n",
       "  'Atom on(b, a)',\n",
       "  'Atom on(b, c)',\n",
       "  'Atom on(b, d)',\n",
       "  'Atom ontable(b)'],\n",
       " 7: ['Atom holding(c)',\n",
       "  'Atom on(c, a)',\n",
       "  'Atom on(c, b)',\n",
       "  'Atom on(c, d)',\n",
       "  'Atom ontable(c)'],\n",
       " 8: ['Atom holding(d)',\n",
       "  'Atom on(d, a)',\n",
       "  'Atom on(d, b)',\n",
       "  'Atom on(d, c)',\n",
       "  'Atom ontable(d)']}"
      ]
     },
     "execution_count": 38,
     "metadata": {},
     "output_type": "execute_result"
    }
   ],
   "source": [
    "sas.variables"
   ]
  },
  {
   "cell_type": "code",
   "execution_count": 39,
   "id": "4ea17595",
   "metadata": {},
   "outputs": [
    {
     "data": {
      "text/plain": [
       "[[[1, 0], [0, 0], [6, 1], [7, 1], [8, 1]],\n",
       " [[2, 0], [0, 1], [6, 0], [7, 2], [8, 2]],\n",
       " [[3, 0], [0, 2], [6, 2], [7, 0], [8, 3]],\n",
       " [[4, 0], [0, 3], [6, 3], [7, 3], [8, 0]],\n",
       " [[5, 0], [0, 0], [6, 0], [7, 0], [8, 0]]]"
      ]
     },
     "execution_count": 39,
     "metadata": {},
     "output_type": "execute_result"
    }
   ],
   "source": [
    "# mutually exclusive group\n",
    "sas.mutex_group"
   ]
  },
  {
   "cell_type": "code",
   "execution_count": 40,
   "id": "5fde8390",
   "metadata": {},
   "outputs": [],
   "source": [
    "op = sas.operators[0]"
   ]
  },
  {
   "cell_type": "code",
   "execution_count": 41,
   "id": "8ac05f3f",
   "metadata": {},
   "outputs": [
    {
     "data": {
      "text/plain": [
       "'pick-up a'"
      ]
     },
     "execution_count": 41,
     "metadata": {},
     "output_type": "execute_result"
    }
   ],
   "source": [
    "op.name"
   ]
  },
  {
   "cell_type": "code",
   "execution_count": 42,
   "id": "55ae264f",
   "metadata": {},
   "outputs": [
    {
     "data": {
      "text/plain": [
       "1"
      ]
     },
     "execution_count": 42,
     "metadata": {},
     "output_type": "execute_result"
    }
   ],
   "source": [
    "op.cost"
   ]
  },
  {
   "cell_type": "code",
   "execution_count": 43,
   "id": "ba639497",
   "metadata": {},
   "outputs": [
    {
     "data": {
      "text/plain": [
       "'pick-up a'"
      ]
     },
     "execution_count": 43,
     "metadata": {},
     "output_type": "execute_result"
    }
   ],
   "source": [
    "op.name"
   ]
  },
  {
   "cell_type": "code",
   "execution_count": 44,
   "id": "171d83a9",
   "metadata": {},
   "outputs": [
    {
     "data": {
      "text/plain": [
       "3"
      ]
     },
     "execution_count": 44,
     "metadata": {},
     "output_type": "execute_result"
    }
   ],
   "source": [
    "op.num_effect"
   ]
  },
  {
   "cell_type": "code",
   "execution_count": 45,
   "id": "f7174155",
   "metadata": {},
   "outputs": [
    {
     "data": {
      "text/plain": [
       "{1: 1, 5: 1, 0: 0}"
      ]
     },
     "execution_count": 45,
     "metadata": {},
     "output_type": "execute_result"
    }
   ],
   "source": [
    "op.effect"
   ]
  },
  {
   "cell_type": "code",
   "execution_count": 46,
   "id": "b91ab191",
   "metadata": {},
   "outputs": [
    {
     "data": {
      "text/plain": [
       "0"
      ]
     },
     "execution_count": 46,
     "metadata": {},
     "output_type": "execute_result"
    }
   ],
   "source": [
    "op.num_prevail"
   ]
  },
  {
   "cell_type": "code",
   "execution_count": 47,
   "id": "22084ac5",
   "metadata": {},
   "outputs": [
    {
     "data": {
      "text/plain": [
       "{}"
      ]
     },
     "execution_count": 47,
     "metadata": {},
     "output_type": "execute_result"
    }
   ],
   "source": [
    "op.prevail"
   ]
  },
  {
   "cell_type": "code",
   "execution_count": 48,
   "id": "6077ea27",
   "metadata": {},
   "outputs": [
    {
     "data": {
      "text/plain": [
       "{1: 0, 5: 0, 0: 4}"
      ]
     },
     "execution_count": 48,
     "metadata": {},
     "output_type": "execute_result"
    }
   ],
   "source": [
    "op.precondition"
   ]
  },
  {
   "cell_type": "code",
   "execution_count": null,
   "id": "82df5004",
   "metadata": {},
   "outputs": [],
   "source": []
  }
 ],
 "metadata": {
  "kernelspec": {
   "display_name": "Python 3 (ipykernel)",
   "language": "python",
   "name": "python3"
  },
  "language_info": {
   "codemirror_mode": {
    "name": "ipython",
    "version": 3
   },
   "file_extension": ".py",
   "mimetype": "text/x-python",
   "name": "python",
   "nbconvert_exporter": "python",
   "pygments_lexer": "ipython3",
   "version": "3.9.7"
  }
 },
 "nbformat": 4,
 "nbformat_minor": 5
}
