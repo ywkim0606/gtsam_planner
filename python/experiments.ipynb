{
 "cells": [
  {
   "cell_type": "code",
   "execution_count": 49,
   "metadata": {},
   "outputs": [
    {
     "ename": "ModuleNotFoundError",
     "evalue": "No module named 'gtsam_planner'",
     "output_type": "error",
     "traceback": [
      "\u001b[0;31m---------------------------------------------------------------------------\u001b[0m",
      "\u001b[0;31mModuleNotFoundError\u001b[0m                       Traceback (most recent call last)",
      "\u001b[1;32m/Users/yoonwoo/Projects/gtsam_planner/python/experiments.ipynb Cell 1\u001b[0m in \u001b[0;36m<cell line: 13>\u001b[0;34m()\u001b[0m\n\u001b[1;32m     <a href='vscode-notebook-cell:/Users/yoonwoo/Projects/gtsam_planner/python/experiments.ipynb#ch0000000?line=9'>10</a>\u001b[0m \u001b[39mfrom\u001b[39;00m \u001b[39mgtbook\u001b[39;00m\u001b[39m.\u001b[39;00m\u001b[39mdiscrete\u001b[39;00m \u001b[39mimport\u001b[39;00m Variables\n\u001b[1;32m     <a href='vscode-notebook-cell:/Users/yoonwoo/Projects/gtsam_planner/python/experiments.ipynb#ch0000000?line=11'>12</a>\u001b[0m \u001b[39m# import local package\u001b[39;00m\n\u001b[0;32m---> <a href='vscode-notebook-cell:/Users/yoonwoo/Projects/gtsam_planner/python/experiments.ipynb#ch0000000?line=12'>13</a>\u001b[0m \u001b[39mimport\u001b[39;00m \u001b[39mgtsam_planner\u001b[39;00m\n\u001b[1;32m     <a href='vscode-notebook-cell:/Users/yoonwoo/Projects/gtsam_planner/python/experiments.ipynb#ch0000000?line=13'>14</a>\u001b[0m \u001b[39mfrom\u001b[39;00m \u001b[39mgtsam_planner\u001b[39;00m \u001b[39mimport\u001b[39;00m \u001b[39m*\u001b[39m\n",
      "\u001b[0;31mModuleNotFoundError\u001b[0m: No module named 'gtsam_planner'"
     ]
    }
   ],
   "source": [
    "# typing\n",
    "from typing import List\n",
    "\n",
    "# import gtsam\n",
    "import gtsam\n",
    "from gtsam import *\n",
    "\n",
    "# import gtbook\n",
    "import gtbook\n",
    "from gtbook.discrete import Variables\n",
    "\n",
    "# import local package\n",
    "import gtsam_planner\n",
    "from gtsam_planner import *"
   ]
  },
  {
   "cell_type": "code",
   "execution_count": 42,
   "metadata": {},
   "outputs": [],
   "source": [
    "class SASToGTSAM():\n",
    "    def __init__(self, sas):\n",
    "        self.sas = sas\n",
    "        self.init = self.sas.initial_state\n",
    "        self.goal = self.sas.goal\n",
    "        self.vars = self.sas.variables\n",
    "        self.ops = self.sas.operators\n",
    "        self.mutex_groups = self.sas.mutex_group\n",
    "        self.ops_names = []\n",
    "        for op in self.ops:\n",
    "            self.ops_names.append(op.name)\n",
    "        self.state_keys = list(self.vars.keys())\n",
    "        self.variables = Variables()\n",
    "\n",
    "    def generate_state(self, timestep: int) -> List:\n",
    "        state = []\n",
    "        for var, val in self.vars.items():\n",
    "            state_var = self.variables.discrete(str(var)+\"_\"+str(timestep), val)\n",
    "            state.append(state_var)\n",
    "        return state\n",
    "    \n",
    "    def generate_operator_key(self, timestep: int) -> gtsam.DiscreteKey:\n",
    "        op_var = self.variables.discrete(\"op_\"+str(timestep), self.ops_names)\n",
    "        return op_var\n",
    "    \n",
    "    def generate_initial_factor(self, initial_state):\n",
    "        keys = gtsam.DiscreteKeys()\n",
    "        for key in initial_state:\n",
    "            keys.push_back(key)\n",
    "        init_values = list(self.init.values())\n",
    "        init_f = gtsam_planner.MultiValueConstraint(keys, init_values)\n",
    "        return init_f\n",
    "\n",
    "    def generate_goal_factor(self, goal_state):\n",
    "        keys = gtsam.DiscreteKeys()\n",
    "        vals = []\n",
    "        for goal_var, goal_val in self.goal.items():\n",
    "            keys.push_back(goal_state[self.state_keys.index(goal_var)])\n",
    "            vals.append(goal_val)\n",
    "        goal_f = gtsam_planner.MultiValueConstraint(keys, vals)\n",
    "        return goal_f\n",
    "    \n",
    "    def generate_op_null(self, state_t, state_tp, operator):\n",
    "        vals = []\n",
    "        op_keys = set()\n",
    "        multi_keys = gtsam.DiscreteKeys()\n",
    "        for pre_var, pre_val in operator.precondition.items():\n",
    "            key = state_t[self.state_keys.index(pre_var)]\n",
    "            op_keys.add(key)\n",
    "            if pre_val == -1:\n",
    "                continue\n",
    "            multi_keys.push_back(key)\n",
    "            vals.append(pre_val)\n",
    "        \n",
    "        for eff_var, eff_val in operator.effect.items():\n",
    "            key = state_tp[self.state_keys.index(eff_var)]\n",
    "            op_keys.add(key)\n",
    "            if eff_val == -1:\n",
    "                continue\n",
    "            multi_keys.push_back(key)\n",
    "            vals.append(eff_val)\n",
    "        \n",
    "        if operator.num_prevail > 0:\n",
    "            for var, val in operator.prevail.items():\n",
    "                key_t = state_t[self.state_keys.index(var)]\n",
    "                key_tp = state_tp[self.state_keys.index(var)]\n",
    "                op_keys.add(key_t)\n",
    "                op_keys.add(key_tp)\n",
    "                multi_keys.push_back(key_t)\n",
    "                multi_keys.push_back(key_tp)\n",
    "                vals.extend([val,val])\n",
    "\n",
    "        assert len(op_keys) % 2 == 0\n",
    "        frame_keys = set()\n",
    "        null_keys = gtsam.DiscreteKeys()\n",
    "        for var in state_t+state_tp:\n",
    "            if var not in op_keys:\n",
    "                null_keys.push_back(var)\n",
    "                frame_keys.add(var)\n",
    "\n",
    "        op_f = gtsam_planner.MultiValueConstraint(multi_keys, vals)\n",
    "        null_f = gtsam_planner.NullConstraint(null_keys)\n",
    "        return op_f, null_f, op_keys, frame_keys\n",
    "\n",
    "    def generate_mutex_factor(self, state_t):\n",
    "        state = list(self.vars.keys())\n",
    "        mutex_variables = []\n",
    "        mutex_values = []\n",
    "        \n",
    "        for mutex_group in self.mutex_groups:\n",
    "            var_group = []\n",
    "            val_group = []\n",
    "            for var, val in mutex_group:\n",
    "                state_var = state_t[state.index(var)]\n",
    "                var_group.append(state_var)\n",
    "                val_group.append(val)\n",
    "            mutex_variables.append(var_group)\n",
    "            mutex_values.append(val_group)\n",
    "        \n",
    "        factors = []\n",
    "        for mutex_var, mutex_val in zip(mutex_variables, mutex_values):\n",
    "            keys = gtsam.DiscreteKeys()\n",
    "            for var in mutex_var:\n",
    "                keys.push_back(var)\n",
    "            mutex = gtsam_planner.MutexConstraint(keys, mutex_val)\n",
    "            factors.append(mutex)\n",
    "        return factors\n",
    "    \n",
    "    def generate_frame_op_factor(self, state_t, state_tp, op_key):\n",
    "        op_consts = []\n",
    "        null_consts = []\n",
    "        \n",
    "        op_keys_set = set()\n",
    "        op_keys_set.add(op_key)\n",
    "        \n",
    "        frame_keys_set = set()\n",
    "        frame_keys_set.add(op_key)\n",
    "        \n",
    "        for op in self.ops:\n",
    "            op_const, null_const, op_keys, frame_keys = self.generate_op_null(state_t, state_tp, op)\n",
    "            op_consts.append(op_const)\n",
    "            null_consts.append(null_const)\n",
    "            op_keys_set = op_keys_set.union(op_keys)\n",
    "            frame_keys_set = frame_keys_set.union(frame_keys)\n",
    "\n",
    "        op_dkeys = gtsam.DiscreteKeys()\n",
    "        for key in op_keys_set:\n",
    "            op_dkeys.push_back(key)\n",
    "        \n",
    "        frame_dkeys = gtsam.DiscreteKeys()\n",
    "        for key in frame_keys_set:\n",
    "            frame_dkeys.push_back(key)\n",
    "\n",
    "        op_factor = gtsam_planner.OperatorOrConstraint(op_key, op_dkeys, op_consts)\n",
    "        frame_factor = gtsam_planner.FrameConstraint(op_key, frame_dkeys, null_consts)\n",
    "        return op_factor, frame_factor"
   ]
  },
  {
   "cell_type": "code",
   "execution_count": 45,
   "metadata": {},
   "outputs": [],
   "source": [
    "init = sas.initial_state\n",
    "goal = sas.goal\n",
    "vars = sas.variables\n",
    "ops = sas.operators\n",
    "ops_names = []\n",
    "for op in ops:\n",
    "    ops_names.append(op.name)\n",
    "mutex_groups = sas.mutex_group\n",
    "variables = Variables()\n",
    "timestep = 0"
   ]
  },
  {
   "cell_type": "code",
   "execution_count": 46,
   "metadata": {},
   "outputs": [
    {
     "name": "stdout",
     "output_type": "stream",
     "text": [
      "[(0, 5), (1, 2), (2, 2), (3, 2), (4, 2), (5, 2), (6, 5), (7, 5), (8, 5)]\n"
     ]
    }
   ],
   "source": [
    "# generate state\n",
    "state = []\n",
    "for var, val in vars.items():\n",
    "    state_var = variables.discrete(str(var)+\"_\"+str(timestep), val)\n",
    "    state.append(state_var)\n",
    "print(state)"
   ]
  },
  {
   "cell_type": "code",
   "execution_count": 47,
   "metadata": {},
   "outputs": [
    {
     "name": "stdout",
     "output_type": "stream",
     "text": [
      "(9, 32)\n"
     ]
    }
   ],
   "source": [
    "# generate operator key\n",
    "op_var = variables.discrete(\"op_\"+str(timestep), ops_names)\n",
    "print(op_var)"
   ]
  },
  {
   "cell_type": "code",
   "execution_count": 48,
   "metadata": {},
   "outputs": [
    {
     "data": {
      "text/plain": [
       "{0: 4, 1: 0, 2: 0, 3: 0, 4: 0, 5: 0, 6: 4, 7: 4, 8: 4}"
      ]
     },
     "execution_count": 48,
     "metadata": {},
     "output_type": "execute_result"
    }
   ],
   "source": [
    "init"
   ]
  },
  {
   "cell_type": "code",
   "execution_count": null,
   "metadata": {},
   "outputs": [],
   "source": [
    "# generate initial factor\n",
    "keys = gtsam.DiscreteKeys()\n",
    "for key in initial_state:\n",
    "    keys.push_back(key)\n",
    "init_values = list(self.init.values())\n",
    "init_f = gtsam_planner.MultiValueConstraint(keys, init_values)\n",
    "return init_f"
   ]
  },
  {
   "cell_type": "code",
   "execution_count": 13,
   "metadata": {},
   "outputs": [
    {
     "data": {
      "text/plain": [
       "[<SASParser.Operator at 0x1202224f0>,\n",
       " <SASParser.Operator at 0x120265160>,\n",
       " <SASParser.Operator at 0x12073c880>,\n",
       " <SASParser.Operator at 0x120747b20>,\n",
       " <SASParser.Operator at 0x1207474c0>,\n",
       " <SASParser.Operator at 0x12027b700>,\n",
       " <SASParser.Operator at 0x12021cf10>,\n",
       " <SASParser.Operator at 0x107347af0>,\n",
       " <SASParser.Operator at 0x12027bca0>,\n",
       " <SASParser.Operator at 0x12027b0d0>,\n",
       " <SASParser.Operator at 0x1207a8190>,\n",
       " <SASParser.Operator at 0x1207a8700>,\n",
       " <SASParser.Operator at 0x1073ae9a0>,\n",
       " <SASParser.Operator at 0x1073aecd0>,\n",
       " <SASParser.Operator at 0x1073ae7f0>,\n",
       " <SASParser.Operator at 0x120287580>,\n",
       " <SASParser.Operator at 0x1273610a0>,\n",
       " <SASParser.Operator at 0x127361160>,\n",
       " <SASParser.Operator at 0x127361e50>,\n",
       " <SASParser.Operator at 0x127361d90>,\n",
       " <SASParser.Operator at 0x127361f70>,\n",
       " <SASParser.Operator at 0x127361eb0>,\n",
       " <SASParser.Operator at 0x127361ca0>,\n",
       " <SASParser.Operator at 0x127361fa0>,\n",
       " <SASParser.Operator at 0x127361100>,\n",
       " <SASParser.Operator at 0x127361c40>,\n",
       " <SASParser.Operator at 0x127361040>,\n",
       " <SASParser.Operator at 0x127361190>,\n",
       " <SASParser.Operator at 0x127361a00>,\n",
       " <SASParser.Operator at 0x127361f10>,\n",
       " <SASParser.Operator at 0x127361820>,\n",
       " <SASParser.Operator at 0x127361850>]"
      ]
     },
     "execution_count": 13,
     "metadata": {},
     "output_type": "execute_result"
    }
   ],
   "source": [
    "ops"
   ]
  },
  {
   "cell_type": "code",
   "execution_count": 45,
   "metadata": {},
   "outputs": [],
   "source": [
    "l = [1, 2, 3, 4, 5, 6, 7, 8]\n",
    "v0 = (0, 1)\n",
    "v1 = (0, 1)\n",
    "v2 = (0, 1)\n",
    "vars = [v0, v1, v2]\n",
    "total = 24\n",
    "layer0 = len(l)/len(v0)\n",
    "layer1 = layer0/len(v1)\n",
    "layer2 = layer1/len(v2)"
   ]
  },
  {
   "cell_type": "code",
   "execution_count": 46,
   "metadata": {},
   "outputs": [
    {
     "data": {
      "text/plain": [
       "4.0"
      ]
     },
     "execution_count": 46,
     "metadata": {},
     "output_type": "execute_result"
    }
   ],
   "source": [
    "layer0"
   ]
  },
  {
   "cell_type": "code",
   "execution_count": 47,
   "metadata": {},
   "outputs": [
    {
     "data": {
      "text/plain": [
       "2.0"
      ]
     },
     "execution_count": 47,
     "metadata": {},
     "output_type": "execute_result"
    }
   ],
   "source": [
    "layer1"
   ]
  },
  {
   "cell_type": "code",
   "execution_count": 27,
   "metadata": {},
   "outputs": [],
   "source": [
    "input = []\n",
    "for var in vars:\n",
    "    input.append(list(range(len(var))))\n",
    "    prods = list(product(*input))\n"
   ]
  },
  {
   "cell_type": "code",
   "execution_count": 28,
   "metadata": {},
   "outputs": [
    {
     "data": {
      "text/plain": [
       "[(0, 0, 0),\n",
       " (0, 0, 1),\n",
       " (0, 1, 0),\n",
       " (0, 1, 1),\n",
       " (1, 0, 0),\n",
       " (1, 0, 1),\n",
       " (1, 1, 0),\n",
       " (1, 1, 1)]"
      ]
     },
     "execution_count": 28,
     "metadata": {},
     "output_type": "execute_result"
    }
   ],
   "source": [
    "prods"
   ]
  },
  {
   "cell_type": "code",
   "execution_count": 31,
   "metadata": {},
   "outputs": [
    {
     "data": {
      "text/plain": [
       "[1, 2, 3, 4, 5, 6, 7, 8]"
      ]
     },
     "execution_count": 31,
     "metadata": {},
     "output_type": "execute_result"
    }
   ],
   "source": [
    "# 0: total/len(v0)\n",
    "# v0 = 0 at 0 ~ 11\n",
    "# v0 = 1 at 12 ~ 23"
   ]
  },
  {
   "cell_type": "code",
   "execution_count": 40,
   "metadata": {},
   "outputs": [],
   "source": [
    "chunks = [l[x:len(l)//len(v0)] for x in range(0, len(l), len(l)//len(v0))]"
   ]
  },
  {
   "cell_type": "code",
   "execution_count": 41,
   "metadata": {},
   "outputs": [
    {
     "data": {
      "text/plain": [
       "[[1, 2, 3, 4], []]"
      ]
     },
     "execution_count": 41,
     "metadata": {},
     "output_type": "execute_result"
    }
   ],
   "source": [
    "chunks"
   ]
  },
  {
   "cell_type": "code",
   "execution_count": 48,
   "metadata": {},
   "outputs": [],
   "source": [
    "class Tree:\n",
    "    def __init__(self, data):\n",
    "        self.children = []\n",
    "        self.data = data"
   ]
  },
  {
   "cell_type": "code",
   "execution_count": 56,
   "metadata": {},
   "outputs": [],
   "source": [
    "layer0 = Tree(v0)\n",
    "layer1 = Tree(v1)\n",
    "layer2 = Tree(v2)\n",
    "layer0.children = [layer1, layer1]\n",
    "layer1.children = [layer2, layer2]"
   ]
  },
  {
   "cell_type": "code",
   "execution_count": 58,
   "metadata": {},
   "outputs": [],
   "source": [
    "    def search(self, node, data):\n",
    "        \"\"\"\n",
    "        Search function will search a node into tree.\n",
    "        \"\"\"\n",
    "        # if root is None or root is the search data.\n",
    "        if node is None or node.data == data:\n",
    "            return node\n",
    "\n",
    "        if node.data < data:\n",
    "            return self.search(node.right, data)\n",
    "        else:\n",
    "            return self.search(node.left, data)"
   ]
  },
  {
   "cell_type": "code",
   "execution_count": null,
   "metadata": {},
   "outputs": [],
   "source": [
    "# v1 = 0 at 0 ~ 5\n",
    "# v1 = 1 at 6 ~ 11"
   ]
  },
  {
   "cell_type": "code",
   "execution_count": 3,
   "metadata": {},
   "outputs": [],
   "source": [
    "def bfs(graph, start_node):\n",
    "    visit = list()\n",
    "    queue = list()\n",
    "\n",
    "    queue.append(start_node)\n",
    "\n",
    "    while queue:\n",
    "        node = queue.pop(0)\n",
    "        if node not in visit:\n",
    "            visit.append(node)\n",
    "            queue.extend(graph[node])\n",
    "\n",
    "    return visit"
   ]
  },
  {
   "cell_type": "code",
   "execution_count": 12,
   "metadata": {},
   "outputs": [],
   "source": [
    "graph = {\n",
    "    'A': ['B', 'C'],\n",
    "    'B': ['D', 'E'],\n",
    "    'C': ['F', 'G'],\n",
    "    'D': ['B', 'B'],\n",
    "    'E': ['B', 'B'],\n",
    "    'F': ['C', 'C'],\n",
    "    'G': ['C', 'C']\n",
    "}\n"
   ]
  },
  {
   "cell_type": "code",
   "execution_count": 13,
   "metadata": {},
   "outputs": [
    {
     "data": {
      "text/plain": [
       "['A', 'B', 'C', 'D', 'E', 'F', 'G']"
      ]
     },
     "execution_count": 13,
     "metadata": {},
     "output_type": "execute_result"
    }
   ],
   "source": [
    "bfs(graph, 'A')"
   ]
  },
  {
   "cell_type": "code",
   "execution_count": null,
   "metadata": {},
   "outputs": [],
   "source": []
  }
 ],
 "metadata": {
  "kernelspec": {
   "display_name": "Python 3.9.12 ('base')",
   "language": "python",
   "name": "python3"
  },
  "language_info": {
   "codemirror_mode": {
    "name": "ipython",
    "version": 3
   },
   "file_extension": ".py",
   "mimetype": "text/x-python",
   "name": "python",
   "nbconvert_exporter": "python",
   "pygments_lexer": "ipython3",
   "version": "3.9.12"
  },
  "orig_nbformat": 4,
  "vscode": {
   "interpreter": {
    "hash": "42af5915f731d0d3dfab3b5f834d042695a4c2cbf1060259f8e1673cd3c752d6"
   }
  }
 },
 "nbformat": 4,
 "nbformat_minor": 2
}
