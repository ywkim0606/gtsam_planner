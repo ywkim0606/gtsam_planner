{
 "cells": [
  {
   "cell_type": "markdown",
   "metadata": {},
   "source": [
    "# Planning Notebook"
   ]
  },
  {
   "cell_type": "code",
   "execution_count": 1,
   "metadata": {},
   "outputs": [],
   "source": [
    "import math\n",
    "import unittest\n",
    "\n",
    "# import gtsam\n",
    "import gtsam\n",
    "from gtsam import *\n",
    "from gtsam.utils.test_case import GtsamTestCase\n",
    "\n",
    "# import gtbook\n",
    "import gtbook\n",
    "from gtbook.display import *\n",
    "from gtbook.discrete import *\n",
    "\n",
    "# import local package\n",
    "import gtsam_example\n",
    "from gtsam_example import SingleValueConstraint\n",
    "\n",
    "variables = Variables()\n",
    "def pretty(obj): \n",
    "    return gtbook.display.pretty(obj, variables)\n",
    "\n",
    "import graphviz\n",
    "class show(graphviz.Source):\n",
    "    \"\"\" Display an object with a dot method as a graph.\"\"\"\n",
    "\n",
    "    def __init__(self, obj):\n",
    "        \"\"\"Construct from object with 'dot' method.\"\"\"\n",
    "        # This small class takes an object, calls its dot function, and uses the\n",
    "        # resulting string to initialize a graphviz.Source instance. This in turn\n",
    "        # has a _repr_mimebundle_ method, which then renders it in the notebook.\n",
    "        super().__init__(obj.dot())"
   ]
  },
  {
   "cell_type": "code",
   "execution_count": 2,
   "metadata": {},
   "outputs": [],
   "source": []
  },
  {
   "cell_type": "code",
   "execution_count": 3,
   "metadata": {},
   "outputs": [],
   "source": []
  },
  {
   "cell_type": "code",
   "execution_count": 4,
   "metadata": {},
   "outputs": [],
   "source": [
    "var1 = variables.discrete(\"var1\", [0, 1, 2, 3, 4])\n",
    "single1 = SingleValueConstraint(var1, 4)"
   ]
  },
  {
   "cell_type": "code",
   "execution_count": 5,
   "metadata": {},
   "outputs": [],
   "source": [
    "single1_tree = single1.toDecisionTreeFactor()"
   ]
  },
  {
   "cell_type": "code",
   "execution_count": 6,
   "metadata": {},
   "outputs": [
    {
     "data": {
      "text/plain": [
       "1.0"
      ]
     },
     "execution_count": 6,
     "metadata": {},
     "output_type": "execute_result"
    }
   ],
   "source": [
    "values = DiscreteValues()\n",
    "values[var1[0]] = 4\n",
    "single1_tree(values)"
   ]
  },
  {
   "cell_type": "code",
   "execution_count": 7,
   "metadata": {},
   "outputs": [
    {
     "data": {
      "text/plain": [
       "1.0"
      ]
     },
     "execution_count": 7,
     "metadata": {},
     "output_type": "execute_result"
    }
   ],
   "source": [
    "single1(values) "
   ]
  },
  {
   "cell_type": "code",
   "execution_count": 27,
   "metadata": {},
   "outputs": [
    {
     "name": "stdout",
     "output_type": "stream",
     "text": [
      "Help on SingleValueConstraint in module gtsam_example.gtsam_example object:\n",
      "\n",
      "class SingleValueConstraint(gtsam.gtsam.DiscreteFactor)\n",
      " |  Method resolution order:\n",
      " |      SingleValueConstraint\n",
      " |      gtsam.gtsam.DiscreteFactor\n",
      " |      pybind11_builtins.pybind11_object\n",
      " |      builtins.object\n",
      " |  \n",
      " |  Methods defined here:\n",
      " |  \n",
      " |  __call__(...)\n",
      " |      __call__(self: gtsam_example.gtsam_example.SingleValueConstraint, arg0: gtsam::DiscreteValues) -> float\n",
      " |  \n",
      " |  __init__(...)\n",
      " |      __init__(*args, **kwargs)\n",
      " |      Overloaded function.\n",
      " |      \n",
      " |      1. __init__(self: gtsam_example.gtsam_example.SingleValueConstraint, key: int, n: int, value: int) -> None\n",
      " |      \n",
      " |      2. __init__(self: gtsam_example.gtsam_example.SingleValueConstraint, dkey: Tuple[int, int], value: int) -> None\n",
      " |  \n",
      " |  __repr__(...)\n",
      " |      __repr__(self: gtsam_example.gtsam_example.SingleValueConstraint, s: str = '', formatter: Callable[[int], str] = <built-in method  of PyCapsule object at 0x7f5208594de0>) -> str\n",
      " |  \n",
      " |  equals(...)\n",
      " |      equals(self: gtsam_example.gtsam_example.SingleValueConstraint, other: gtsam.gtsam.DiscreteFactor, tol: float) -> bool\n",
      " |  \n",
      " |  print(...)\n",
      " |      print(self: gtsam_example.gtsam_example.SingleValueConstraint, s: str = '', formatter: Callable[[int], str] = <built-in method  of PyCapsule object at 0x7f5208594d20>) -> None\n",
      " |  \n",
      " |  toDecisionTreeFactor(...)\n",
      " |      toDecisionTreeFactor(self: gtsam_example.gtsam_example.SingleValueConstraint) -> gtsam.gtsam.DecisionTreeFactor\n",
      " |  \n",
      " |  ----------------------------------------------------------------------\n",
      " |  Methods inherited from gtsam.gtsam.DiscreteFactor:\n",
      " |  \n",
      " |  empty(...)\n",
      " |      empty(self: gtsam.gtsam.DiscreteFactor) -> bool\n",
      " |  \n",
      " |  size(...)\n",
      " |      size(self: gtsam.gtsam.DiscreteFactor) -> int\n",
      " |  \n",
      " |  ----------------------------------------------------------------------\n",
      " |  Static methods inherited from pybind11_builtins.pybind11_object:\n",
      " |  \n",
      " |  __new__(*args, **kwargs) from pybind11_builtins.pybind11_type\n",
      " |      Create and return a new object.  See help(type) for accurate signature.\n",
      "\n"
     ]
    }
   ],
   "source": [
    "help(single1)"
   ]
  },
  {
   "cell_type": "code",
   "execution_count": 3,
   "metadata": {},
   "outputs": [
    {
     "name": "stderr",
     "output_type": "stream",
     "text": [
      ".."
     ]
    },
    {
     "name": "stdout",
     "output_type": "stream",
     "text": [
      "Hello from GTSAM!\n",
      "Here's a Rot3 for you [\n",
      "\t1, 0, 0;\n",
      "\t0, 1, 0;\n",
      "\t0, 0, 1\n",
      "]\n"
     ]
    },
    {
     "name": "stderr",
     "output_type": "stream",
     "text": [
      "\n",
      "----------------------------------------------------------------------\n",
      "Ran 2 tests in 0.001s\n",
      "\n",
      "OK\n"
     ]
    }
   ],
   "source": [
    "class TestExample(GtsamTestCase):\n",
    "\n",
    "    def test_Hello(self):\n",
    "        g = gtsam_example.Greeting()\n",
    "        g.sayHello()\n",
    "\n",
    "    def test_invertRot3(self):\n",
    "        g = gtsam_example.Greeting()\n",
    "        r = gtsam.Rot3()\n",
    "        g.invertRot3(r)\n",
    "\n",
    "if __name__ == '__main__':\n",
    "    unittest.main(argv=['first-arg-is-ignored'], exit=False)"
   ]
  },
  {
   "cell_type": "code",
   "execution_count": null,
   "metadata": {},
   "outputs": [],
   "source": []
  }
 ],
 "metadata": {
  "kernelspec": {
   "display_name": "Python 3",
   "language": "python",
   "name": "python3"
  },
  "language_info": {
   "codemirror_mode": {
    "name": "ipython",
    "version": 3
   },
   "file_extension": ".py",
   "mimetype": "text/x-python",
   "name": "python",
   "nbconvert_exporter": "python",
   "pygments_lexer": "ipython3",
   "version": "3.9.7"
  }
 },
 "nbformat": 4,
 "nbformat_minor": 2
}
